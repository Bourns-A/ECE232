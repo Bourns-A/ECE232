{
 "cells": [
  {
   "cell_type": "markdown",
   "metadata": {},
   "source": [
    "## Part2. Google+ Network"
   ]
  },
  {
   "cell_type": "markdown",
   "metadata": {},
   "source": [
    "#### Question 18"
   ]
  },
  {
   "cell_type": "code",
   "execution_count": 1,
   "metadata": {},
   "outputs": [
    {
     "name": "stderr",
     "output_type": "stream",
     "text": [
      "Warning message:\n",
      "\"package 'igraph' was built under R version 3.6.3\"\n",
      "\n",
      "Attaching package: 'igraph'\n",
      "\n",
      "\n",
      "The following objects are masked from 'package:stats':\n",
      "\n",
      "    decompose, spectrum\n",
      "\n",
      "\n",
      "The following object is masked from 'package:base':\n",
      "\n",
      "    union\n",
      "\n",
      "\n"
     ]
    }
   ],
   "source": [
    "library('igraph')"
   ]
  },
  {
   "cell_type": "code",
   "execution_count": 2,
   "metadata": {},
   "outputs": [
    {
     "name": "stdout",
     "output_type": "stream",
     "text": [
      "[1] \"Total number of personalized network: 132\"\n",
      "[1] \"Total number of personalized network of more than 2 circles: 57\"\n"
     ]
    }
   ],
   "source": [
    "gg_files <- list.files(path = \"gplus\", pattern = \"*.circles\")\n",
    "over_2_gg_count <- 0\n",
    "for (f in gg_files){\n",
    "  f <- paste(\"gplus/\", f, sep = \"\")\n",
    "  if (length(readLines(f)) > 2){\n",
    "    over_2_gg_count <- over_2_gg_count + 1\n",
    "  }\n",
    "}\n",
    "print(paste(\"Total number of personalized network:\", length(gg_files)))\n",
    "print(paste(\"Total number of personalized network of more than 2 circles:\", over_2_gg_count))"
   ]
  },
  {
   "cell_type": "markdown",
   "metadata": {},
   "source": [
    "#### Question 19"
   ]
  },
  {
   "cell_type": "code",
   "execution_count": 3,
   "metadata": {},
   "outputs": [],
   "source": [
    "ID_1 <- \"109327480479767108490\"\n",
    "ID_2 <- \"115625564993990145546\"\n",
    "ID_3 <- \"101373961279443806744\"\n",
    "Persons <- c(ID_1, ID_2, ID_3)"
   ]
  },
  {
   "cell_type": "code",
   "execution_count": 4,
   "metadata": {},
   "outputs": [
    {
     "data": {
      "image/png": "[encoded data removed]",
      "text/plain": [
       "Plot with title \"Out-Degree Distribution of\n",
       "109327480479767108490\""
      ]
     },
     "metadata": {
      "image/png": {
       "height": 420,
       "width": 420
      },
      "text/plain": {
       "height": 420,
       "width": 420
      }
     },
     "output_type": "display_data"
    }
   ],
   "source": [
    "f <- paste(\"gplus/\", ID_1, \".edges\", sep = \"\")\n",
    "g <- read_graph(f, format = \"ncol\")\n",
    "in_deg <- degree(g, mode = \"in\")\n",
    "out_deg <- degree(g, mode = \"out\")\n",
    "par(mfrow = c(1,2))\n",
    "hist(in_deg, breaks = 20, col = 'black', freq = FALSE, \n",
    "    main = paste('In-Degree Distribution of\\n', ID_1, sep = \"\"), cex.main = 0.9,\n",
    "    xlab = \"In degree\", ylab = \"Density\")\n",
    "hist(out_deg, breaks = 20, col = 'black', freq = FALSE, \n",
    "    main = paste('Out-Degree Distribution of\\n', ID_1, sep = \"\"),  cex.main = 0.9,\n",
    "    xlab = \"Out degree\", ylab = \"Density\")"
   ]
  },
  {
   "cell_type": "code",
   "execution_count": 5,
   "metadata": {},
   "outputs": [
    {
     "data": {
      "image/png": "[encoded data removed]",
      "text/plain": [
       "Plot with title \"Out-Degree Distribution of\n",
       "115625564993990145546\""
      ]
     },
     "metadata": {
      "image/png": {
       "height": 420,
       "width": 420
      },
      "text/plain": {
       "height": 420,
       "width": 420
      }
     },
     "output_type": "display_data"
    }
   ],
   "source": [
    "f <- paste(\"gplus/\", ID_2, \".edges\", sep = \"\")\n",
    "g <- read_graph(f, format = \"ncol\")\n",
    "in_deg <- degree(g, mode = \"in\")\n",
    "out_deg <- degree(g, mode = \"out\")\n",
    "par(mfrow = c(1,2))\n",
    "hist(in_deg, breaks = 20, col = 'black', freq = FALSE, \n",
    "    main = paste('In-Degree Distribution of\\n', ID_2, sep = \"\"), cex.main = 0.9,\n",
    "    xlab = \"In degree\", ylab = \"Density\")\n",
    "hist(out_deg, breaks = 20, col = 'black', freq = FALSE, \n",
    "    main = paste('Out-Degree Distribution of\\n', ID_2, sep = \"\"),  cex.main = 0.9,\n",
    "    xlab = \"Out degree\", ylab = \"Density\")"
   ]
  },
  {
   "cell_type": "code",
   "execution_count": 6,
   "metadata": {},
   "outputs": [
    {
     "data": {
      "image/png": "[encoded data removed]",
      "text/plain": [
       "Plot with title \"Out-Degree Distribution of\n",
       "101373961279443806744\""
      ]
     },
     "metadata": {
      "image/png": {
       "height": 420,
       "width": 420
      },
      "text/plain": {
       "height": 420,
       "width": 420
      }
     },
     "output_type": "display_data"
    }
   ],
   "source": [
    "f <- paste(\"gplus/\", ID_3, \".edges\", sep = \"\")\n",
    "g <- read_graph(f, format = \"ncol\")\n",
    "in_deg <- degree(g, mode = \"in\")\n",
    "out_deg <- degree(g, mode = \"out\")\n",
    "par(mfrow = c(1,2))\n",
    "hist(in_deg, breaks = 20, col = 'black', freq = FALSE, \n",
    "    main = paste('In-Degree Distribution of\\n', ID_3, sep = \"\"), cex.main = 0.9,\n",
    "    xlab = \"In degree\", ylab = \"Density\")\n",
    "hist(out_deg, breaks = 20, col = 'black', freq = FALSE, \n",
    "    main = paste('Out-Degree Distribution of\\n', ID_3, sep = \"\"),  cex.main = 0.9,\n",
    "    xlab = \"Out degree\", ylab = \"Density\")"
   ]
  },
  {
   "cell_type": "markdown",
   "metadata": {},
   "source": [
    "#### Question 20"
   ]
  },
  {
   "cell_type": "code",
   "execution_count": 7,
   "metadata": {},
   "outputs": [
    {
     "data": {
      "image/png": "[encoded data removed]",
      "text/plain": [
       "Plot with title \"Community Structure of\n",
       "109327480479767108490\n",
       "Modularity is0.279819399118423\""
      ]
     },
     "metadata": {
      "image/png": {
       "height": 420,
       "width": 420
      },
      "text/plain": {
       "height": 420,
       "width": 420
      }
     },
     "output_type": "display_data"
    }
   ],
   "source": [
    "f <- paste(\"gplus/\", ID_1, \".edges\", sep = \"\")\n",
    "g <- read_graph(f, format = \"ncol\")\n",
    "communities <- cluster_walktrap(g, modularity = TRUE)\n",
    "plot(communities, g, vertex.label = NA, vertex.size = 2, edge.lty = 0,\n",
    "         main = paste('Community Structure of\\n', ID_1,\n",
    "                          '\\nModularity is' , modularity(communities), sep = \"\"))\n",
    "\n",
    "    "
   ]
  },
  {
   "cell_type": "code",
   "execution_count": 8,
   "metadata": {},
   "outputs": [
    {
     "data": {
      "image/png": "[encoded data removed]",
      "text/plain": [
       "Plot with title \"Community Structure of\n",
       "115625564993990145546\n",
       "Modularity is0.323086827993393\""
      ]
     },
     "metadata": {
      "image/png": {
       "height": 420,
       "width": 420
      },
      "text/plain": {
       "height": 420,
       "width": 420
      }
     },
     "output_type": "display_data"
    }
   ],
   "source": [
    "f <- paste(\"gplus/\", ID_2, \".edges\", sep = \"\")\n",
    "g <- read_graph(f, format = \"ncol\")\n",
    "communities <- cluster_walktrap(g, modularity = TRUE)\n",
    "plot(communities, g, vertex.label = NA, vertex.size = 2, edge.lty = 0,\n",
    "         main = paste('Community Structure of\\n', ID_2,\n",
    "                          '\\nModularity is' , modularity(communities), sep = \"\"))\n",
    "\n",
    "    "
   ]
  },
  {
   "cell_type": "code",
   "execution_count": 9,
   "metadata": {},
   "outputs": [
    {
     "data": {
      "image/png": "[encoded data removed]",
      "text/plain": [
       "Plot with title \"Community Structure of\n",
       "101373961279443806744\n",
       "Modularity is0.195091187953949\""
      ]
     },
     "metadata": {
      "image/png": {
       "height": 420,
       "width": 420
      },
      "text/plain": {
       "height": 420,
       "width": 420
      }
     },
     "output_type": "display_data"
    }
   ],
   "source": [
    "f <- paste(\"gplus/\", ID_3, \".edges\", sep = \"\")\n",
    "g <- read_graph(f, format = \"ncol\")\n",
    "communities <- cluster_walktrap(g, modularity = TRUE)\n",
    "plot(communities, g, vertex.label = NA, vertex.size = 2, edge.lty = 0,\n",
    "         main = paste('Community Structure of\\n', ID_3,\n",
    "                          '\\nModularity is' , modularity(communities), sep = \"\"))\n",
    "\n",
    "    "
   ]
  },
  {
   "cell_type": "markdown",
   "metadata": {},
   "source": [
    "#### Question 21"
   ]
  },
  {
   "cell_type": "markdown",
   "metadata": {},
   "source": [
    "##### We will discuss this part in our report"
   ]
  },
  {
   "cell_type": "markdown",
   "metadata": {},
   "source": [
    "#### Question 22"
   ]
  },
  {
   "cell_type": "markdown",
   "metadata": {},
   "source": [
    "##### For the first person"
   ]
  },
  {
   "cell_type": "code",
   "execution_count": 11,
   "metadata": {},
   "outputs": [],
   "source": [
    "f <- paste(\"gplus/\", ID_1, \".circles\", sep = \"\")\n",
    "circles <- readLines(f)\n",
    "\n",
    "circle_nodes <- c()\n",
    "circle_node_count_vector <- rep(0,length(circles))\n",
    "nodes_in_circles <- c()\n",
    "\n",
    "for (i in c(1:length(circles))) {\n",
    "    circle_nodes <- unlist(strsplit(circles[i], \"\\t\"))\n",
    "    circle_nodes <- circle_nodes[-1] # remove the header\n",
    "    circle_node_count_vector[i] <- length(circle_nodes)\n",
    "    \n",
    "    # this loop records all the nodes with circle information in nodes_in_circles vector, preparation for N \n",
    "    for (j in c(1:length(circle_nodes))) { \n",
    "        if (circle_nodes[j] %in% nodes_in_circles == FALSE) {\n",
    "            nodes_in_circles <- c(nodes_in_circles, circle_nodes[j])\n",
    "        }\n",
    "    }         \n",
    "}\n",
    "\n",
    "a <- circle_node_count_vector"
   ]
  },
  {
   "cell_type": "code",
   "execution_count": 35,
   "metadata": {},
   "outputs": [
    {
     "data": {
      "text/html": [
       "<span style=white-space:pre-wrap>'N =  764'</span>"
      ],
      "text/latex": [
       "'N =  764'"
      ],
      "text/markdown": [
       "<span style=white-space:pre-wrap>'N =  764'</span>"
      ],
      "text/plain": [
       "[1] \"N =  764\""
      ]
     },
     "metadata": {},
     "output_type": "display_data"
    }
   ],
   "source": [
    "N <- length(nodes_in_circles)\n",
    "paste('N = ', N)"
   ]
  },
  {
   "cell_type": "code",
   "execution_count": 15,
   "metadata": {},
   "outputs": [],
   "source": [
    "f <- paste(\"gplus/\", ID_1, \".edges\", sep = \"\")\n",
    "g <- read_graph(f, format = \"ncol\")\n",
    "communities <- cluster_walktrap(g, modularity = TRUE)\n",
    "\n",
    "b <- rep(0,length(communities))\n",
    "\n",
    "for (i in c(1:length(V(g)))) {\n",
    "    node_id <- V(g)[i]$name\n",
    "    if (node_id %in% nodes_in_circles) {\n",
    "        community_index <- membership(communities)[[i]] \n",
    "        b[community_index] <- b[community_index] + 1 \n",
    "    }\n",
    "}"
   ]
  },
  {
   "cell_type": "code",
   "execution_count": 16,
   "metadata": {},
   "outputs": [],
   "source": [
    "A_matrix <- matrix(1:(length(circles)*length(communities)), nrow = length(communities))\n",
    "for (j in c(1:length(communities))) {    \n",
    "        community_nodes <- c()\n",
    "    for (k in c(1:length(V(g)))) {\n",
    "        community_index <- membership(communities)[[k]]\n",
    "        if (community_index == j) {\n",
    "            node_id <- V(g)[k]$name\n",
    "            community_nodes <- c(community_nodes, node_id)\n",
    "        }\n",
    "    }\n",
    "    \n",
    "    for (i in c(1:length(circles))) {        \n",
    "        circle_nodes <- unlist(strsplit(circles[i], \"\\t\"))\n",
    "        circle_nodes <- circle_nodes[-1]      \n",
    "\n",
    "        A_matrix[j, i] <- length(intersect(community_nodes, circle_nodes))\n",
    "    }\n",
    "        \n",
    "}"
   ]
  },
  {
   "cell_type": "code",
   "execution_count": 34,
   "metadata": {},
   "outputs": [
    {
     "data": {
      "text/html": [
       "<span style=white-space:pre-wrap>'H(C) =  1.05077934757594'</span>"
      ],
      "text/latex": [
       "'H(C) =  1.05077934757594'"
      ],
      "text/markdown": [
       "<span style=white-space:pre-wrap>'H(C) =  1.05077934757594'</span>"
      ],
      "text/plain": [
       "[1] \"H(C) =  1.05077934757594\""
      ]
     },
     "metadata": {},
     "output_type": "display_data"
    },
    {
     "data": {
      "text/html": [
       "<span style=white-space:pre-wrap>'H(K) =  1.00699108804102'</span>"
      ],
      "text/latex": [
       "'H(K) =  1.00699108804102'"
      ],
      "text/markdown": [
       "<span style=white-space:pre-wrap>'H(K) =  1.00699108804102'</span>"
      ],
      "text/plain": [
       "[1] \"H(K) =  1.00699108804102\""
      ]
     },
     "metadata": {},
     "output_type": "display_data"
    },
    {
     "data": {
      "text/html": [
       "'-------------------------------------'"
      ],
      "text/latex": [
       "'-------------------------------------'"
      ],
      "text/markdown": [
       "'-------------------------------------'"
      ],
      "text/plain": [
       "[1] \"-------------------------------------\""
      ]
     },
     "metadata": {},
     "output_type": "display_data"
    },
    {
     "data": {
      "text/html": [
       "<span style=white-space:pre-wrap>'H(C|K) =  0.142901677053362'</span>"
      ],
      "text/latex": [
       "'H(C\\textbar{}K) =  0.142901677053362'"
      ],
      "text/markdown": [
       "<span style=white-space:pre-wrap>'H(C|K) =  0.142901677053362'</span>"
      ],
      "text/plain": [
       "[1] \"H(C|K) =  0.142901677053362\""
      ]
     },
     "metadata": {},
     "output_type": "display_data"
    },
    {
     "data": {
      "text/html": [
       "<span style=white-space:pre-wrap>'H(K|C) =  0.658882001908203'</span>"
      ],
      "text/latex": [
       "'H(K\\textbar{}C) =  0.658882001908203'"
      ],
      "text/markdown": [
       "<span style=white-space:pre-wrap>'H(K|C) =  0.658882001908203'</span>"
      ],
      "text/plain": [
       "[1] \"H(K|C) =  0.658882001908203\""
      ]
     },
     "metadata": {},
     "output_type": "display_data"
    }
   ],
   "source": [
    "H_C <- -sum(a/N*log(a/N))\n",
    "H_K <- -sum(b/N*log(b/N))\n",
    "paste('H(C) = ', H_C)\n",
    "paste('H(K) = ', H_K)\n",
    "paste('-------------------------------------')\n",
    "H_CK <- 0\n",
    "for (j in c(1:length(communities))) {\n",
    "    for (i in c(1:length(circles))) {\n",
    "        if (A_matrix[j, i] == 0) next\n",
    "        H_CK <- H_CK - A_matrix[j, i]/N*log(A_matrix[j, i]/b[j]) \n",
    "    }\n",
    "}\n",
    "H_KC <- 0\n",
    "for (i in c(1:length(circles))) {\n",
    "    for (j in c(1:length(communities))) {\n",
    "        if (A_matrix[j, i] == 0) next\n",
    "        H_KC <- H_KC - A_matrix[j, i]/N*log(A_matrix[j, i]/a[i])        \n",
    "    }\n",
    "}\n",
    "paste('H(C|K) = ',H_CK)\n",
    "paste('H(K|C) = ',H_KC)"
   ]
  },
  {
   "cell_type": "code",
   "execution_count": 36,
   "metadata": {},
   "outputs": [
    {
     "data": {
      "text/html": [
       "<span style=white-space:pre-wrap>'h =  0.864004105730643'</span>"
      ],
      "text/latex": [
       "'h =  0.864004105730643'"
      ],
      "text/markdown": [
       "<span style=white-space:pre-wrap>'h =  0.864004105730643'</span>"
      ],
      "text/plain": [
       "[1] \"h =  0.864004105730643\""
      ]
     },
     "metadata": {},
     "output_type": "display_data"
    },
    {
     "data": {
      "text/html": [
       "<span style=white-space:pre-wrap>'c =  0.345692320683815'</span>"
      ],
      "text/latex": [
       "'c =  0.345692320683815'"
      ],
      "text/markdown": [
       "<span style=white-space:pre-wrap>'c =  0.345692320683815'</span>"
      ],
      "text/plain": [
       "[1] \"c =  0.345692320683815\""
      ]
     },
     "metadata": {},
     "output_type": "display_data"
    }
   ],
   "source": [
    "h <- 1 - H_CK/H_C\n",
    "c <- 1 - H_KC/H_K\n",
    "paste('h = ', h)\n",
    "paste('c = ', c)"
   ]
  },
  {
   "cell_type": "markdown",
   "metadata": {},
   "source": [
    "##### For the second person"
   ]
  },
  {
   "cell_type": "code",
   "execution_count": 44,
   "metadata": {},
   "outputs": [],
   "source": [
    "f <- paste(\"gplus/\", ID_2, \".circles\", sep = \"\")\n",
    "circles <- readLines(f)\n",
    "\n",
    "circle_nodes <- c()\n",
    "circle_node_count_vector <- rep(0,length(circles))\n",
    "nodes_in_circles <- c()\n",
    "\n",
    "for (i in c(1:length(circles))) {\n",
    "    circle_nodes <- unlist(strsplit(circles[i], \"\\t\"))\n",
    "    circle_nodes <- circle_nodes[-1] # remove the header\n",
    "    circle_node_count_vector[i] <- length(circle_nodes)\n",
    "    \n",
    "    # this loop records all the nodes with circle information in nodes_in_circles vector, preparation for N \n",
    "    for (j in c(1:length(circle_nodes))) { \n",
    "        if (circle_nodes[j] %in% nodes_in_circles == FALSE) {\n",
    "            nodes_in_circles <- c(nodes_in_circles, circle_nodes[j])\n",
    "        }\n",
    "    }         \n",
    "}\n",
    "\n",
    "a <- circle_node_count_vector"
   ]
  },
  {
   "cell_type": "code",
   "execution_count": 45,
   "metadata": {},
   "outputs": [
    {
     "data": {
      "text/html": [
       "<span style=white-space:pre-wrap>'N =  727'</span>"
      ],
      "text/latex": [
       "'N =  727'"
      ],
      "text/markdown": [
       "<span style=white-space:pre-wrap>'N =  727'</span>"
      ],
      "text/plain": [
       "[1] \"N =  727\""
      ]
     },
     "metadata": {},
     "output_type": "display_data"
    }
   ],
   "source": [
    "N <- length(nodes_in_circles)\n",
    "paste('N = ', N)"
   ]
  },
  {
   "cell_type": "code",
   "execution_count": 46,
   "metadata": {},
   "outputs": [],
   "source": [
    "f <- paste(\"gplus/\", ID_2, \".edges\", sep = \"\")\n",
    "g <- read_graph(f, format = \"ncol\")\n",
    "communities <- cluster_walktrap(g, modularity = TRUE)\n",
    "\n",
    "b <- rep(0,length(communities))\n",
    "\n",
    "for (i in c(1:length(V(g)))) {\n",
    "    node_id <- V(g)[i]$name\n",
    "    if (node_id %in% nodes_in_circles) {\n",
    "        community_index <- membership(communities)[[i]] \n",
    "        b[community_index] <- b[community_index] + 1 \n",
    "    }\n",
    "}"
   ]
  },
  {
   "cell_type": "code",
   "execution_count": 47,
   "metadata": {},
   "outputs": [],
   "source": [
    "A_matrix <- matrix(1:(length(circles)*length(communities)), nrow = length(communities))\n",
    "for (j in c(1:length(communities))) {    \n",
    "    community_nodes <- c()\n",
    "    for (k in c(1:length(V(g)))) {\n",
    "        community_index <- membership(communities)[[k]]\n",
    "        if (community_index == j) {\n",
    "            node_id <- V(g)[k]$name\n",
    "            community_nodes <- c(community_nodes, node_id)\n",
    "        }\n",
    "    }\n",
    "    \n",
    "\n",
    "    for (i in c(1:length(circles))) {        \n",
    "        circle_nodes <- unlist(strsplit(circles[i], \"\\t\"))\n",
    "        circle_nodes <- circle_nodes[-1] # remove the header      \n",
    "                 A_matrix[j, i] <- length(intersect(community_nodes, circle_nodes))\n",
    "    }\n",
    "        \n",
    "}"
   ]
  },
  {
   "cell_type": "code",
   "execution_count": 48,
   "metadata": {},
   "outputs": [
    {
     "data": {
      "text/html": [
       "<span style=white-space:pre-wrap>'H(C) =  8.46514668159249'</span>"
      ],
      "text/latex": [
       "'H(C) =  8.46514668159249'"
      ],
      "text/markdown": [
       "<span style=white-space:pre-wrap>'H(C) =  8.46514668159249'</span>"
      ],
      "text/plain": [
       "[1] \"H(C) =  8.46514668159249\""
      ]
     },
     "metadata": {},
     "output_type": "display_data"
    },
    {
     "data": {
      "text/html": [
       "<span style=white-space:pre-wrap>'H(K) =  1.05715052927858'</span>"
      ],
      "text/latex": [
       "'H(K) =  1.05715052927858'"
      ],
      "text/markdown": [
       "<span style=white-space:pre-wrap>'H(K) =  1.05715052927858'</span>"
      ],
      "text/plain": [
       "[1] \"H(K) =  1.05715052927858\""
      ]
     },
     "metadata": {},
     "output_type": "display_data"
    },
    {
     "data": {
      "text/html": [
       "'-------------------------------------'"
      ],
      "text/latex": [
       "'-------------------------------------'"
      ],
      "text/markdown": [
       "'-------------------------------------'"
      ],
      "text/plain": [
       "[1] \"-------------------------------------\""
      ]
     },
     "metadata": {},
     "output_type": "display_data"
    },
    {
     "data": {
      "text/html": [
       "<span style=white-space:pre-wrap>'H(C|K) =  4.71555621215019'</span>"
      ],
      "text/latex": [
       "'H(C\\textbar{}K) =  4.71555621215019'"
      ],
      "text/markdown": [
       "<span style=white-space:pre-wrap>'H(C|K) =  4.71555621215019'</span>"
      ],
      "text/plain": [
       "[1] \"H(C|K) =  4.71555621215019\""
      ]
     },
     "metadata": {},
     "output_type": "display_data"
    },
    {
     "data": {
      "text/html": [
       "<span style=white-space:pre-wrap>'H(K|C) =  4.62579231827161'</span>"
      ],
      "text/latex": [
       "'H(K\\textbar{}C) =  4.62579231827161'"
      ],
      "text/markdown": [
       "<span style=white-space:pre-wrap>'H(K|C) =  4.62579231827161'</span>"
      ],
      "text/plain": [
       "[1] \"H(K|C) =  4.62579231827161\""
      ]
     },
     "metadata": {},
     "output_type": "display_data"
    }
   ],
   "source": [
    "H_C <- -sum(a/N*log(a/N), na.rm = TRUE)\n",
    "H_K <- -sum(b/N*log(b/N), na.rm = TRUE)\n",
    "paste('H(C) = ', H_C)\n",
    "paste('H(K) = ', H_K)\n",
    "paste('-------------------------------------')\n",
    "H_CK <- 0\n",
    "for (j in c(1:length(communities))) {\n",
    "    for (i in c(1:length(circles))) {\n",
    "        if (A_matrix[j, i] == 0) next\n",
    "        H_CK <- H_CK - A_matrix[j, i]/N*log(A_matrix[j, i]/b[j]) \n",
    "    }\n",
    "}\n",
    "H_KC <- 0\n",
    "for (i in c(1:length(circles))) {\n",
    "    for (j in c(1:length(communities))) {\n",
    "        if (A_matrix[j, i] == 0) next\n",
    "        H_KC <- H_KC - A_matrix[j, i]/N*log(A_matrix[j, i]/a[i])\n",
    "    }\n",
    "}\n",
    "paste('H(C|K) = ',H_CK)\n",
    "paste('H(K|C) = ',H_KC)"
   ]
  },
  {
   "cell_type": "code",
   "execution_count": 49,
   "metadata": {},
   "outputs": [
    {
     "data": {
      "text/html": [
       "<span style=white-space:pre-wrap>'h =  0.442944536046352'</span>"
      ],
      "text/latex": [
       "'h =  0.442944536046352'"
      ],
      "text/markdown": [
       "<span style=white-space:pre-wrap>'h =  0.442944536046352'</span>"
      ],
      "text/plain": [
       "[1] \"h =  0.442944536046352\""
      ]
     },
     "metadata": {},
     "output_type": "display_data"
    },
    {
     "data": {
      "text/html": [
       "<span style=white-space:pre-wrap>'c =  -3.37571773381067'</span>"
      ],
      "text/latex": [
       "'c =  -3.37571773381067'"
      ],
      "text/markdown": [
       "<span style=white-space:pre-wrap>'c =  -3.37571773381067'</span>"
      ],
      "text/plain": [
       "[1] \"c =  -3.37571773381067\""
      ]
     },
     "metadata": {},
     "output_type": "display_data"
    }
   ],
   "source": [
    "h <- 1 - H_CK/H_C\n",
    "c <- 1 - H_KC/H_K\n",
    "paste('h = ', h)\n",
    "paste('c = ', c)"
   ]
  },
  {
   "cell_type": "code",
   "execution_count": 50,
   "metadata": {},
   "outputs": [],
   "source": [
    "f <- paste(\"gplus/\", ID_3, \".circles\", sep = \"\")\n",
    "circles <- readLines(f)\n",
    "\n",
    "circle_nodes <- c()\n",
    "circle_node_count_vector <- rep(0,length(circles))\n",
    "nodes_in_circles <- c()\n",
    "\n",
    "for (i in c(1:length(circles))) {\n",
    "    circle_nodes <- unlist(strsplit(circles[i], \"\\t\"))\n",
    "    circle_nodes <- circle_nodes[-1] \n",
    "    circle_node_count_vector[i] <- length(circle_nodes)\n",
    "        for (j in c(1:length(circle_nodes))) { \n",
    "        if (circle_nodes[j] %in% nodes_in_circles == FALSE) {\n",
    "            nodes_in_circles <- c(nodes_in_circles, circle_nodes[j])\n",
    "        }\n",
    "    }         \n",
    "}\n",
    "\n",
    "a <- circle_node_count_vector"
   ]
  },
  {
   "cell_type": "code",
   "execution_count": 51,
   "metadata": {},
   "outputs": [
    {
     "data": {
      "text/html": [
       "<span style=white-space:pre-wrap>'N =  521'</span>"
      ],
      "text/latex": [
       "'N =  521'"
      ],
      "text/markdown": [
       "<span style=white-space:pre-wrap>'N =  521'</span>"
      ],
      "text/plain": [
       "[1] \"N =  521\""
      ]
     },
     "metadata": {},
     "output_type": "display_data"
    }
   ],
   "source": [
    "N <- length(nodes_in_circles)\n",
    "paste('N = ', N)"
   ]
  },
  {
   "cell_type": "code",
   "execution_count": 52,
   "metadata": {},
   "outputs": [],
   "source": [
    "f <- paste(\"gplus/\", ID_3, \".edges\", sep = \"\")\n",
    "g <- read_graph(f, format = \"ncol\")\n",
    "communities <- cluster_walktrap(g, modularity = TRUE)\n",
    "\n",
    "b <- rep(0,length(communities))\n",
    "\n",
    "for (i in c(1:length(V(g)))) {\n",
    "    node_id <- V(g)[i]$name\n",
    "    if (node_id %in% nodes_in_circles) {\n",
    "        community_index <- membership(communities)[[i]] \n",
    "        b[community_index] <- b[community_index] + 1 \n",
    "    }\n",
    "}"
   ]
  },
  {
   "cell_type": "code",
   "execution_count": 53,
   "metadata": {},
   "outputs": [],
   "source": [
    "A_matrix <- matrix(1:(length(circles)*length(communities)), nrow = length(communities))\n",
    "for (j in c(1:length(communities))) {    \n",
    "        community_nodes <- c()\n",
    "    for (k in c(1:length(V(g)))) {\n",
    "        community_index <- membership(communities)[[k]]\n",
    "        if (community_index == j) {\n",
    "            node_id <- V(g)[k]$name\n",
    "            community_nodes <- c(community_nodes, node_id)\n",
    "        }\n",
    "    }\n",
    "    \n",
    "\n",
    "    for (i in c(1:length(circles))) {        \n",
    "        circle_nodes <- unlist(strsplit(circles[i], \"\\t\"))\n",
    "        circle_nodes <- circle_nodes[-1]     \n",
    "        A_matrix[j, i] <- length(intersect(community_nodes, circle_nodes))\n",
    "    }\n",
    "        \n",
    "}"
   ]
  },
  {
   "cell_type": "code",
   "execution_count": 54,
   "metadata": {},
   "outputs": [
    {
     "data": {
      "text/html": [
       "<span style=white-space:pre-wrap>'H(C) =  0.384319958960942'</span>"
      ],
      "text/latex": [
       "'H(C) =  0.384319958960942'"
      ],
      "text/markdown": [
       "<span style=white-space:pre-wrap>'H(C) =  0.384319958960942'</span>"
      ],
      "text/plain": [
       "[1] \"H(C) =  0.384319958960942\""
      ]
     },
     "metadata": {},
     "output_type": "display_data"
    },
    {
     "data": {
      "text/html": [
       "<span style=white-space:pre-wrap>'H(K) =  0.534997219965533'</span>"
      ],
      "text/latex": [
       "'H(K) =  0.534997219965533'"
      ],
      "text/markdown": [
       "<span style=white-space:pre-wrap>'H(K) =  0.534997219965533'</span>"
      ],
      "text/plain": [
       "[1] \"H(K) =  0.534997219965533\""
      ]
     },
     "metadata": {},
     "output_type": "display_data"
    },
    {
     "data": {
      "text/html": [
       "'-------------------------------------'"
      ],
      "text/latex": [
       "'-------------------------------------'"
      ],
      "text/markdown": [
       "'-------------------------------------'"
      ],
      "text/plain": [
       "[1] \"-------------------------------------\""
      ]
     },
     "metadata": {},
     "output_type": "display_data"
    },
    {
     "data": {
      "text/html": [
       "<span style=white-space:pre-wrap>'H(C|K) =  0.38361309902535'</span>"
      ],
      "text/latex": [
       "'H(C\\textbar{}K) =  0.38361309902535'"
      ],
      "text/markdown": [
       "<span style=white-space:pre-wrap>'H(C|K) =  0.38361309902535'</span>"
      ],
      "text/plain": [
       "[1] \"H(C|K) =  0.38361309902535\""
      ]
     },
     "metadata": {},
     "output_type": "display_data"
    },
    {
     "data": {
      "text/html": [
       "<span style=white-space:pre-wrap>'H(K|C) =  1.39594821948167'</span>"
      ],
      "text/latex": [
       "'H(K\\textbar{}C) =  1.39594821948167'"
      ],
      "text/markdown": [
       "<span style=white-space:pre-wrap>'H(K|C) =  1.39594821948167'</span>"
      ],
      "text/plain": [
       "[1] \"H(K|C) =  1.39594821948167\""
      ]
     },
     "metadata": {},
     "output_type": "display_data"
    }
   ],
   "source": [
    "H_C <- -sum(a/N*log(a/N), na.rm = TRUE)\n",
    "H_K <- -sum(b/N*log(b/N), na.rm = TRUE)\n",
    "paste('H(C) = ', H_C)\n",
    "paste('H(K) = ', H_K)\n",
    "paste('-------------------------------------')\n",
    "H_CK <- 0\n",
    "for (j in c(1:length(communities))) {\n",
    "    for (i in c(1:length(circles))) {\n",
    "        if (A_matrix[j, i] == 0) next\n",
    "        H_CK <- H_CK - A_matrix[j, i]/N*log(A_matrix[j, i]/b[j]) \n",
    "    }\n",
    "}\n",
    "H_KC <- 0\n",
    "for (i in c(1:length(circles))) {\n",
    "    for (j in c(1:length(communities))) {\n",
    "        if (A_matrix[j, i] == 0) next\n",
    "        H_KC <- H_KC - A_matrix[j, i]/N*log(A_matrix[j, i]/a[i])\n",
    "    }\n",
    "}\n",
    "paste('H(C|K) = ',H_CK)\n",
    "paste('H(K|C) = ',H_KC)"
   ]
  },
  {
   "cell_type": "code",
   "execution_count": 55,
   "metadata": {},
   "outputs": [
    {
     "data": {
      "text/html": [
       "<span style=white-space:pre-wrap>'h =  0.00183924857169349'</span>"
      ],
      "text/latex": [
       "'h =  0.00183924857169349'"
      ],
      "text/markdown": [
       "<span style=white-space:pre-wrap>'h =  0.00183924857169349'</span>"
      ],
      "text/plain": [
       "[1] \"h =  0.00183924857169349\""
      ]
     },
     "metadata": {},
     "output_type": "display_data"
    },
    {
     "data": {
      "text/html": [
       "<span style=white-space:pre-wrap>'c =  -1.60926256695615'</span>"
      ],
      "text/latex": [
       "'c =  -1.60926256695615'"
      ],
      "text/markdown": [
       "<span style=white-space:pre-wrap>'c =  -1.60926256695615'</span>"
      ],
      "text/plain": [
       "[1] \"c =  -1.60926256695615\""
      ]
     },
     "metadata": {},
     "output_type": "display_data"
    }
   ],
   "source": [
    "h <- 1 - H_CK/H_C\n",
    "c <- 1 - H_KC/H_K\n",
    "paste('h = ', h)\n",
    "paste('c = ', c)"
   ]
  },
  {
   "cell_type": "code",
   "execution_count": null,
   "metadata": {},
   "outputs": [],
   "source": []
  }
 ],
 "metadata": {
  "kernelspec": {
   "display_name": "R",
   "language": "R",
   "name": "ir"
  },
  "language_info": {
   "codemirror_mode": "r",
   "file_extension": ".r",
   "mimetype": "text/x-r-source",
   "name": "R",
   "pygments_lexer": "r",
   "version": "3.6.1"
  }
 },
 "nbformat": 4,
 "nbformat_minor": 4
}
