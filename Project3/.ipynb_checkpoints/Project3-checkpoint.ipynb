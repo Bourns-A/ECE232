{
 "cells": [
  {
   "cell_type": "markdown",
   "metadata": {},
   "source": [
    "# Project3: RL and IRL"
   ]
  },
  {
   "cell_type": "code",
   "execution_count": 1,
   "metadata": {},
   "outputs": [],
   "source": [
    "import numpy as np\n",
    "import matplotlib.pyplot as plt\n",
    "import matplotlib.colors as colors\n",
    "from matplotlib.pyplot import MultipleLocator"
   ]
  },
  {
   "cell_type": "markdown",
   "metadata": {},
   "source": [
    "## Question 1"
   ]
  },
  {
   "cell_type": "code",
   "execution_count": 2,
   "metadata": {},
   "outputs": [],
   "source": [
    "reward_1 = np.zeros((10,10))\n",
    "reward_2 = np.zeros((10,10))\n",
    "reward_1[2:4,5:7] = -10\n",
    "reward_1[4:6,1:3] = -10\n",
    "reward_1[8:10,2:4] = -10\n",
    "reward_1[9,9] = 1\n",
    "reward_2[1:7,4] = -100\n",
    "reward_2[1,5] = -100\n",
    "reward_2[1:9,6] = -100\n",
    "reward_2[3:8,7:9] = -100\n",
    "reward_2[4:7,6:8] = 0\n",
    "reward_2[9,9] = 10"
   ]
  },
  {
   "cell_type": "code",
   "execution_count": 3,
   "metadata": {},
   "outputs": [
    {
     "data": {
      "image/png": "[encoded data removed]",
      "text/plain": [
       "<Figure size 468x360 with 2 Axes>"
      ]
     },
     "metadata": {
      "needs_background": "light"
     },
     "output_type": "display_data"
    },
    {
     "data": {
      "image/png": "[encoded data removed]",
      "text/plain": [
       "<Figure size 468x360 with 2 Axes>"
      ]
     },
     "metadata": {
      "needs_background": "light"
     },
     "output_type": "display_data"
    }
   ],
   "source": [
    "fig, ax1 = plt.subplots(1,1,figsize=(6.5,5))\n",
    "plt.sca(ax1)\n",
    "plt.pcolor(reward_1)\n",
    "ax1.invert_yaxis()\n",
    "plt.title(\"Heat map for reward function 1\")\n",
    "plt.colorbar()\n",
    "\n",
    "fig, ax2 = plt.subplots(1,1,figsize=(6.5,5))\n",
    "plt.sca(ax2)\n",
    "plt.pcolor(reward_2)\n",
    "ax2.invert_yaxis()\n",
    "plt.title(\"Heat map for reward function 2\")\n",
    "plt.colorbar()\n",
    "plt.show()"
   ]
  },
  {
   "cell_type": "markdown",
   "metadata": {},
   "source": [
    "## Question 2"
   ]
  },
  {
   "cell_type": "code",
   "execution_count": 4,
   "metadata": {},
   "outputs": [],
   "source": [
    "action_space = [(-1,0),(1,0),(0,-1),(0,1)]  #respectively up, down, left, right\n",
    "w = 0.1\n",
    "gamma = 0.8\n",
    "reward = reward_1\n",
    "epsilon = 0.01"
   ]
  },
  {
   "cell_type": "code",
   "execution_count": 5,
   "metadata": {},
   "outputs": [],
   "source": [
    "def isValidAction(curr_state, action):  #if remain in the grid, return True; else return false\n",
    "    s_x, s_y = curr_state\n",
    "    a_x, a_y = action\n",
    "    next_x, next_y = (s_x + a_x, s_y + a_y)\n",
    "    if not(0<=next_x<=9) or not(0<=next_y<=9):\n",
    "        return False\n",
    "    else:\n",
    "        return True\n",
    "\n",
    "def get_valid_actions(curr_state):  #return a list of valid actions at current state, and the number of valid actions\n",
    "    valid_actions = []\n",
    "    for action in action_space:\n",
    "        if isValidAction(curr_state, action):\n",
    "            valid_actions.append(action)\n",
    "    number_valid_actions = len(valid_actions)\n",
    "    return (valid_actions, number_valid_actions)\n",
    "    \n",
    "def tuple_add(tuple1,tuple2):\n",
    "    x1, y1 = tuple1\n",
    "    x2, y2 = tuple2\n",
    "    return (x1+x2, y1+y2)"
   ]
  },
  {
   "cell_type": "code",
   "execution_count": 6,
   "metadata": {},
   "outputs": [],
   "source": [
    "def get_max_value_action(curr_state, reward, gamma, value):\n",
    "#curr_state is a tuple, action is a tuple in action_space\n",
    "    v_a, n_v_a = get_valid_actions(curr_state) \n",
    "    #v_a is a list of valid actions at current state, and n_v_a is the number of valid actions\n",
    "    value_list = []\n",
    "    for a in action_space: #For every possible action, in the order of (up, down, left, right)\n",
    "        new_value = 0\n",
    "        \n",
    "        if n_v_a == 4:  #There are 4 valid actions, i.e. at a non-boundary state\n",
    "            intended_next_state = tuple_add(curr_state, a)\n",
    "        elif n_v_a == 3:   #There are 3 valid actions, i.e. at one of the edge states\n",
    "            if isValidAction(curr_state, a):\n",
    "                intended_next_state = tuple_add(curr_state, a)\n",
    "                new_value += w/4 * (reward[curr_state] +\n",
    "                                    gamma * value[curr_state])  # staying\n",
    "            else:\n",
    "                intended_next_state = curr_state\n",
    "                new_value += (1 - w + w/4) * (reward[curr_state] +\n",
    "                                              gamma * value[curr_state])  # staying\n",
    "        else:  #There are 2 valid actions, i.e. at one of the corner states\n",
    "            if isValidAction(curr_state, a):\n",
    "                intended_next_state = tuple_add(curr_state, a)\n",
    "                new_value += (w/4)*2 * (reward[curr_state] +\n",
    "                                        gamma * value[curr_state])  # staying\n",
    "            else:\n",
    "                intended_next_state = curr_state\n",
    "                new_value += (1 - w + w/4 + w/4) * (reward[curr_state] +\n",
    "                                                    gamma * value[curr_state])  # staying\n",
    "        for p_a in v_a: #Consider every possible transition\n",
    "            actual_next_state = tuple_add(curr_state, p_a)\n",
    "            if intended_next_state == actual_next_state:\n",
    "                probability = 1 - w + w/4\n",
    "            else:\n",
    "                probability = w/4\n",
    "            new_value += probability * (reward[actual_next_state] + \n",
    "                                        gamma * value[actual_next_state])\n",
    "        value_list.append(new_value)\n",
    "    max_value = max(value_list)\n",
    "    optimal_action = value_list.index(max_value) \n",
    "    #This is an integer, the optimal action is actually action_space[optimal_action]\n",
    "    \n",
    "    return (max_value, optimal_action)"
   ]
  },
  {
   "cell_type": "code",
   "execution_count": 7,
   "metadata": {},
   "outputs": [],
   "source": [
    "#Value Iteration\n",
    "def optimal_state_value(reward, w, gamma, epsilon):\n",
    "    #Initialization\n",
    "    value = np.zeros(reward.shape)  \n",
    "    optimal_action = np.zeros(reward.shape)\n",
    "    delta = float('inf')\n",
    "    #Estimation\n",
    "    N = 0  #Count the number of iteration steps\n",
    "    while delta > epsilon:  #epsilon is the estimation step\n",
    "        delta = 0\n",
    "        for i in range(reward.shape[0]):\n",
    "            for j in range(reward.shape[1]):\n",
    "                v = value[i][j]\n",
    "                value[i][j], optimal_action[i][j] = get_max_value_action((i,j), reward, gamma, value)\n",
    "                delta = max(delta, abs(v - value[i][j]))\n",
    "        N += 1\n",
    "    return (value, optimal_action, N)"
   ]
  },
  {
   "cell_type": "code",
   "execution_count": 8,
   "metadata": {},
   "outputs": [
    {
     "data": {
      "text/plain": [
       "array([[3., 3., 3., 3., 3., 3., 3., 3., 1., 1.],\n",
       "       [3., 3., 3., 0., 0., 0., 3., 3., 1., 1.],\n",
       "       [0., 0., 0., 0., 0., 0., 3., 3., 1., 1.],\n",
       "       [0., 0., 3., 1., 1., 1., 1., 3., 1., 1.],\n",
       "       [0., 0., 3., 3., 1., 1., 1., 1., 1., 1.],\n",
       "       [1., 1., 3., 3., 1., 1., 1., 1., 1., 1.],\n",
       "       [1., 3., 3., 3., 3., 3., 3., 1., 1., 1.],\n",
       "       [3., 3., 3., 3., 3., 3., 3., 3., 1., 1.],\n",
       "       [0., 0., 0., 3., 3., 3., 3., 3., 3., 1.],\n",
       "       [0., 2., 2., 3., 3., 3., 3., 3., 3., 1.]])"
      ]
     },
     "execution_count": 8,
     "metadata": {},
     "output_type": "execute_result"
    }
   ],
   "source": [
    "# Here, reward = reward_1\n",
    "#action_space = [(-1,0),(1,0),(0,-1),(0,1)]  #respectively up, down, left, right\n",
    "reward = reward_1\n",
    "optimal_value_1, optimal_action_1, iterations_1 = optimal_state_value(reward, w, gamma, epsilon)\n",
    "#optimal_value_1\n",
    "optimal_action_1\n",
    "#iterations_1"
   ]
  },
  {
   "cell_type": "code",
   "execution_count": 9,
   "metadata": {},
   "outputs": [],
   "source": [
    "def optimal_value_plot(value, title=\"\"):\n",
    "    fig, ax = plt.subplots(1,1,figsize=(7,7))\n",
    "    plt.sca(ax)\n",
    "    plt.pcolor(value, cmap = colors.ListedColormap(['white']), edgecolors = 'black')\n",
    "    ax.invert_yaxis()\n",
    "    ax.xaxis.set_ticks_position('top')\n",
    "    major_locator = MultipleLocator(1)\n",
    "    ax.xaxis.set_major_locator(major_locator)\n",
    "    ax.yaxis.set_major_locator(major_locator)\n",
    "    ax.set_title(title)\n",
    "    for i in range(value.shape[0]):\n",
    "        for j in range(value.shape[1]):\n",
    "            plt.text(i+0.5, j+0.5, '%.2f' % value[j,i], horizontalalignment='center',\n",
    "                    verticalalignment='center')"
   ]
  },
  {
   "cell_type": "code",
   "execution_count": 10,
   "metadata": {},
   "outputs": [
    {
     "data": {
      "image/png": "[encoded data removed]",
      "text/plain": [
       "<Figure size 504x504 with 1 Axes>"
      ]
     },
     "metadata": {
      "needs_background": "light"
     },
     "output_type": "display_data"
    }
   ],
   "source": [
    "optimal_value_plot(optimal_value_1, title = \"Optimal state-values for reward function 1\")"
   ]
  },
  {
   "cell_type": "code",
   "execution_count": 11,
   "metadata": {},
   "outputs": [
    {
     "name": "stdout",
     "output_type": "stream",
     "text": [
      "The total number of steps for convergence for reward function 1 is:  21\n",
      "The step numbers are:  [1, 6, 11, 16, 21]\n"
     ]
    }
   ],
   "source": [
    "print(\"The total number of steps for convergence for reward function 1 is: \",iterations_1)\n",
    "print(\"The step numbers are: \",list(np.arange(1,iterations_1+1,5)))"
   ]
  },
  {
   "cell_type": "code",
   "execution_count": null,
   "metadata": {},
   "outputs": [
    {
     "data": {
      "image/png": "[encoded data removed]",
      "text/plain": [
       "<Figure size 504x504 with 1 Axes>"
      ]
     },
     "metadata": {
      "needs_background": "light"
     },
     "output_type": "display_data"
    }
   ],
   "source": [
    "#Get the values at different iteration steps\n",
    "#Initialization\n",
    "value = np.zeros(reward.shape)\n",
    "iteration_steps_list =list(np.arange(1,iterations_1+1,5))\n",
    "value_list = []\n",
    "optimal_action = np.zeros(reward.shape)\n",
    "delta = float('inf')\n",
    "#Estimation\n",
    "N = 0  #Count the number of iteration steps\n",
    "while delta > epsilon:  #epsilon is the estimation step\n",
    "    delta = 0\n",
    "    for i in range(reward.shape[0]):\n",
    "        for j in range(reward.shape[1]):\n",
    "            v = value[i][j]\n",
    "            value[i][j], optimal_action[i][j] = get_max_value_action((i,j), reward, gamma, value)\n",
    "            delta = max(delta, abs(v - value[i][j]))\n",
    "    N += 1\n",
    "    if N in iteration_steps_list:\n",
    "        value_list.append(value)\n",
    "\n",
    "for i in range(len(value_list)):\n",
    "    optimal_value_plot(value_list[i], \n",
    "                       title = \"State-values at N = {} for reward function 1\".format(iteration_steps_list[i]))"
   ]
  },
  {
   "cell_type": "markdown",
   "metadata": {},
   "source": [
    "## Question 3"
   ]
  },
  {
   "cell_type": "code",
   "execution_count": null,
   "metadata": {},
   "outputs": [],
   "source": [
    "fig, ax = plt.subplots(1,1,figsize=(6.5,5))\n",
    "plt.sca(ax)\n",
    "plt.pcolor(optimal_value_1)\n",
    "ax.invert_yaxis()\n",
    "plt.title(\"Heat map of optimal state values for reward function 1\")\n",
    "plt.colorbar()\n",
    "plt.show()"
   ]
  },
  {
   "cell_type": "markdown",
   "metadata": {},
   "source": [
    "## Question 4"
   ]
  },
  {
   "cell_type": "markdown",
   "metadata": {},
   "source": [
    "**See the report**"
   ]
  },
  {
   "cell_type": "markdown",
   "metadata": {},
   "source": [
    "## Question 5"
   ]
  },
  {
   "cell_type": "code",
   "execution_count": null,
   "metadata": {},
   "outputs": [],
   "source": [
    "action_arrows = ['↑','↓','←','→']\n",
    "def optimal_action_plot(optimal_action, title=\"\"):\n",
    "    fig, ax = plt.subplots(1,1,figsize=(7,7))\n",
    "    plt.sca(ax)\n",
    "    plt.pcolor(optimal_action, cmap = colors.ListedColormap(['white']), edgecolors = 'black')\n",
    "    ax.invert_yaxis()\n",
    "    ax.xaxis.set_ticks_position('top')\n",
    "    major_locator = MultipleLocator(1)\n",
    "    ax.xaxis.set_major_locator(major_locator)\n",
    "    ax.yaxis.set_major_locator(major_locator)\n",
    "    ax.set_title(title)\n",
    "    for i in range(optimal_action.shape[0]):\n",
    "        for j in range(optimal_action.shape[1]):\n",
    "            plt.text(i+0.5, j+0.5, action_arrows[int(optimal_action[j][i])], horizontalalignment='center',\n",
    "                    verticalalignment='center')"
   ]
  },
  {
   "cell_type": "code",
   "execution_count": null,
   "metadata": {},
   "outputs": [],
   "source": [
    "optimal_action_plot(optimal_action_1, title = \"Optimal actions for reward function 1(w = 0.1)\")"
   ]
  },
  {
   "cell_type": "markdown",
   "metadata": {},
   "source": [
    "## Question 6"
   ]
  },
  {
   "cell_type": "code",
   "execution_count": null,
   "metadata": {},
   "outputs": [],
   "source": [
    "# Here, reward = reward_2\n",
    "#action_space = [(-1,0),(1,0),(0,-1),(0,1)]  #respectively up, down, left, right\n",
    "reward = reward_2\n",
    "optimal_value_2, optimal_action_2, iterations_2 = optimal_state_value(reward, w, gamma, epsilon)\n",
    "#optimal_value_2\n",
    "optimal_action_2\n",
    "#iterations_2"
   ]
  },
  {
   "cell_type": "code",
   "execution_count": null,
   "metadata": {},
   "outputs": [],
   "source": [
    "optimal_value_plot(optimal_value_2, title = \"Optimal state-values for reward function 2\")"
   ]
  },
  {
   "cell_type": "markdown",
   "metadata": {},
   "source": [
    "## Question 7"
   ]
  },
  {
   "cell_type": "code",
   "execution_count": null,
   "metadata": {},
   "outputs": [],
   "source": [
    "fig, ax = plt.subplots(1,1,figsize=(6.5,5))\n",
    "plt.sca(ax)\n",
    "plt.pcolor(optimal_value_2)\n",
    "ax.invert_yaxis()\n",
    "plt.title(\"Heat map of optimal state values for reward function 2\")\n",
    "plt.colorbar()\n",
    "plt.show()"
   ]
  },
  {
   "cell_type": "markdown",
   "metadata": {},
   "source": [
    "## Question 8"
   ]
  },
  {
   "cell_type": "code",
   "execution_count": null,
   "metadata": {},
   "outputs": [],
   "source": [
    "optimal_action_plot(optimal_action_2, title = \"Optimal actions for reward function 2(w = 0.1)\")"
   ]
  },
  {
   "cell_type": "markdown",
   "metadata": {},
   "source": [
    "## Question 9"
   ]
  },
  {
   "cell_type": "code",
   "execution_count": null,
   "metadata": {},
   "outputs": [],
   "source": [
    "reward = reward_1\n",
    "w = 0.6\n",
    "optimal_value_1, optimal_action_1, iterations_1 = optimal_state_value(reward, w, gamma, epsilon)\n",
    "optimal_action_plot(optimal_action_1, title = \"Optimal actions for reward function 1(w = 0.6)\")"
   ]
  },
  {
   "cell_type": "code",
   "execution_count": null,
   "metadata": {},
   "outputs": [],
   "source": [
    "reward = reward_2\n",
    "w = 0.6\n",
    "optimal_value_2, optimal_action_2, iterations_2 = optimal_state_value(reward, w, gamma, epsilon)\n",
    "optimal_action_plot(optimal_action_2, title = \"Optimal actions for reward function 2(w = 0.6)\")"
   ]
  },
  {
   "cell_type": "code",
   "execution_count": null,
   "metadata": {},
   "outputs": [],
   "source": [
    "optimal_value_plot(reward_1, title = \"reward function 1\")\n",
    "optimal_value_plot(reward_2, title = \"reward function 2\")"
   ]
  },
  {
   "cell_type": "markdown",
   "metadata": {},
   "source": [
    "对比一下我感觉是w=0.1要好些"
   ]
  },
  {
   "cell_type": "markdown",
   "metadata": {},
   "source": [
    "## Question 10"
   ]
  },
  {
   "cell_type": "markdown",
   "metadata": {},
   "source": [
    "**We will disscuss this part in Report**"
   ]
  },
  {
   "cell_type": "markdown",
   "metadata": {},
   "source": [
    "## Question 11"
   ]
  },
  {
   "cell_type": "code",
   "execution_count": null,
   "metadata": {},
   "outputs": [],
   "source": [
    "from cvxopt import solvers, matrix\n",
    "import pandas as pd\n",
    "import numpy.matlib\n",
    "solvers.options['show_progress'] = False\n",
    "\n",
    "# def get_next_state(r, c, executed_action, state_shape):\n",
    "#     # Case where the resulting action is \"up\"\n",
    "#     if executed_action == 0:\n",
    "#         next_r, next_c = (max(r-1,0), c)\n",
    "#     # Case where the resulting action is \"left\"\n",
    "#     elif executed_action == 1:\n",
    "#         next_r, next_c = (r, max(c-1,0))\n",
    "#     # Case where the resulting action is \"down\"\n",
    "#     elif executed_action == 2:\n",
    "#         next_r, next_c = (min(r+1, state_shape[0]-1), c)\n",
    "#     # Case where the resulting action is \"right\"\n",
    "#     elif executed_action == 3:\n",
    "#         next_r, next_c = (r, min(c+1, state_shape[1]-1))\n",
    "#     return (next_r, next_c)\n",
    "\n",
    "# def get_matrix_from_policy(policy, num_actions, w):\n",
    "#     transition_matrix = np.zeros((len(policy)*len(policy[0]), len(policy)*len(policy[0])))\n",
    "#     for r in range(policy.shape[0]):\n",
    "#         for c in range(policy.shape[1]):\n",
    "#             cur_state_index = r + c*policy.shape[0]\n",
    "#             opt_action = policy[r][c]\n",
    "#             for ex in range(num_actions):\n",
    "#                 next_r, next_c = get_next_state(r,c,ex,policy.shape)\n",
    "#                 trans_prob = w/4\n",
    "#                 if ex == opt_action:\n",
    "#                     trans_prob +=  (1-w)\n",
    "#                 next_state_index = next_r + next_c*policy.shape[0]\n",
    "#                 transition_matrix[cur_state_index][next_state_index] += trans_prob\n",
    "#     return transition_matrix    \n",
    "\n",
    "def get_matrix_from_policy(policy, w):\n",
    "    transition_matrix = np.zeros((len(policy)*len(policy[0]), len(policy)*len(policy[0])))\n",
    "    for r in range(0, 10):\n",
    "        for c in range(0, 10):\n",
    "            curr_state = (r, c)\n",
    "            curr_state_index = r+c*policy.shape[1]\n",
    "            v_a, n_v_a = get_valid_actions(curr_state) \n",
    "            for a in action_space: \n",
    "                if n_v_a == 4:  \n",
    "                    intended_next_state = tuple_add(curr_state, a)\n",
    "                elif n_v_a == 3:   \n",
    "                    if isValidAction(curr_state, a):\n",
    "                        intended_next_state = tuple_add(curr_state, a)     \n",
    "                    else:\n",
    "                        intended_next_state = curr_state\n",
    "                else:  \n",
    "                    if isValidAction(curr_state, a):\n",
    "                        intended_next_state = tuple_add(curr_state, a)\n",
    "                    else:\n",
    "                        intended_next_state = curr_state\n",
    "                for p_a in v_a: \n",
    "                    actual_next_state = tuple_add(curr_state, p_a)\n",
    "                    if intended_next_state == actual_next_state:\n",
    "                        probability = 1 - w + w/4\n",
    "                    else:\n",
    "                        probability = w/4\n",
    "            next_state_index = intended_next_state[0]+intended_next_state[1]*policy.shape[1]\n",
    "            transition_matrix[curr_state_index][next_state_index]+=probability\n",
    "    return transition_matrix\n",
    "                \n",
    "# def policy_diff_matrix(P_a1, P_a2,gamma):\n",
    "#     return np.dot((P_a1-P_a2), np.linalg.inv(np.identity(P_a1.shape[0])-gamma*P_a1))\n",
    "\n",
    "def policy_diff_matrix(P_a1, P_a2, gamma):\n",
    "    return np.dot((P_a1-P_a2), np.linalg.inv(np.identity(P_a1.shape[0])-gamma*P_a1))\n",
    "               \n",
    "def LP_params(opt_policy, r_max, gamma, random_action_probility):\n",
    "#     P_a1 = get_matrix_from_policy(opt_policy, num_actions, random_action_probility)\n",
    "#     P_a2 = get_matrix_from_policy(np.mod(opt_policy+1, num_actions), num_actions, random_action_probility)\n",
    "#     P_a3 = get_matrix_from_policy(np.mod(opt_policy+2, num_actions), num_actions, random_action_probility)\n",
    "#     P_a4 = get_matrix_from_policy(np.mod(opt_policy+3, num_actions), num_actions, random_action_probility)\n",
    "    P_a1 = get_matrix_from_policy(opt_policy, random_action_probility)\n",
    "    P_a2 = np.matlib.rand((len(opt_policy)*len(opt_policy[0]), len(opt_policy)*len(opt_policy[0])))\n",
    "    P_a3 = np.matlib.rand((len(opt_policy)*len(opt_policy[0]), len(opt_policy)*len(opt_policy[0])))\n",
    "    P_a4 = np.matlib.rand((len(opt_policy)*len(opt_policy[0]), len(opt_policy)*len(opt_policy[0])))\n",
    "    \n",
    "    N = np.ma.size(opt_policy)\n",
    "    I_NxN = np.identity(N)\n",
    "    zero_NxN = np.zeros((N, N))\n",
    "    \n",
    "#     D_row_1 = np.concatenate([I_NxN, zero_NxN, -policy_diff_matrix(P_a1, gamma)],axis=1)\n",
    "#     D_row_2 = np.concatenate([I_NxN, zero_NxN, -policy_diff_matrix(P_a1, gamma)],axis=1)\n",
    "#     D_row_3 = np.concatenate([I_NxN, zero_NxN, -policy_diff_matrix(P_a1, gamma)],axis=1)\n",
    "#     D_row_4 = np.concatenate([zero_NxN, zero_NxN, -policy_diff_matrix(P_a1, gamma)],axis=1)\n",
    "#     D_row_5 = np.concatenate([zero_NxN, zero_NxN, -policy_diff_matrix(P_a1, gamma)],axis=1)\n",
    "#     D_row_6 = np.concatenate([zero_NxN, zero_NxN, -policy_diff_matrix(P_a1, gamma)],axis=1)\n",
    "#     D_row_7 = np.concatenate([zero_NxN, -I_NxN, I_NxN],axis=1)\n",
    "#     D_row_8 = np.concatenate([zero_NxN, -I_NxN, -I_NxN],axis=1)\n",
    "#     D_row_9 = np.concatenate([zero_NxN, zero_NxN, I_NxN],axis=1)\n",
    "#     D_row_10 = np.concatenate([zero_NxN, zero_NxN, -I_NxN],axis=1)\n",
    "    \n",
    "    D_row_1 = np.concatenate([-policy_diff_matrix(P_a1, P_a2, gamma), I_NxN, zero_NxN],axis=1)\n",
    "    D_row_2 = np.concatenate([-policy_diff_matrix(P_a1, P_a3, gamma), I_NxN, zero_NxN],axis=1)\n",
    "    D_row_3 = np.concatenate([-policy_diff_matrix(P_a1, P_a4, gamma), I_NxN, zero_NxN],axis=1)\n",
    "    D_row_4 = np.concatenate([-policy_diff_matrix(P_a1, P_a2, gamma), zero_NxN, zero_NxN],axis=1)\n",
    "    D_row_5 = np.concatenate([-policy_diff_matrix(P_a1, P_a3, gamma), zero_NxN, zero_NxN],axis=1)\n",
    "    D_row_6 = np.concatenate([-policy_diff_matrix(P_a1, P_a4, gamma), zero_NxN, zero_NxN],axis=1)\n",
    "    D_row_7 = np.concatenate([I_NxN, zero_NxN, -I_NxN],axis=1)\n",
    "    D_row_8 = np.concatenate([-I_NxN, zero_NxN, -I_NxN],axis=1)\n",
    "    D_row_9 = np.concatenate([I_NxN, zero_NxN, zero_NxN],axis=1)\n",
    "    D_row_10 = np.concatenate([-I_NxN, zero_NxN, zero_NxN],axis=1)\n",
    "    \n",
    "    D_rows =  [D_row_1,D_row_2,D_row_3,D_row_4,D_row_5,D_row_6,D_row_7,D_row_8,D_row_9,D_row_10]\n",
    "    D = np.concatenate(D_rows,axis=0)\n",
    "    \n",
    "    b = np.concatenate([np.zeros((8*N, 1)), r_max*np.ones((2*N, 1))])\n",
    "    return D, b"
   ]
  },
  {
   "cell_type": "code",
   "execution_count": null,
   "metadata": {},
   "outputs": [],
   "source": [
    "w = 0.1\n",
    "gamma = 0.8\n",
    "epsilon = 0.01\n",
    "\n",
    "V_1, P_1, _ = optimal_state_value(reward_1, w, gamma, epsilon)\n",
    "D, b = LP_params(optimal_action_1, 1, gamma, w)"
   ]
  },
  {
   "cell_type": "code",
   "execution_count": null,
   "metadata": {},
   "outputs": [],
   "source": [
    "#optimal_state_value(reward, w, gamma, epsilon)\n",
    "#optimal_value_1, optimal_action_1, iterations_1 = optimal_state_value(reward, w, gamma, epsilon)\n",
    "accuracies_1 = np.zeros(500)\n",
    "N = np.ma.size(optimal_action_1)\n",
    "for i, L1 in enumerate(np.linspace(0, 5, 500)):\n",
    "    c = np.concatenate([np.zeros((N,)), np.ones((N,)), -L1*np.ones((N,))])    \n",
    "    sol = solvers.lp(matrix(-c), matrix(D), matrix(b))\n",
    "    opt_x = np.array(sol['x'])\n",
    "    R = np.transpose(np.reshape(opt_x[200:],(10, 10)))\n",
    "    v, p, _ = optimal_state_value(R, w, gamma, epsilon)\n",
    "    accuracy = np.sum(optimal_action_1==p)/p.size\n",
    "    accuracies_1[i]=accuracy"
   ]
  },
  {
   "cell_type": "code",
   "execution_count": null,
   "metadata": {},
   "outputs": [],
   "source": [
    "plt.plot(np.linspace(0,5,500),accuracies_1)\n",
    "plt.xlabel('Lambda')\n",
    "plt.ylabel('Accuracy of Derived Policy')\n",
    "plt.show()"
   ]
  },
  {
   "cell_type": "code",
   "execution_count": null,
   "metadata": {},
   "outputs": [],
   "source": []
  },
  {
   "cell_type": "code",
   "execution_count": null,
   "metadata": {},
   "outputs": [],
   "source": []
  },
  {
   "cell_type": "code",
   "execution_count": null,
   "metadata": {},
   "outputs": [],
   "source": []
  },
  {
   "cell_type": "code",
   "execution_count": null,
   "metadata": {},
   "outputs": [],
   "source": [
    "V_2, P_2, _ = optimal_state_value(reward_2, w, gamma, epsilon)\n",
    "w = 0.1\n",
    "gamma = 0.8\n",
    "epsilon = 0.01\n",
    "D, b = LP_params(P_2, 10, gamma, w)\n",
    "\n",
    "accuracies_2 = np.zeros(500)\n",
    "N=100\n",
    "for i, L2 in enumerate(np.linspace(0, 5, 500)):\n",
    "    c = np.concatenate([np.ones((N,)), -L2*np.ones((N,)), np.zeros((N,))])    \n",
    "    sol = solvers.lp(matrix(-c), matrix(D), matrix(b))\n",
    "    opt_x = np.array(sol['x'])\n",
    "    R = np.transpose(np.reshape(opt_x[200:],(10, 10)))\n",
    "    v, p, _ = optimal_state_value(R, w, gamma, epsilon)\n",
    "    accuracy = np.sum(optimal_action_2==p)/p.size\n",
    "    accuracies_2[i]=accuracy\n"
   ]
  },
  {
   "cell_type": "code",
   "execution_count": null,
   "metadata": {},
   "outputs": [],
   "source": [
    "plt.plot(np.linspace(0,5,500),accuracies_2)\n",
    "plt.xlabel('Lambda')\n",
    "plt.ylabel('Accuracy of Derived Policy')\n",
    "plt.show()"
   ]
  },
  {
   "cell_type": "code",
   "execution_count": null,
   "metadata": {},
   "outputs": [],
   "source": []
  },
  {
   "cell_type": "code",
   "execution_count": null,
   "metadata": {},
   "outputs": [],
   "source": []
  }
 ],
 "metadata": {
  "kernelspec": {
   "display_name": "Python 3",
   "language": "python",
   "name": "python3"
  },
  "language_info": {
   "codemirror_mode": {
    "name": "ipython",
    "version": 3
   },
   "file_extension": ".py",
   "mimetype": "text/x-python",
   "name": "python",
   "nbconvert_exporter": "python",
   "pygments_lexer": "ipython3",
   "version": "3.7.6"
  }
 },
 "nbformat": 4,
 "nbformat_minor": 4
}
