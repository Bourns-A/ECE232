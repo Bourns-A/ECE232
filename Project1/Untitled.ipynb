{
 "cells": [
  {
   "cell_type": "code",
   "execution_count": 10,
   "metadata": {},
   "outputs": [
    {
     "ename": "ERROR",
     "evalue": "Error in library(\"/Users/bournsh/Downloads/igraph\"): there is no package called ‘/Users/bournsh/Downloads/igraph’\n",
     "output_type": "error",
     "traceback": [
      "Error in library(\"/Users/bournsh/Downloads/igraph\"): there is no package called ‘/Users/bournsh/Downloads/igraph’\nTraceback:\n",
      "1. library(\"/Users/bournsh/Downloads/igraph\")"
     ]
    }
   ],
   "source": [
    "if(!require('igraph')) install.packages('igraph')\n",
    "library('igraph')"
   ]
  },
  {
   "cell_type": "code",
   "execution_count": 11,
   "metadata": {},
   "outputs": [
    {
     "ename": "ERROR",
     "evalue": "Error in sample_pa(n = 1000, m = 1, directed = FALSE): could not find function \"sample_pa\"\n",
     "output_type": "error",
     "traceback": [
      "Error in sample_pa(n = 1000, m = 1, directed = FALSE): could not find function \"sample_pa\"\nTraceback:\n"
     ]
    }
   ],
   "source": [
    "set.seed(0)\n",
    "g_1000 <- sample_pa(n = 1000, m = 1, directed = FALSE)\n",
    "is.connected(g_1000)\n",
    "mean(degree(g_1000))\n",
    "g_1000 <- set.graph.attribute(g_1000, \"layout\", layout.fruchterman.reingold(g_1000))\n",
    "plot(g_1000, vertex.label=\"\", vertex.size=2, main = \"1000-node preferential attachment graph\")\n"
   ]
  },
  {
   "cell_type": "code",
   "execution_count": null,
   "metadata": {},
   "outputs": [],
   "source": []
  },
  {
   "cell_type": "code",
   "execution_count": null,
   "metadata": {},
   "outputs": [],
   "source": []
  }
 ],
 "metadata": {
  "kernelspec": {
   "display_name": "R",
   "language": "R",
   "name": "ir"
  },
  "language_info": {
   "codemirror_mode": "r",
   "file_extension": ".r",
   "mimetype": "text/x-r-source",
   "name": "R",
   "pygments_lexer": "r",
   "version": "3.6.1"
  }
 },
 "nbformat": 4,
 "nbformat_minor": 4
}
