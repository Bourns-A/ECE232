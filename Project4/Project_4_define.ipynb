{
 "cells": [
  {
   "cell_type": "markdown",
   "metadata": {},
   "source": [
    "## Part 2: Uber Dataset"
   ]
  },
  {
   "cell_type": "code",
   "execution_count": 1,
   "metadata": {},
   "outputs": [],
   "source": [
    "import csv\n",
    "import json\n",
    "import matplotlib.pyplot as plt\n",
    "import numpy as np\n",
    "import pandas as pd\n",
    "from scipy.spatial import Delaunay\n",
    "from scipy.spatial import distance\n",
    "from igraph import *\n",
    "import matplotlib.pyplot as plt\n",
    "import json\n",
    "import numpy as np\n",
    "import os\n",
    "import random\n",
    "import math"
   ]
  },
  {
   "cell_type": "markdown",
   "metadata": {},
   "source": [
    "### Q6"
   ]
  },
  {
   "cell_type": "markdown",
   "metadata": {},
   "source": [
    "#### create graph"
   ]
  },
  {
   "cell_type": "code",
   "execution_count": 2,
   "metadata": {},
   "outputs": [],
   "source": [
    "directory = os.path.abspath('/Users/bournsh/Desktop/UCLA_Studying/2020spring/ECE232/Project4/data')#\n",
    "df = pd.read_csv(directory + '/los_angeles-censustracts-2019-4-All-MonthlyAggregate.csv')"
   ]
  },
  {
   "cell_type": "code",
   "execution_count": 3,
   "metadata": {},
   "outputs": [
    {
     "data": {
      "text/html": [
       "<div>\n",
       "<style scoped>\n",
       "    .dataframe tbody tr th:only-of-type {\n",
       "        vertical-align: middle;\n",
       "    }\n",
       "\n",
       "    .dataframe tbody tr th {\n",
       "        vertical-align: top;\n",
       "    }\n",
       "\n",
       "    .dataframe thead th {\n",
       "        text-align: right;\n",
       "    }\n",
       "</style>\n",
       "<table border=\"1\" class=\"dataframe\">\n",
       "  <thead>\n",
       "    <tr style=\"text-align: right;\">\n",
       "      <th></th>\n",
       "      <th>sourceid</th>\n",
       "      <th>dstid</th>\n",
       "      <th>month</th>\n",
       "      <th>mean_travel_time</th>\n",
       "      <th>standard_deviation_travel_time</th>\n",
       "      <th>geometric_mean_travel_time</th>\n",
       "      <th>geometric_standard_deviation_travel_time</th>\n",
       "    </tr>\n",
       "  </thead>\n",
       "  <tbody>\n",
       "    <tr>\n",
       "      <th>0</th>\n",
       "      <td>17</td>\n",
       "      <td>296</td>\n",
       "      <td>10</td>\n",
       "      <td>1109.36</td>\n",
       "      <td>492.50</td>\n",
       "      <td>1021.90</td>\n",
       "      <td>1.48</td>\n",
       "    </tr>\n",
       "    <tr>\n",
       "      <th>1</th>\n",
       "      <td>28</td>\n",
       "      <td>186</td>\n",
       "      <td>10</td>\n",
       "      <td>1625.16</td>\n",
       "      <td>475.09</td>\n",
       "      <td>1565.73</td>\n",
       "      <td>1.30</td>\n",
       "    </tr>\n",
       "    <tr>\n",
       "      <th>2</th>\n",
       "      <td>758</td>\n",
       "      <td>972</td>\n",
       "      <td>12</td>\n",
       "      <td>953.55</td>\n",
       "      <td>269.46</td>\n",
       "      <td>916.93</td>\n",
       "      <td>1.33</td>\n",
       "    </tr>\n",
       "    <tr>\n",
       "      <th>3</th>\n",
       "      <td>1212</td>\n",
       "      <td>547</td>\n",
       "      <td>10</td>\n",
       "      <td>2053.39</td>\n",
       "      <td>648.63</td>\n",
       "      <td>1953.97</td>\n",
       "      <td>1.37</td>\n",
       "    </tr>\n",
       "    <tr>\n",
       "      <th>4</th>\n",
       "      <td>1299</td>\n",
       "      <td>1221</td>\n",
       "      <td>11</td>\n",
       "      <td>1467.54</td>\n",
       "      <td>539.64</td>\n",
       "      <td>1370.82</td>\n",
       "      <td>1.45</td>\n",
       "    </tr>\n",
       "  </tbody>\n",
       "</table>\n",
       "</div>"
      ],
      "text/plain": [
       "   sourceid  dstid  month  mean_travel_time  standard_deviation_travel_time  \\\n",
       "0        17    296     10           1109.36                          492.50   \n",
       "1        28    186     10           1625.16                          475.09   \n",
       "2       758    972     12            953.55                          269.46   \n",
       "3      1212    547     10           2053.39                          648.63   \n",
       "4      1299   1221     11           1467.54                          539.64   \n",
       "\n",
       "   geometric_mean_travel_time  geometric_standard_deviation_travel_time  \n",
       "0                     1021.90                                      1.48  \n",
       "1                     1565.73                                      1.30  \n",
       "2                      916.93                                      1.33  \n",
       "3                     1953.97                                      1.37  \n",
       "4                     1370.82                                      1.45  "
      ]
     },
     "execution_count": 3,
     "metadata": {},
     "output_type": "execute_result"
    }
   ],
   "source": [
    "df.head()"
   ]
  },
  {
   "cell_type": "code",
   "execution_count": 4,
   "metadata": {},
   "outputs": [],
   "source": [
    "df = df.iloc[:, 0:4]\n",
    "df = df.loc[df['month']==12]\n",
    "dec_df = df.drop(['month'], axis=1)\n"
   ]
  },
  {
   "cell_type": "code",
   "execution_count": 5,
   "metadata": {},
   "outputs": [
    {
     "data": {
      "text/html": [
       "<div>\n",
       "<style scoped>\n",
       "    .dataframe tbody tr th:only-of-type {\n",
       "        vertical-align: middle;\n",
       "    }\n",
       "\n",
       "    .dataframe tbody tr th {\n",
       "        vertical-align: top;\n",
       "    }\n",
       "\n",
       "    .dataframe thead th {\n",
       "        text-align: right;\n",
       "    }\n",
       "</style>\n",
       "<table border=\"1\" class=\"dataframe\">\n",
       "  <thead>\n",
       "    <tr style=\"text-align: right;\">\n",
       "      <th></th>\n",
       "      <th>sourceid</th>\n",
       "      <th>dstid</th>\n",
       "      <th>mean_travel_time</th>\n",
       "    </tr>\n",
       "  </thead>\n",
       "  <tbody>\n",
       "    <tr>\n",
       "      <th>2</th>\n",
       "      <td>758</td>\n",
       "      <td>972</td>\n",
       "      <td>953.55</td>\n",
       "    </tr>\n",
       "    <tr>\n",
       "      <th>5</th>\n",
       "      <td>1197</td>\n",
       "      <td>2006</td>\n",
       "      <td>1213.18</td>\n",
       "    </tr>\n",
       "    <tr>\n",
       "      <th>6</th>\n",
       "      <td>2652</td>\n",
       "      <td>620</td>\n",
       "      <td>828.92</td>\n",
       "    </tr>\n",
       "    <tr>\n",
       "      <th>7</th>\n",
       "      <td>2427</td>\n",
       "      <td>2693</td>\n",
       "      <td>1742.80</td>\n",
       "    </tr>\n",
       "    <tr>\n",
       "      <th>8</th>\n",
       "      <td>2653</td>\n",
       "      <td>610</td>\n",
       "      <td>699.03</td>\n",
       "    </tr>\n",
       "  </tbody>\n",
       "</table>\n",
       "</div>"
      ],
      "text/plain": [
       "   sourceid  dstid  mean_travel_time\n",
       "2       758    972            953.55\n",
       "5      1197   2006           1213.18\n",
       "6      2652    620            828.92\n",
       "7      2427   2693           1742.80\n",
       "8      2653    610            699.03"
      ]
     },
     "execution_count": 5,
     "metadata": {},
     "output_type": "execute_result"
    }
   ],
   "source": [
    "dec_df.head()"
   ]
  },
  {
   "cell_type": "code",
   "execution_count": 6,
   "metadata": {},
   "outputs": [],
   "source": [
    "init_dec_df = dec_df.copy()\n",
    "init_dec_df['sourceid'] = init_dec_df['sourceid'].astype(str)\n",
    "init_dec_df['dstid'] = init_dec_df['dstid'].astype(str)"
   ]
  },
  {
   "cell_type": "code",
   "execution_count": 7,
   "metadata": {},
   "outputs": [],
   "source": [
    "tuples_init = [tuple(x) for x in init_dec_df.values]\n",
    "g_init = Graph.TupleList(tuples_init, directed = False, edge_attrs = 'weight')"
   ]
  },
  {
   "cell_type": "code",
   "execution_count": 8,
   "metadata": {},
   "outputs": [
    {
     "name": "stdout",
     "output_type": "stream",
     "text": [
      "IGRAPH UNW- 2649 1692450 -- \n",
      "+ attr: name (v), weight (e)\n"
     ]
    }
   ],
   "source": [
    "summary(g_init)"
   ]
  },
  {
   "cell_type": "markdown",
   "metadata": {},
   "source": [
    "#### clear the duplicates"
   ]
  },
  {
   "cell_type": "code",
   "execution_count": 9,
   "metadata": {},
   "outputs": [],
   "source": [
    "dec_array = np.asarray(dec_df) \n",
    "existing_paths = {}\n",
    "existing_locations = np.unique(np.concatenate([dec_array[:,0],dec_array[:,1]]))\n",
    "counter = 0\n",
    "for row in dec_array:\n",
    "    locations = tuple(np.sort(row[0:2]))\n",
    "    if locations in existing_paths:\n",
    "        existing_paths[locations].append(row[2])\n",
    "        counter += 1\n",
    "    else:\n",
    "        existing_paths[locations] = [row[2]]\n",
    "\n",
    "with open(directory + '/december_data.txt','w') as f:\n",
    "    for locations in existing_paths:\n",
    "        string = '{} {} {:.2f}\\n'.format(int(locations[0]),int(locations[1]),np.mean(existing_paths[locations]))\n",
    "        f.write(string)"
   ]
  },
  {
   "cell_type": "code",
   "execution_count": 10,
   "metadata": {},
   "outputs": [
    {
     "name": "stdout",
     "output_type": "stream",
     "text": [
      "IGRAPH UNW- 2649 1004955 -- \n",
      "+ attr: name (v), weight (e)\n",
      "IGRAPH UNW- 2649 1004955 -- \n",
      "+ attr: name (v), weight (e)\n"
     ]
    }
   ],
   "source": [
    "g = Graph.Read(directory + '/december_data.txt', format='ncol', directed=False)\n",
    "gcc = g.components().giant()\n",
    "summary(g)\n",
    "summary(gcc)"
   ]
  },
  {
   "cell_type": "markdown",
   "metadata": {},
   "source": [
    "#### get the json file"
   ]
  },
  {
   "cell_type": "code",
   "execution_count": 11,
   "metadata": {},
   "outputs": [
    {
     "data": {
      "text/plain": [
       "dict_keys(['type', 'features'])"
      ]
     },
     "execution_count": 11,
     "metadata": {},
     "output_type": "execute_result"
    }
   ],
   "source": [
    "with open(directory+'/los_angeles_censustracts.json', 'r') as f:\n",
    "    data_json = json.load(f)\n",
    "data_json.keys()"
   ]
  },
  {
   "cell_type": "code",
   "execution_count": 12,
   "metadata": {},
   "outputs": [],
   "source": [
    "geo_df = data_json['features']"
   ]
  },
  {
   "cell_type": "code",
   "execution_count": 13,
   "metadata": {},
   "outputs": [
    {
     "data": {
      "text/html": [
       "<div>\n",
       "<style scoped>\n",
       "    .dataframe tbody tr th:only-of-type {\n",
       "        vertical-align: middle;\n",
       "    }\n",
       "\n",
       "    .dataframe tbody tr th {\n",
       "        vertical-align: top;\n",
       "    }\n",
       "\n",
       "    .dataframe thead th {\n",
       "        text-align: right;\n",
       "    }\n",
       "</style>\n",
       "<table border=\"1\" class=\"dataframe\">\n",
       "  <thead>\n",
       "    <tr style=\"text-align: right;\">\n",
       "      <th></th>\n",
       "      <th>ID</th>\n",
       "      <th>Display_Name</th>\n",
       "      <th>Longitude</th>\n",
       "      <th>Latitude</th>\n",
       "    </tr>\n",
       "  </thead>\n",
       "  <tbody>\n",
       "  </tbody>\n",
       "</table>\n",
       "</div>"
      ],
      "text/plain": [
       "Empty DataFrame\n",
       "Columns: [ID, Display_Name, Longitude, Latitude]\n",
       "Index: []"
      ]
     },
     "execution_count": 13,
     "metadata": {},
     "output_type": "execute_result"
    }
   ],
   "source": [
    "colname = ['ID', 'Display_Name', 'Longitude', 'Latitude']\n",
    "map_df = pd.DataFrame(columns = colname)\n",
    "map_df"
   ]
  },
  {
   "cell_type": "code",
   "execution_count": 14,
   "metadata": {},
   "outputs": [
    {
     "name": "stdout",
     "output_type": "stream",
     "text": [
      "dict_keys(['type', 'properties', 'geometry'])\n",
      "dict_keys(['MOVEMENT_ID', 'TRACT', 'DISPLAY_NAME'])\n",
      "dict_keys(['type', 'coordinates'])\n"
     ]
    }
   ],
   "source": [
    "print(geo_df[0].keys())\n",
    "print(geo_df[0]['properties'].keys())\n",
    "print(geo_df[0]['geometry'].keys())"
   ]
  },
  {
   "cell_type": "code",
   "execution_count": 15,
   "metadata": {},
   "outputs": [],
   "source": [
    "i = 1\n",
    "for item in geo_df:\n",
    "    map_df.loc[i, 'ID'] = item['properties']['MOVEMENT_ID']\n",
    "    map_df.loc[i, 'Display_Name'] = item['properties']['DISPLAY_NAME']\n",
    "    coors = item['geometry']['coordinates'][0][0]\n",
    "    if isinstance(coors[0], list):\n",
    "        longitude = 0\n",
    "        latitude = 0\n",
    "\n",
    "        for coor in coors:\n",
    "            longitude = longitude+coor[0]\n",
    "            latitude = latitude+coor[1]\n",
    "            \n",
    "        longitude = longitude/len(coors)\n",
    "        latitude = latitude/len(coors)     \n",
    "    else:\n",
    "        coors = item['geometry']['coordinates'][0]\n",
    "        longitude = 0\n",
    "        latitude = 0\n",
    "\n",
    "        for coor in coors:\n",
    "            longitude = longitude+coor[0]\n",
    "            latitude = latitude+coor[1]\n",
    "            \n",
    "        longitude = longitude/len(coors)\n",
    "        latitude = latitude/len(coors)\n",
    "#         longitude = coors[0]\n",
    "#         latitude = coors[1]\n",
    "        \n",
    "    map_df.loc[i, 'Longitude'] = longitude\n",
    "    map_df.loc[i, 'Latitude'] = latitude    \n",
    "    i+=1"
   ]
  },
  {
   "cell_type": "code",
   "execution_count": 16,
   "metadata": {},
   "outputs": [
    {
     "data": {
      "text/html": [
       "<div>\n",
       "<style scoped>\n",
       "    .dataframe tbody tr th:only-of-type {\n",
       "        vertical-align: middle;\n",
       "    }\n",
       "\n",
       "    .dataframe tbody tr th {\n",
       "        vertical-align: top;\n",
       "    }\n",
       "\n",
       "    .dataframe thead th {\n",
       "        text-align: right;\n",
       "    }\n",
       "</style>\n",
       "<table border=\"1\" class=\"dataframe\">\n",
       "  <thead>\n",
       "    <tr style=\"text-align: right;\">\n",
       "      <th></th>\n",
       "      <th>ID</th>\n",
       "      <th>Display_Name</th>\n",
       "      <th>Longitude</th>\n",
       "      <th>Latitude</th>\n",
       "    </tr>\n",
       "  </thead>\n",
       "  <tbody>\n",
       "    <tr>\n",
       "      <th>1</th>\n",
       "      <td>1</td>\n",
       "      <td>Census Tract 480302</td>\n",
       "      <td>-118.121</td>\n",
       "      <td>34.1031</td>\n",
       "    </tr>\n",
       "    <tr>\n",
       "      <th>2</th>\n",
       "      <td>2</td>\n",
       "      <td>Census Tract 480303</td>\n",
       "      <td>-118.138</td>\n",
       "      <td>34.0965</td>\n",
       "    </tr>\n",
       "    <tr>\n",
       "      <th>3</th>\n",
       "      <td>3</td>\n",
       "      <td>Census Tract 480304</td>\n",
       "      <td>-118.131</td>\n",
       "      <td>34.0963</td>\n",
       "    </tr>\n",
       "    <tr>\n",
       "      <th>4</th>\n",
       "      <td>4</td>\n",
       "      <td>Census Tract 480400</td>\n",
       "      <td>-118.132</td>\n",
       "      <td>34.1035</td>\n",
       "    </tr>\n",
       "    <tr>\n",
       "      <th>5</th>\n",
       "      <td>5</td>\n",
       "      <td>Census Tract 480500</td>\n",
       "      <td>-118.145</td>\n",
       "      <td>34.0987</td>\n",
       "    </tr>\n",
       "    <tr>\n",
       "      <th>...</th>\n",
       "      <td>...</td>\n",
       "      <td>...</td>\n",
       "      <td>...</td>\n",
       "      <td>...</td>\n",
       "    </tr>\n",
       "    <tr>\n",
       "      <th>2712</th>\n",
       "      <td>2712</td>\n",
       "      <td>Census Tract 087902</td>\n",
       "      <td>-117.988</td>\n",
       "      <td>33.792</td>\n",
       "    </tr>\n",
       "    <tr>\n",
       "      <th>2713</th>\n",
       "      <td>2713</td>\n",
       "      <td>Census Tract 110006</td>\n",
       "      <td>-118.078</td>\n",
       "      <td>33.7962</td>\n",
       "    </tr>\n",
       "    <tr>\n",
       "      <th>2714</th>\n",
       "      <td>2714</td>\n",
       "      <td>Census Tract 110007</td>\n",
       "      <td>-118.083</td>\n",
       "      <td>33.7881</td>\n",
       "    </tr>\n",
       "    <tr>\n",
       "      <th>2715</th>\n",
       "      <td>2715</td>\n",
       "      <td>Census Tract 110008</td>\n",
       "      <td>-118.08</td>\n",
       "      <td>33.781</td>\n",
       "    </tr>\n",
       "    <tr>\n",
       "      <th>2716</th>\n",
       "      <td>2716</td>\n",
       "      <td>Census Tract 110604</td>\n",
       "      <td>-117.992</td>\n",
       "      <td>33.893</td>\n",
       "    </tr>\n",
       "  </tbody>\n",
       "</table>\n",
       "<p>2716 rows × 4 columns</p>\n",
       "</div>"
      ],
      "text/plain": [
       "        ID         Display_Name Longitude Latitude\n",
       "1        1  Census Tract 480302  -118.121  34.1031\n",
       "2        2  Census Tract 480303  -118.138  34.0965\n",
       "3        3  Census Tract 480304  -118.131  34.0963\n",
       "4        4  Census Tract 480400  -118.132  34.1035\n",
       "5        5  Census Tract 480500  -118.145  34.0987\n",
       "...    ...                  ...       ...      ...\n",
       "2712  2712  Census Tract 087902  -117.988   33.792\n",
       "2713  2713  Census Tract 110006  -118.078  33.7962\n",
       "2714  2714  Census Tract 110007  -118.083  33.7881\n",
       "2715  2715  Census Tract 110008   -118.08   33.781\n",
       "2716  2716  Census Tract 110604  -117.992   33.893\n",
       "\n",
       "[2716 rows x 4 columns]"
      ]
     },
     "execution_count": 16,
     "metadata": {},
     "output_type": "execute_result"
    }
   ],
   "source": [
    "map_df"
   ]
  },
  {
   "cell_type": "markdown",
   "metadata": {},
   "source": [
    "#### map geo_coordinates with map information"
   ]
  },
  {
   "cell_type": "code",
   "execution_count": 17,
   "metadata": {},
   "outputs": [],
   "source": [
    "gvs = g.vs()\n",
    "for v in gvs:\n",
    "    v[\"Display_Name\"] = map_df.loc[map_df[\"ID\"] == v['name']].iloc[:,1].values[0]\n",
    "    v[\"Coordinate\"] = (map_df.loc[map_df[\"ID\"] == v['name']].iloc[:,2].values[0],\n",
    "                       map_df.loc[map_df[\"ID\"] == v['name']].iloc[:,3].values[0])\n",
    "gcc = g.components().giant()                    "
   ]
  },
  {
   "cell_type": "code",
   "execution_count": 18,
   "metadata": {},
   "outputs": [
    {
     "name": "stdout",
     "output_type": "stream",
     "text": [
      "IGRAPH UNW- 2649 1004955 -- \n",
      "+ attr: Coordinate (v), Display_Name (v), name (v), weight (e)\n",
      "IGRAPH UNW- 2649 1004955 -- \n",
      "+ attr: Coordinate (v), Display_Name (v), name (v), weight (e)\n"
     ]
    }
   ],
   "source": [
    "summary(g)\n",
    "summary(gcc)\n"
   ]
  },
  {
   "cell_type": "markdown",
   "metadata": {},
   "source": [
    "### Q7"
   ]
  },
  {
   "cell_type": "code",
   "execution_count": 19,
   "metadata": {},
   "outputs": [
    {
     "name": "stdout",
     "output_type": "stream",
     "text": [
      "IGRAPH UNW- 2649 2648 -- \n",
      "+ attr: Coordinate (v), Display_Name (v), name (v), weight (e)\n"
     ]
    }
   ],
   "source": [
    "mst = gcc.spanning_tree(weights = gcc.es['weight'])\n",
    "vertices = mst.vs()\n",
    "summary(mst)"
   ]
  },
  {
   "cell_type": "code",
   "execution_count": 20,
   "metadata": {},
   "outputs": [],
   "source": [
    "# for i in range(6):\n",
    "#     r = random.randint(0, len(vertices))\n",
    "#     print(\"Random point{}:\".format(i+1))\n",
    "#     print(\"One endpoint:\\nID: {}, Display_Name: {}\".format(vertices[r][\"name\"], vertices[r][\"Display_Name\"]))\n",
    "# #    print(\"Coordinate: {}\".format(vertices[r][\"Coordinate\"]))\n",
    "#     print(\"Another endpoint:\\nID: {}, Display_Name: {}\".format(vertices[r+1][\"name\"], vertices[r+1][\"Display_Name\"]))\n",
    "#     print('='*60)\n",
    "#    print(\"Coordinate: {}\\n\".format(vertices[r+1][\"Coordinate\"]))"
   ]
  },
  {
   "cell_type": "markdown",
   "metadata": {},
   "source": [
    "## Define the project"
   ]
  },
  {
   "cell_type": "code",
   "execution_count": 21,
   "metadata": {},
   "outputs": [],
   "source": [
    "import matplotlib.pyplot as plt\n",
    "from matplotlib import cm\n",
    "from mpl_toolkits import *"
   ]
  },
  {
   "cell_type": "code",
   "execution_count": 22,
   "metadata": {},
   "outputs": [],
   "source": [
    "os.environ['PROJ_LIB'] = r'/Users/bournsh/opt/anaconda3/share/proj/'\n",
    "from mpl_toolkits.basemap import Basemap"
   ]
  },
  {
   "cell_type": "code",
   "execution_count": 23,
   "metadata": {},
   "outputs": [],
   "source": [
    "def get_flow(dist, time):\n",
    "    speed = dist/time\n",
    "    flow = 2/(0.003/speed + 1/1800)\n",
    "    return flow\n",
    "def get_edge_flow(g):\n",
    "    g_Es = EdgeSeq(g)\n",
    "    for es in g_Es:\n",
    "        vertex1 = es.tuple[0]\n",
    "        vertex2 = es.tuple[1]\n",
    "        coor_1 = gcc.vs[vertex1]['Coordinate']\n",
    "        coor_2 = gcc.vs[vertex2]['Coordinate']\n",
    "        dist = 69*distance.euclidean(coor_1, coor_2)\n",
    "        time = es['weight']/3600\n",
    "        if dist==0:\n",
    "            continue\n",
    "        flow = get_flow(dist, time)\n",
    "        es['Flow'] = flow\n",
    "    return g"
   ]
  },
  {
   "cell_type": "code",
   "execution_count": 24,
   "metadata": {},
   "outputs": [
    {
     "data": {
      "text/plain": [
       "'IGRAPH UNW- 2649 1004955 -- \\n+ attr: Coordinate (v), Display_Name (v), name (v), Flow (e), weight (e)'"
      ]
     },
     "execution_count": 24,
     "metadata": {},
     "output_type": "execute_result"
    }
   ],
   "source": [
    "gcc_flow = get_edge_flow(gcc)\n",
    "gcc_flow.summary()"
   ]
  },
  {
   "cell_type": "code",
   "execution_count": 46,
   "metadata": {},
   "outputs": [
    {
     "data": {
      "text/html": [
       "<div>\n",
       "<style scoped>\n",
       "    .dataframe tbody tr th:only-of-type {\n",
       "        vertical-align: middle;\n",
       "    }\n",
       "\n",
       "    .dataframe tbody tr th {\n",
       "        vertical-align: top;\n",
       "    }\n",
       "\n",
       "    .dataframe thead th {\n",
       "        text-align: right;\n",
       "    }\n",
       "</style>\n",
       "<table border=\"1\" class=\"dataframe\">\n",
       "  <thead>\n",
       "    <tr style=\"text-align: right;\">\n",
       "      <th></th>\n",
       "      <th>sourceid</th>\n",
       "      <th>dstid</th>\n",
       "      <th>month</th>\n",
       "      <th>mean_travel_time</th>\n",
       "      <th>standard_deviation_travel_time</th>\n",
       "      <th>geometric_mean_travel_time</th>\n",
       "      <th>geometric_standard_deviation_travel_time</th>\n",
       "    </tr>\n",
       "  </thead>\n",
       "  <tbody>\n",
       "    <tr>\n",
       "      <th>0</th>\n",
       "      <td>17</td>\n",
       "      <td>296</td>\n",
       "      <td>10</td>\n",
       "      <td>1109.36</td>\n",
       "      <td>492.50</td>\n",
       "      <td>1021.90</td>\n",
       "      <td>1.48</td>\n",
       "    </tr>\n",
       "    <tr>\n",
       "      <th>1</th>\n",
       "      <td>28</td>\n",
       "      <td>186</td>\n",
       "      <td>10</td>\n",
       "      <td>1625.16</td>\n",
       "      <td>475.09</td>\n",
       "      <td>1565.73</td>\n",
       "      <td>1.30</td>\n",
       "    </tr>\n",
       "    <tr>\n",
       "      <th>2</th>\n",
       "      <td>758</td>\n",
       "      <td>972</td>\n",
       "      <td>12</td>\n",
       "      <td>953.55</td>\n",
       "      <td>269.46</td>\n",
       "      <td>916.93</td>\n",
       "      <td>1.33</td>\n",
       "    </tr>\n",
       "    <tr>\n",
       "      <th>3</th>\n",
       "      <td>1212</td>\n",
       "      <td>547</td>\n",
       "      <td>10</td>\n",
       "      <td>2053.39</td>\n",
       "      <td>648.63</td>\n",
       "      <td>1953.97</td>\n",
       "      <td>1.37</td>\n",
       "    </tr>\n",
       "    <tr>\n",
       "      <th>4</th>\n",
       "      <td>1299</td>\n",
       "      <td>1221</td>\n",
       "      <td>11</td>\n",
       "      <td>1467.54</td>\n",
       "      <td>539.64</td>\n",
       "      <td>1370.82</td>\n",
       "      <td>1.45</td>\n",
       "    </tr>\n",
       "    <tr>\n",
       "      <th>...</th>\n",
       "      <td>...</td>\n",
       "      <td>...</td>\n",
       "      <td>...</td>\n",
       "      <td>...</td>\n",
       "      <td>...</td>\n",
       "      <td>...</td>\n",
       "      <td>...</td>\n",
       "    </tr>\n",
       "    <tr>\n",
       "      <th>5144057</th>\n",
       "      <td>1116</td>\n",
       "      <td>953</td>\n",
       "      <td>12</td>\n",
       "      <td>1336.86</td>\n",
       "      <td>654.73</td>\n",
       "      <td>1237.13</td>\n",
       "      <td>1.43</td>\n",
       "    </tr>\n",
       "    <tr>\n",
       "      <th>5144058</th>\n",
       "      <td>1732</td>\n",
       "      <td>1170</td>\n",
       "      <td>10</td>\n",
       "      <td>1913.06</td>\n",
       "      <td>645.32</td>\n",
       "      <td>1820.24</td>\n",
       "      <td>1.36</td>\n",
       "    </tr>\n",
       "    <tr>\n",
       "      <th>5144059</th>\n",
       "      <td>1167</td>\n",
       "      <td>443</td>\n",
       "      <td>12</td>\n",
       "      <td>1467.28</td>\n",
       "      <td>541.92</td>\n",
       "      <td>1380.16</td>\n",
       "      <td>1.41</td>\n",
       "    </tr>\n",
       "    <tr>\n",
       "      <th>5144060</th>\n",
       "      <td>352</td>\n",
       "      <td>1086</td>\n",
       "      <td>10</td>\n",
       "      <td>1306.80</td>\n",
       "      <td>390.56</td>\n",
       "      <td>1252.47</td>\n",
       "      <td>1.34</td>\n",
       "    </tr>\n",
       "    <tr>\n",
       "      <th>5144061</th>\n",
       "      <td>1127</td>\n",
       "      <td>843</td>\n",
       "      <td>12</td>\n",
       "      <td>1226.04</td>\n",
       "      <td>582.09</td>\n",
       "      <td>1136.87</td>\n",
       "      <td>1.43</td>\n",
       "    </tr>\n",
       "  </tbody>\n",
       "</table>\n",
       "<p>5144062 rows × 7 columns</p>\n",
       "</div>"
      ],
      "text/plain": [
       "         sourceid  dstid  month  mean_travel_time  \\\n",
       "0              17    296     10           1109.36   \n",
       "1              28    186     10           1625.16   \n",
       "2             758    972     12            953.55   \n",
       "3            1212    547     10           2053.39   \n",
       "4            1299   1221     11           1467.54   \n",
       "...           ...    ...    ...               ...   \n",
       "5144057      1116    953     12           1336.86   \n",
       "5144058      1732   1170     10           1913.06   \n",
       "5144059      1167    443     12           1467.28   \n",
       "5144060       352   1086     10           1306.80   \n",
       "5144061      1127    843     12           1226.04   \n",
       "\n",
       "         standard_deviation_travel_time  geometric_mean_travel_time  \\\n",
       "0                                492.50                     1021.90   \n",
       "1                                475.09                     1565.73   \n",
       "2                                269.46                      916.93   \n",
       "3                                648.63                     1953.97   \n",
       "4                                539.64                     1370.82   \n",
       "...                                 ...                         ...   \n",
       "5144057                          654.73                     1237.13   \n",
       "5144058                          645.32                     1820.24   \n",
       "5144059                          541.92                     1380.16   \n",
       "5144060                          390.56                     1252.47   \n",
       "5144061                          582.09                     1136.87   \n",
       "\n",
       "         geometric_standard_deviation_travel_time  \n",
       "0                                            1.48  \n",
       "1                                            1.30  \n",
       "2                                            1.33  \n",
       "3                                            1.37  \n",
       "4                                            1.45  \n",
       "...                                           ...  \n",
       "5144057                                      1.43  \n",
       "5144058                                      1.36  \n",
       "5144059                                      1.41  \n",
       "5144060                                      1.34  \n",
       "5144061                                      1.43  \n",
       "\n",
       "[5144062 rows x 7 columns]"
      ]
     },
     "execution_count": 46,
     "metadata": {},
     "output_type": "execute_result"
    }
   ],
   "source": [
    "df_2 = pd.read_csv(directory+'/los_angeles-censustracts-2019-4-All-MonthlyAggregate.csv')\n",
    "df_2"
   ]
  },
  {
   "cell_type": "code",
   "execution_count": 47,
   "metadata": {},
   "outputs": [
    {
     "data": {
      "text/html": [
       "<div>\n",
       "<style scoped>\n",
       "    .dataframe tbody tr th:only-of-type {\n",
       "        vertical-align: middle;\n",
       "    }\n",
       "\n",
       "    .dataframe tbody tr th {\n",
       "        vertical-align: top;\n",
       "    }\n",
       "\n",
       "    .dataframe thead th {\n",
       "        text-align: right;\n",
       "    }\n",
       "</style>\n",
       "<table border=\"1\" class=\"dataframe\">\n",
       "  <thead>\n",
       "    <tr style=\"text-align: right;\">\n",
       "      <th></th>\n",
       "      <th>sourceid</th>\n",
       "      <th>dstid</th>\n",
       "      <th>month</th>\n",
       "    </tr>\n",
       "  </thead>\n",
       "  <tbody>\n",
       "    <tr>\n",
       "      <th>0</th>\n",
       "      <td>17</td>\n",
       "      <td>296</td>\n",
       "      <td>10</td>\n",
       "    </tr>\n",
       "    <tr>\n",
       "      <th>1</th>\n",
       "      <td>28</td>\n",
       "      <td>186</td>\n",
       "      <td>10</td>\n",
       "    </tr>\n",
       "    <tr>\n",
       "      <th>2</th>\n",
       "      <td>758</td>\n",
       "      <td>972</td>\n",
       "      <td>12</td>\n",
       "    </tr>\n",
       "    <tr>\n",
       "      <th>3</th>\n",
       "      <td>1212</td>\n",
       "      <td>547</td>\n",
       "      <td>10</td>\n",
       "    </tr>\n",
       "    <tr>\n",
       "      <th>4</th>\n",
       "      <td>1299</td>\n",
       "      <td>1221</td>\n",
       "      <td>11</td>\n",
       "    </tr>\n",
       "    <tr>\n",
       "      <th>...</th>\n",
       "      <td>...</td>\n",
       "      <td>...</td>\n",
       "      <td>...</td>\n",
       "    </tr>\n",
       "    <tr>\n",
       "      <th>5144057</th>\n",
       "      <td>1116</td>\n",
       "      <td>953</td>\n",
       "      <td>12</td>\n",
       "    </tr>\n",
       "    <tr>\n",
       "      <th>5144058</th>\n",
       "      <td>1732</td>\n",
       "      <td>1170</td>\n",
       "      <td>10</td>\n",
       "    </tr>\n",
       "    <tr>\n",
       "      <th>5144059</th>\n",
       "      <td>1167</td>\n",
       "      <td>443</td>\n",
       "      <td>12</td>\n",
       "    </tr>\n",
       "    <tr>\n",
       "      <th>5144060</th>\n",
       "      <td>352</td>\n",
       "      <td>1086</td>\n",
       "      <td>10</td>\n",
       "    </tr>\n",
       "    <tr>\n",
       "      <th>5144061</th>\n",
       "      <td>1127</td>\n",
       "      <td>843</td>\n",
       "      <td>12</td>\n",
       "    </tr>\n",
       "  </tbody>\n",
       "</table>\n",
       "<p>5144062 rows × 3 columns</p>\n",
       "</div>"
      ],
      "text/plain": [
       "         sourceid  dstid  month\n",
       "0              17    296     10\n",
       "1              28    186     10\n",
       "2             758    972     12\n",
       "3            1212    547     10\n",
       "4            1299   1221     11\n",
       "...           ...    ...    ...\n",
       "5144057      1116    953     12\n",
       "5144058      1732   1170     10\n",
       "5144059      1167    443     12\n",
       "5144060       352   1086     10\n",
       "5144061      1127    843     12\n",
       "\n",
       "[5144062 rows x 3 columns]"
      ]
     },
     "execution_count": 47,
     "metadata": {},
     "output_type": "execute_result"
    }
   ],
   "source": [
    "df_2 = df_2.iloc[:, 0:3]\n",
    "df_2"
   ]
  },
  {
   "cell_type": "code",
   "execution_count": 43,
   "metadata": {},
   "outputs": [
    {
     "data": {
      "text/plain": [
       "5144062"
      ]
     },
     "execution_count": 43,
     "metadata": {},
     "output_type": "execute_result"
    }
   ],
   "source": [
    "len(df_2.loc[df_2['month']]==12)"
   ]
  },
  {
   "cell_type": "code",
   "execution_count": 55,
   "metadata": {},
   "outputs": [
    {
     "data": {
      "image/png": "[encoded data removed]",
      "text/plain": [
       "<Figure size 1080x864 with 1 Axes>"
      ]
     },
     "metadata": {},
     "output_type": "display_data"
    }
   ],
   "source": [
    "import seaborn as sns\n",
    "sns.set_style('whitegrid')\n",
    "ax = sns.countplot(x = 'month', data = df_2)\n",
    "ax.set_xlabel('Month', fontsize = 12)\n",
    "ax.set_ylabel('Amount', fontsize = 12)\n",
    "ax.set_title('Uber Pickups in 2019 Fourth Quarter at LA', fontsize = 14)\n",
    "plt.style.use({'figure.figsize':(15, 12)})\n",
    "plt.show()"
   ]
  },
  {
   "cell_type": "code",
   "execution_count": null,
   "metadata": {},
   "outputs": [],
   "source": []
  },
  {
   "cell_type": "code",
   "execution_count": null,
   "metadata": {},
   "outputs": [],
   "source": []
  },
  {
   "cell_type": "code",
   "execution_count": null,
   "metadata": {},
   "outputs": [],
   "source": []
  },
  {
   "cell_type": "code",
   "execution_count": null,
   "metadata": {},
   "outputs": [],
   "source": []
  },
  {
   "cell_type": "code",
   "execution_count": null,
   "metadata": {},
   "outputs": [],
   "source": []
  },
  {
   "cell_type": "code",
   "execution_count": null,
   "metadata": {},
   "outputs": [],
   "source": []
  },
  {
   "cell_type": "code",
   "execution_count": null,
   "metadata": {},
   "outputs": [],
   "source": []
  },
  {
   "cell_type": "code",
   "execution_count": 26,
   "metadata": {},
   "outputs": [
    {
     "name": "stderr",
     "output_type": "stream",
     "text": [
      "/Users/bournsh/opt/anaconda3/lib/python3.7/site-packages/ipykernel_launcher.py:4: MatplotlibDeprecationWarning: \n",
      "The dedent function was deprecated in Matplotlib 3.1 and will be removed in 3.3. Use inspect.cleandoc instead.\n",
      "  after removing the cwd from sys.path.\n"
     ]
    },
    {
     "data": {
      "text/plain": [
       "<matplotlib.collections.PolyCollection at 0x7f886488b250>"
      ]
     },
     "execution_count": 26,
     "metadata": {},
     "output_type": "execute_result"
    },
    {
     "data": {
      "image/png": "[encoded data removed]",
      "text/plain": [
       "<Figure size 1008x720 with 1 Axes>"
      ]
     },
     "metadata": {},
     "output_type": "display_data"
    }
   ],
   "source": [
    "west, south, east, north = -118.70, 33.60, -117.75, 34.50\n",
    "fig = plt.figure(figsize = (14, 10))\n",
    "hm = Basemap(projection='merc', llcrnrlat=south, urcrnrlat=north,\n",
    "            llcrnrlon=west, urcrnrlon=east, lat_ts=south, resolution='h')\n",
    "x, y = hm(map_df['Longitude'].values, map_df['Latitude'].values)\n",
    "hm.hexbin(x, y, gridsize = 1000, bins = 'log', cmap = cm.YlOrRd_r)\n"
   ]
  },
  {
   "cell_type": "code",
   "execution_count": null,
   "metadata": {},
   "outputs": [],
   "source": []
  }
 ],
 "metadata": {
  "kernelspec": {
   "display_name": "Python 3",
   "language": "python",
   "name": "python3"
  },
  "language_info": {
   "codemirror_mode": {
    "name": "ipython",
    "version": 3
   },
   "file_extension": ".py",
   "mimetype": "text/x-python",
   "name": "python",
   "nbconvert_exporter": "python",
   "pygments_lexer": "ipython3",
   "version": "3.7.6"
  }
 },
 "nbformat": 4,
 "nbformat_minor": 4
}
