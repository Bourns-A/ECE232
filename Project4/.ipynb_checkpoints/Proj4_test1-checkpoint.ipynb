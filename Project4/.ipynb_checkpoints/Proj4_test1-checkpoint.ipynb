{
 "cells": [
  {
   "cell_type": "code",
   "execution_count": 1,
   "metadata": {},
   "outputs": [],
   "source": [
    "import csv\n",
    "import json\n",
    "import matplotlib.pyplot as plt\n",
    "import numpy as np\n",
    "import pandas as pd\n",
    "from scipy.spatial import Delaunay\n",
    "from igraph import *\n",
    "import matplotlib.pyplot as plt\n",
    "import json\n",
    "import numpy as np\n",
    "import os\n",
    "import random\n",
    "import math"
   ]
  },
  {
   "cell_type": "markdown",
   "metadata": {},
   "source": [
    "### Q6"
   ]
  },
  {
   "cell_type": "markdown",
   "metadata": {},
   "source": [
    "#### create graph"
   ]
  },
  {
   "cell_type": "code",
   "execution_count": 2,
   "metadata": {},
   "outputs": [],
   "source": [
    "directory = os.path.abspath('/Users/bournsh/Desktop/UCLA_Studying/2020spring/ECE232/Project4/data/test_data')\n",
    "df = pd.read_csv(directory + '/san_francisco-censustracts-2017-4-All-MonthlyAggregate.csv')"
   ]
  },
  {
   "cell_type": "code",
   "execution_count": 3,
   "metadata": {},
   "outputs": [],
   "source": [
    "df = df.iloc[:, 0:4]\n",
    "df = df.loc[df['month']==12]\n",
    "dec_df = df.drop(['month'], axis=1)\n"
   ]
  },
  {
   "cell_type": "code",
   "execution_count": 4,
   "metadata": {},
   "outputs": [
    {
     "data": {
      "text/html": [
       "<div>\n",
       "<style scoped>\n",
       "    .dataframe tbody tr th:only-of-type {\n",
       "        vertical-align: middle;\n",
       "    }\n",
       "\n",
       "    .dataframe tbody tr th {\n",
       "        vertical-align: top;\n",
       "    }\n",
       "\n",
       "    .dataframe thead th {\n",
       "        text-align: right;\n",
       "    }\n",
       "</style>\n",
       "<table border=\"1\" class=\"dataframe\">\n",
       "  <thead>\n",
       "    <tr style=\"text-align: right;\">\n",
       "      <th></th>\n",
       "      <th>sourceid</th>\n",
       "      <th>dstid</th>\n",
       "      <th>mean_travel_time</th>\n",
       "    </tr>\n",
       "  </thead>\n",
       "  <tbody>\n",
       "    <tr>\n",
       "      <th>0</th>\n",
       "      <td>1982</td>\n",
       "      <td>73</td>\n",
       "      <td>350.59</td>\n",
       "    </tr>\n",
       "    <tr>\n",
       "      <th>1</th>\n",
       "      <td>2213</td>\n",
       "      <td>1523</td>\n",
       "      <td>872.92</td>\n",
       "    </tr>\n",
       "    <tr>\n",
       "      <th>2</th>\n",
       "      <td>438</td>\n",
       "      <td>433</td>\n",
       "      <td>2262.35</td>\n",
       "    </tr>\n",
       "    <tr>\n",
       "      <th>3</th>\n",
       "      <td>448</td>\n",
       "      <td>333</td>\n",
       "      <td>1337.10</td>\n",
       "    </tr>\n",
       "    <tr>\n",
       "      <th>6</th>\n",
       "      <td>2231</td>\n",
       "      <td>315</td>\n",
       "      <td>805.52</td>\n",
       "    </tr>\n",
       "  </tbody>\n",
       "</table>\n",
       "</div>"
      ],
      "text/plain": [
       "   sourceid  dstid  mean_travel_time\n",
       "0      1982     73            350.59\n",
       "1      2213   1523            872.92\n",
       "2       438    433           2262.35\n",
       "3       448    333           1337.10\n",
       "6      2231    315            805.52"
      ]
     },
     "execution_count": 4,
     "metadata": {},
     "output_type": "execute_result"
    }
   ],
   "source": [
    "dec_df.head()"
   ]
  },
  {
   "cell_type": "code",
   "execution_count": 5,
   "metadata": {},
   "outputs": [],
   "source": [
    "init_dec_df = dec_df.copy()\n",
    "init_dec_df['sourceid'] = init_dec_df['sourceid'].astype(str)\n",
    "init_dec_df['dstid'] = init_dec_df['dstid'].astype(str)\n"
   ]
  },
  {
   "cell_type": "code",
   "execution_count": 6,
   "metadata": {},
   "outputs": [],
   "source": [
    "tuples_init = [tuple(x) for x in init_dec_df.values]\n",
    "g_init = Graph.TupleList(tuples_init, directed = False, edge_attrs = 'weight')"
   ]
  },
  {
   "cell_type": "code",
   "execution_count": 7,
   "metadata": {},
   "outputs": [
    {
     "name": "stdout",
     "output_type": "stream",
     "text": [
      "IGRAPH UNW- 1905 555265 -- \n",
      "+ attr: name (v), weight (e)\n"
     ]
    }
   ],
   "source": [
    "summary(g_init)"
   ]
  },
  {
   "cell_type": "markdown",
   "metadata": {},
   "source": [
    "#### clear the duplicates"
   ]
  },
  {
   "cell_type": "code",
   "execution_count": 8,
   "metadata": {},
   "outputs": [],
   "source": [
    "dec_array = np.asarray(dec_df) \n",
    "existing_paths = {}\n",
    "existing_locations = np.unique(np.concatenate([dec_array[:,0],dec_array[:,1]]))\n",
    "counter = 0\n",
    "for row in dec_array:\n",
    "    locations = tuple(np.sort(row[0:2]))\n",
    "    if locations in existing_paths:\n",
    "        existing_paths[locations].append(row[2])\n",
    "        counter += 1\n",
    "    else:\n",
    "        existing_paths[locations] = [row[2]]\n",
    "\n",
    "with open(directory + '/december_data.txt','w') as f:\n",
    "    for locations in existing_paths:\n",
    "        string = '{} {} {:.2f}\\n'.format(int(locations[0]),int(locations[1]),np.mean(existing_paths[locations]))\n",
    "        f.write(string)"
   ]
  },
  {
   "cell_type": "code",
   "execution_count": 9,
   "metadata": {},
   "outputs": [
    {
     "name": "stdout",
     "output_type": "stream",
     "text": [
      "IGRAPH UNW- 1905 321713 -- \n",
      "+ attr: name (v), weight (e)\n",
      "IGRAPH UNW- 1898 321703 -- \n",
      "+ attr: name (v), weight (e)\n"
     ]
    }
   ],
   "source": [
    "g = Graph.Read(directory + '/december_data.txt', format='ncol', directed=False)\n",
    "gcc = g.components().giant()\n",
    "summary(g)\n",
    "summary(gcc)"
   ]
  },
  {
   "cell_type": "markdown",
   "metadata": {},
   "source": [
    "#### get the json file"
   ]
  },
  {
   "cell_type": "code",
   "execution_count": 10,
   "metadata": {},
   "outputs": [
    {
     "data": {
      "text/plain": [
       "dict_keys(['type', 'features'])"
      ]
     },
     "execution_count": 10,
     "metadata": {},
     "output_type": "execute_result"
    }
   ],
   "source": [
    "with open(directory+'/san_francisco_censustracts.json', 'r') as f:\n",
    "    data_json = json.load(f)\n",
    "data_json.keys()"
   ]
  },
  {
   "cell_type": "code",
   "execution_count": 11,
   "metadata": {},
   "outputs": [],
   "source": [
    "geo_df = data_json['features']"
   ]
  },
  {
   "cell_type": "code",
   "execution_count": 12,
   "metadata": {},
   "outputs": [
    {
     "data": {
      "text/html": [
       "<div>\n",
       "<style scoped>\n",
       "    .dataframe tbody tr th:only-of-type {\n",
       "        vertical-align: middle;\n",
       "    }\n",
       "\n",
       "    .dataframe tbody tr th {\n",
       "        vertical-align: top;\n",
       "    }\n",
       "\n",
       "    .dataframe thead th {\n",
       "        text-align: right;\n",
       "    }\n",
       "</style>\n",
       "<table border=\"1\" class=\"dataframe\">\n",
       "  <thead>\n",
       "    <tr style=\"text-align: right;\">\n",
       "      <th></th>\n",
       "      <th>ID</th>\n",
       "      <th>Display_Name</th>\n",
       "      <th>Longitude</th>\n",
       "      <th>Latitude</th>\n",
       "    </tr>\n",
       "  </thead>\n",
       "  <tbody>\n",
       "  </tbody>\n",
       "</table>\n",
       "</div>"
      ],
      "text/plain": [
       "Empty DataFrame\n",
       "Columns: [ID, Display_Name, Longitude, Latitude]\n",
       "Index: []"
      ]
     },
     "execution_count": 12,
     "metadata": {},
     "output_type": "execute_result"
    }
   ],
   "source": [
    "colname = ['ID', 'Display_Name', 'Longitude', 'Latitude']\n",
    "map_df = pd.DataFrame(columns = colname)\n",
    "map_df"
   ]
  },
  {
   "cell_type": "code",
   "execution_count": 13,
   "metadata": {},
   "outputs": [
    {
     "name": "stdout",
     "output_type": "stream",
     "text": [
      "dict_keys(['type', 'properties', 'geometry'])\n",
      "dict_keys(['MOVEMENT_ID', 'DISPLAY_NAME'])\n",
      "dict_keys(['type', 'coordinates'])\n"
     ]
    }
   ],
   "source": [
    "print(geo_df[0].keys())\n",
    "print(geo_df[0]['properties'].keys())\n",
    "print(geo_df[0]['geometry'].keys())"
   ]
  },
  {
   "cell_type": "code",
   "execution_count": 14,
   "metadata": {},
   "outputs": [],
   "source": [
    "i = 1\n",
    "for item in geo_df:\n",
    "    map_df.loc[i, 'ID'] = item['properties']['MOVEMENT_ID']\n",
    "    map_df.loc[i, 'Display_Name'] = item['properties']['DISPLAY_NAME']\n",
    "    coors = item['geometry']['coordinates'][0][0]\n",
    "    if isinstance(coors[0], list):\n",
    "        longitude = 0\n",
    "        latitude = 0\n",
    "\n",
    "        for coor in coors:\n",
    "            longitude = longitude+coor[0]\n",
    "            latitude = latitude+coor[1]\n",
    "            \n",
    "        longitude = longitude/len(coors)\n",
    "        latitude = latitude/len(coors)       \n",
    "    else:\n",
    "        coors = item['geometry']['coordinates'][0]\n",
    "        longitude = 0\n",
    "        latitude = 0\n",
    "\n",
    "        for coor in coors:\n",
    "            longitude = longitude+coor[0]\n",
    "            latitude = latitude+coor[1]\n",
    "            \n",
    "        longitude = longitude/len(coors)\n",
    "        latitude = latitude/len(coors) \n",
    "        \n",
    "    map_df.loc[i, 'Longitude'] = longitude\n",
    "    map_df.loc[i, 'Latitude'] = latitude    \n",
    "    i+=1"
   ]
  },
  {
   "cell_type": "code",
   "execution_count": 15,
   "metadata": {},
   "outputs": [
    {
     "data": {
      "text/html": [
       "<div>\n",
       "<style scoped>\n",
       "    .dataframe tbody tr th:only-of-type {\n",
       "        vertical-align: middle;\n",
       "    }\n",
       "\n",
       "    .dataframe tbody tr th {\n",
       "        vertical-align: top;\n",
       "    }\n",
       "\n",
       "    .dataframe thead th {\n",
       "        text-align: right;\n",
       "    }\n",
       "</style>\n",
       "<table border=\"1\" class=\"dataframe\">\n",
       "  <thead>\n",
       "    <tr style=\"text-align: right;\">\n",
       "      <th></th>\n",
       "      <th>ID</th>\n",
       "      <th>Display_Name</th>\n",
       "      <th>Longitude</th>\n",
       "      <th>Latitude</th>\n",
       "    </tr>\n",
       "  </thead>\n",
       "  <tbody>\n",
       "    <tr>\n",
       "      <th>1</th>\n",
       "      <td>1</td>\n",
       "      <td>Sargent Creek, San Ardo</td>\n",
       "      <td>-120.789</td>\n",
       "      <td>36.0716</td>\n",
       "    </tr>\n",
       "    <tr>\n",
       "      <th>2</th>\n",
       "      <td>2</td>\n",
       "      <td>400 Northumberland Avenue, Redwood Oaks, Redwo...</td>\n",
       "      <td>-122.219</td>\n",
       "      <td>37.4696</td>\n",
       "    </tr>\n",
       "    <tr>\n",
       "      <th>3</th>\n",
       "      <td>3</td>\n",
       "      <td>18300 Sutter Boulevard, Morgan Hill</td>\n",
       "      <td>-121.66</td>\n",
       "      <td>37.1505</td>\n",
       "    </tr>\n",
       "    <tr>\n",
       "      <th>4</th>\n",
       "      <td>4</td>\n",
       "      <td>2700 Stoughton Way, Sheffield, Sacramento</td>\n",
       "      <td>-121.343</td>\n",
       "      <td>38.5731</td>\n",
       "    </tr>\n",
       "    <tr>\n",
       "      <th>5</th>\n",
       "      <td>5</td>\n",
       "      <td>3200 Huntsman Drive, Rosemont Park, Sacramento</td>\n",
       "      <td>-121.362</td>\n",
       "      <td>38.5544</td>\n",
       "    </tr>\n",
       "    <tr>\n",
       "      <th>...</th>\n",
       "      <td>...</td>\n",
       "      <td>...</td>\n",
       "      <td>...</td>\n",
       "      <td>...</td>\n",
       "    </tr>\n",
       "    <tr>\n",
       "      <th>2706</th>\n",
       "      <td>2706</td>\n",
       "      <td>10000 Bobbell Drive, Elk Grove</td>\n",
       "      <td>-121.467</td>\n",
       "      <td>38.3947</td>\n",
       "    </tr>\n",
       "    <tr>\n",
       "      <th>2707</th>\n",
       "      <td>2707</td>\n",
       "      <td>400 Ericwood Court, Manteca</td>\n",
       "      <td>-121.222</td>\n",
       "      <td>37.82</td>\n",
       "    </tr>\n",
       "    <tr>\n",
       "      <th>2708</th>\n",
       "      <td>2708</td>\n",
       "      <td>200 Westview Drive, Sunshine Gardens, South Sa...</td>\n",
       "      <td>-122.441</td>\n",
       "      <td>37.6627</td>\n",
       "    </tr>\n",
       "    <tr>\n",
       "      <th>2709</th>\n",
       "      <td>2709</td>\n",
       "      <td>1200 Halyard Drive, West Sacramento</td>\n",
       "      <td>-121.563</td>\n",
       "      <td>38.5678</td>\n",
       "    </tr>\n",
       "    <tr>\n",
       "      <th>2710</th>\n",
       "      <td>2710</td>\n",
       "      <td>2500 Clubhouse Drive West, Whitney Oaks, Rocklin</td>\n",
       "      <td>-121.244</td>\n",
       "      <td>38.8293</td>\n",
       "    </tr>\n",
       "  </tbody>\n",
       "</table>\n",
       "<p>2710 rows × 4 columns</p>\n",
       "</div>"
      ],
      "text/plain": [
       "        ID                                       Display_Name Longitude  \\\n",
       "1        1                            Sargent Creek, San Ardo  -120.789   \n",
       "2        2  400 Northumberland Avenue, Redwood Oaks, Redwo...  -122.219   \n",
       "3        3                18300 Sutter Boulevard, Morgan Hill   -121.66   \n",
       "4        4          2700 Stoughton Way, Sheffield, Sacramento  -121.343   \n",
       "5        5     3200 Huntsman Drive, Rosemont Park, Sacramento  -121.362   \n",
       "...    ...                                                ...       ...   \n",
       "2706  2706                     10000 Bobbell Drive, Elk Grove  -121.467   \n",
       "2707  2707                        400 Ericwood Court, Manteca  -121.222   \n",
       "2708  2708  200 Westview Drive, Sunshine Gardens, South Sa...  -122.441   \n",
       "2709  2709                1200 Halyard Drive, West Sacramento  -121.563   \n",
       "2710  2710   2500 Clubhouse Drive West, Whitney Oaks, Rocklin  -121.244   \n",
       "\n",
       "     Latitude  \n",
       "1     36.0716  \n",
       "2     37.4696  \n",
       "3     37.1505  \n",
       "4     38.5731  \n",
       "5     38.5544  \n",
       "...       ...  \n",
       "2706  38.3947  \n",
       "2707    37.82  \n",
       "2708  37.6627  \n",
       "2709  38.5678  \n",
       "2710  38.8293  \n",
       "\n",
       "[2710 rows x 4 columns]"
      ]
     },
     "execution_count": 15,
     "metadata": {},
     "output_type": "execute_result"
    }
   ],
   "source": [
    "map_df"
   ]
  },
  {
   "cell_type": "markdown",
   "metadata": {},
   "source": [
    "#### map geo_coordinates with map information"
   ]
  },
  {
   "cell_type": "code",
   "execution_count": 16,
   "metadata": {},
   "outputs": [],
   "source": [
    "gvs = g.vs()\n",
    "for v in gvs:\n",
    "    v[\"Display_Name\"] = map_df.loc[map_df[\"ID\"] == v['name']].iloc[:,1].values[0]\n",
    "    v[\"Coordinate\"] = (map_df.loc[map_df[\"ID\"] == v['name']].iloc[:,2].values[0],\n",
    "                       map_df.loc[map_df[\"ID\"] == v['name']].iloc[:,3].values[0])\n",
    "gcc = g.components().giant()                    "
   ]
  },
  {
   "cell_type": "code",
   "execution_count": 17,
   "metadata": {},
   "outputs": [
    {
     "name": "stdout",
     "output_type": "stream",
     "text": [
      "IGRAPH UNW- 1905 321713 -- \n",
      "+ attr: Coordinate (v), Display_Name (v), name (v), weight (e)\n",
      "IGRAPH UNW- 1898 321703 -- \n",
      "+ attr: Coordinate (v), Display_Name (v), name (v), weight (e)\n"
     ]
    }
   ],
   "source": [
    "summary(g)\n",
    "summary(gcc)\n"
   ]
  },
  {
   "cell_type": "markdown",
   "metadata": {},
   "source": [
    "### Q7"
   ]
  },
  {
   "cell_type": "code",
   "execution_count": 18,
   "metadata": {},
   "outputs": [
    {
     "name": "stdout",
     "output_type": "stream",
     "text": [
      "IGRAPH UNW- 1898 1897 -- \n",
      "+ attr: Coordinate (v), Display_Name (v), name (v), weight (e)\n"
     ]
    }
   ],
   "source": [
    "mst = gcc.spanning_tree(weights = gcc.es['weight'])\n",
    "vertices = mst.vs()\n",
    "summary(mst)\n",
    "\n"
   ]
  },
  {
   "cell_type": "code",
   "execution_count": 19,
   "metadata": {},
   "outputs": [
    {
     "name": "stdout",
     "output_type": "stream",
     "text": [
      "Random point1:\n",
      "One endpoint:\n",
      "ID: 157, Display_Name: 100 Cheltenham Way, South San Jose, San Jose\n",
      "Another endpoint:\n",
      "ID: 1387, Display_Name: 400 Fieldcrest Drive, South San Jose, San Jose\n",
      "============================================================\n",
      "Random point2:\n",
      "One endpoint:\n",
      "ID: 158, Display_Name: 1700 Klamath Drive, Salinas\n",
      "Another endpoint:\n",
      "ID: 2420, Display_Name: 5200 Cleek Court, Richmond\n",
      "============================================================\n",
      "Random point3:\n",
      "One endpoint:\n",
      "ID: 1874, Display_Name: 4900 Minas Drive, South San Jose, San Jose\n",
      "Another endpoint:\n",
      "ID: 2153, Display_Name: 3300 Holly Drive, Alum Rock, San Jose\n",
      "============================================================\n",
      "Random point4:\n",
      "One endpoint:\n",
      "ID: 2444, Display_Name: 700 William Moss Boulevard, Weston Ranch, Stockton\n",
      "Another endpoint:\n",
      "ID: 2010, Display_Name: Pepperwood Preserve Road, Santa Rosa\n",
      "============================================================\n",
      "Random point5:\n",
      "One endpoint:\n",
      "ID: 1982, Display_Name: 100 Monte Verde Drive, Vacaville\n",
      "Another endpoint:\n",
      "ID: 1523, Display_Name: 1000 Neilson Street, Albany\n",
      "============================================================\n",
      "Random point6:\n",
      "One endpoint:\n",
      "ID: 465, Display_Name: 20100 Marshall Street, Castro Valley\n",
      "Another endpoint:\n",
      "ID: 468, Display_Name: 700 Via Aires, San Lorenzo\n",
      "============================================================\n"
     ]
    }
   ],
   "source": [
    "for i in range(6):\n",
    "    r = random.randint(0, len(vertices))\n",
    "    print(\"Random point{}:\".format(i+1))\n",
    "    print(\"One endpoint:\\nID: {}, Display_Name: {}\".format(vertices[r][\"name\"], vertices[r][\"Display_Name\"]))\n",
    "#    print(\"Coordinate: {}\".format(vertices[r][\"Coordinate\"]))\n",
    "    print(\"Another endpoint:\\nID: {}, Display_Name: {}\".format(vertices[r+1][\"name\"], vertices[r+1][\"Display_Name\"]))\n",
    "    print('='*60)\n",
    "#    print(\"Coordinate: {}\\n\".format(vertices[r+1][\"Coordinate\"]))"
   ]
  },
  {
   "cell_type": "markdown",
   "metadata": {},
   "source": [
    "### Q8"
   ]
  },
  {
   "cell_type": "code",
   "execution_count": 50,
   "metadata": {},
   "outputs": [],
   "source": [
    "def is_trangle(max_index, combined_set, *args):\n",
    "    current_set = ()\n",
    "    indices = []\n",
    "    weights = []\n",
    "    for index in range(3):\n",
    "        indices.append(random.randint(0, max_index))\n",
    "    current_set = tuple(sorted(indices))\n",
    "    \n",
    "    while current_set in combined_set:\n",
    "        for index in range(3):\n",
    "            indices.append(random.randint(0, max_index))\n",
    "        current_set = tuple(sorted(indices))\n",
    "    \n",
    "    for e in current_set:\n",
    "        weights.append(gcc_es[e]['weight'])\n",
    "    if (weights[0] < weights[1] + weights[2] and weights[1] < weights[0] + weights[2] and weights[2] < weights[0] + weights[1]):\n",
    "        return True, weights, current_set\n",
    "    else:\n",
    "        return False, weights, current_set\n",
    "\n",
    "    "
   ]
  },
  {
   "cell_type": "code",
   "execution_count": 51,
   "metadata": {},
   "outputs": [],
   "source": [
    "max_idx = len(gcc.vs()) - 1\n",
    "gcc_vertices = gcc.vs()\n",
    "gcc_es = EdgeSeq(gcc)\n",
    "num_triangle = 1000\n",
    "total_set = set()\n",
    "num_satisfied = 0\n",
    "num = 0"
   ]
  },
  {
   "cell_type": "code",
   "execution_count": 52,
   "metadata": {},
   "outputs": [
    {
     "name": "stdout",
     "output_type": "stream",
     "text": [
      "0.957\n"
     ]
    }
   ],
   "source": [
    "while num<num_triangle:\n",
    "    for i in range(3):\n",
    "        satisfy, weights, current_set = is_trangle(max_idx, total_set)\n",
    "        if satisfy:\n",
    "            break\n",
    "   # total_set.add(current_set)\n",
    "    #print('='*50,'triangle',num+1)\n",
    "    \n",
    "#     edges = []\n",
    "#     start_nodes = []\n",
    "#     end_nodes = []\n",
    "#     for e in current_set:\n",
    "#         edges.append(gcc_es[e])\n",
    "        \n",
    "#         source_vertex = gcc.vs[gcc_es[e].source]\n",
    "#         target_vertex = gcc.vs[gcc_es[e].target]\n",
    "        \n",
    "#         start_nodes.append(source_vertex['Display_Name'])\n",
    "#         end_nodes.append(target_vertex['Display_Name'])\n",
    "#     for i in range(3):\n",
    "#         print(start_nodes[i], '---', end_nodes[i])\n",
    "    if satisfy:\n",
    "        num_satisfied+=1\n",
    "        #print('satisfied')\n",
    "    #else:\n",
    "        #print('Unsatisfied')\n",
    "        \n",
    "    num+=1\n",
    "print(str(num_satisfied/num_triangle))"
   ]
  },
  {
   "cell_type": "code",
   "execution_count": null,
   "metadata": {},
   "outputs": [],
   "source": []
  },
  {
   "cell_type": "code",
   "execution_count": null,
   "metadata": {},
   "outputs": [],
   "source": []
  }
 ],
 "metadata": {
  "kernelspec": {
   "display_name": "Python 3",
   "language": "python",
   "name": "python3"
  },
  "language_info": {
   "codemirror_mode": {
    "name": "ipython",
    "version": 3
   },
   "file_extension": ".py",
   "mimetype": "text/x-python",
   "name": "python",
   "nbconvert_exporter": "python",
   "pygments_lexer": "ipython3",
   "version": "3.7.6"
  }
 },
 "nbformat": 4,
 "nbformat_minor": 4
}
