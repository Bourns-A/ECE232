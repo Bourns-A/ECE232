{
 "cells": [
  {
   "cell_type": "code",
   "execution_count": 1,
   "metadata": {},
   "outputs": [],
   "source": [
    "import igraph\n",
    "import json\n",
    "import os\n",
    "import csv\n",
    "import pandas as pd"
   ]
  },
  {
   "cell_type": "code",
   "execution_count": null,
   "metadata": {},
   "outputs": [],
   "source": []
  },
  {
   "cell_type": "code",
   "execution_count": null,
   "metadata": {},
   "outputs": [],
   "source": []
  },
  {
   "cell_type": "code",
   "execution_count": null,
   "metadata": {},
   "outputs": [],
   "source": []
  },
  {
   "cell_type": "code",
   "execution_count": null,
   "metadata": {},
   "outputs": [],
   "source": []
  },
  {
   "cell_type": "markdown",
   "metadata": {},
   "source": [
    "## Q6"
   ]
  },
  {
   "cell_type": "markdown",
   "metadata": {},
   "source": [
    "### (1) extract data"
   ]
  },
  {
   "cell_type": "code",
   "execution_count": 2,
   "metadata": {},
   "outputs": [],
   "source": [
    "os.chdir(\"/Users/bournsh/Desktop/UCLA_Studying/2020spring/ECE232/Project4/data\")"
   ]
  },
  {
   "cell_type": "code",
   "execution_count": 3,
   "metadata": {},
   "outputs": [],
   "source": [
    "data = pd.read_csv(\"los_angeles-censustracts-2019-4-All-MonthlyAggregate.csv\", sep = \",\", header = [0])"
   ]
  },
  {
   "cell_type": "code",
   "execution_count": 4,
   "metadata": {},
   "outputs": [
    {
     "data": {
      "text/html": [
       "<div>\n",
       "<style scoped>\n",
       "    .dataframe tbody tr th:only-of-type {\n",
       "        vertical-align: middle;\n",
       "    }\n",
       "\n",
       "    .dataframe tbody tr th {\n",
       "        vertical-align: top;\n",
       "    }\n",
       "\n",
       "    .dataframe thead th {\n",
       "        text-align: right;\n",
       "    }\n",
       "</style>\n",
       "<table border=\"1\" class=\"dataframe\">\n",
       "  <thead>\n",
       "    <tr style=\"text-align: right;\">\n",
       "      <th></th>\n",
       "      <th>sourceid</th>\n",
       "      <th>dstid</th>\n",
       "      <th>month</th>\n",
       "      <th>mean_travel_time</th>\n",
       "      <th>standard_deviation_travel_time</th>\n",
       "      <th>geometric_mean_travel_time</th>\n",
       "      <th>geometric_standard_deviation_travel_time</th>\n",
       "    </tr>\n",
       "  </thead>\n",
       "  <tbody>\n",
       "    <tr>\n",
       "      <th>0</th>\n",
       "      <td>17</td>\n",
       "      <td>296</td>\n",
       "      <td>10</td>\n",
       "      <td>1109.36</td>\n",
       "      <td>492.50</td>\n",
       "      <td>1021.90</td>\n",
       "      <td>1.48</td>\n",
       "    </tr>\n",
       "    <tr>\n",
       "      <th>1</th>\n",
       "      <td>28</td>\n",
       "      <td>186</td>\n",
       "      <td>10</td>\n",
       "      <td>1625.16</td>\n",
       "      <td>475.09</td>\n",
       "      <td>1565.73</td>\n",
       "      <td>1.30</td>\n",
       "    </tr>\n",
       "    <tr>\n",
       "      <th>2</th>\n",
       "      <td>758</td>\n",
       "      <td>972</td>\n",
       "      <td>12</td>\n",
       "      <td>953.55</td>\n",
       "      <td>269.46</td>\n",
       "      <td>916.93</td>\n",
       "      <td>1.33</td>\n",
       "    </tr>\n",
       "    <tr>\n",
       "      <th>3</th>\n",
       "      <td>1212</td>\n",
       "      <td>547</td>\n",
       "      <td>10</td>\n",
       "      <td>2053.39</td>\n",
       "      <td>648.63</td>\n",
       "      <td>1953.97</td>\n",
       "      <td>1.37</td>\n",
       "    </tr>\n",
       "    <tr>\n",
       "      <th>4</th>\n",
       "      <td>1299</td>\n",
       "      <td>1221</td>\n",
       "      <td>11</td>\n",
       "      <td>1467.54</td>\n",
       "      <td>539.64</td>\n",
       "      <td>1370.82</td>\n",
       "      <td>1.45</td>\n",
       "    </tr>\n",
       "  </tbody>\n",
       "</table>\n",
       "</div>"
      ],
      "text/plain": [
       "   sourceid  dstid  month  mean_travel_time  standard_deviation_travel_time  \\\n",
       "0        17    296     10           1109.36                          492.50   \n",
       "1        28    186     10           1625.16                          475.09   \n",
       "2       758    972     12            953.55                          269.46   \n",
       "3      1212    547     10           2053.39                          648.63   \n",
       "4      1299   1221     11           1467.54                          539.64   \n",
       "\n",
       "   geometric_mean_travel_time  geometric_standard_deviation_travel_time  \n",
       "0                     1021.90                                      1.48  \n",
       "1                     1565.73                                      1.30  \n",
       "2                      916.93                                      1.33  \n",
       "3                     1953.97                                      1.37  \n",
       "4                     1370.82                                      1.45  "
      ]
     },
     "execution_count": 4,
     "metadata": {},
     "output_type": "execute_result"
    }
   ],
   "source": [
    "data.head()"
   ]
  },
  {
   "cell_type": "code",
   "execution_count": 5,
   "metadata": {},
   "outputs": [],
   "source": [
    "data_meanTime_month = data.iloc[:,0:4]"
   ]
  },
  {
   "cell_type": "code",
   "execution_count": 6,
   "metadata": {},
   "outputs": [
    {
     "data": {
      "text/html": [
       "<div>\n",
       "<style scoped>\n",
       "    .dataframe tbody tr th:only-of-type {\n",
       "        vertical-align: middle;\n",
       "    }\n",
       "\n",
       "    .dataframe tbody tr th {\n",
       "        vertical-align: top;\n",
       "    }\n",
       "\n",
       "    .dataframe thead th {\n",
       "        text-align: right;\n",
       "    }\n",
       "</style>\n",
       "<table border=\"1\" class=\"dataframe\">\n",
       "  <thead>\n",
       "    <tr style=\"text-align: right;\">\n",
       "      <th></th>\n",
       "      <th>sourceid</th>\n",
       "      <th>dstid</th>\n",
       "      <th>month</th>\n",
       "      <th>mean_travel_time</th>\n",
       "    </tr>\n",
       "  </thead>\n",
       "  <tbody>\n",
       "    <tr>\n",
       "      <th>0</th>\n",
       "      <td>17</td>\n",
       "      <td>296</td>\n",
       "      <td>10</td>\n",
       "      <td>1109.36</td>\n",
       "    </tr>\n",
       "    <tr>\n",
       "      <th>1</th>\n",
       "      <td>28</td>\n",
       "      <td>186</td>\n",
       "      <td>10</td>\n",
       "      <td>1625.16</td>\n",
       "    </tr>\n",
       "    <tr>\n",
       "      <th>2</th>\n",
       "      <td>758</td>\n",
       "      <td>972</td>\n",
       "      <td>12</td>\n",
       "      <td>953.55</td>\n",
       "    </tr>\n",
       "    <tr>\n",
       "      <th>3</th>\n",
       "      <td>1212</td>\n",
       "      <td>547</td>\n",
       "      <td>10</td>\n",
       "      <td>2053.39</td>\n",
       "    </tr>\n",
       "    <tr>\n",
       "      <th>4</th>\n",
       "      <td>1299</td>\n",
       "      <td>1221</td>\n",
       "      <td>11</td>\n",
       "      <td>1467.54</td>\n",
       "    </tr>\n",
       "  </tbody>\n",
       "</table>\n",
       "</div>"
      ],
      "text/plain": [
       "   sourceid  dstid  month  mean_travel_time\n",
       "0        17    296     10           1109.36\n",
       "1        28    186     10           1625.16\n",
       "2       758    972     12            953.55\n",
       "3      1212    547     10           2053.39\n",
       "4      1299   1221     11           1467.54"
      ]
     },
     "execution_count": 6,
     "metadata": {},
     "output_type": "execute_result"
    }
   ],
   "source": [
    "data_meanTime_month.head()"
   ]
  },
  {
   "cell_type": "code",
   "execution_count": 7,
   "metadata": {},
   "outputs": [],
   "source": [
    "data_meanTime_Dec = data_meanTime_month.loc[data_meanTime_month[\"month\"] == 12]"
   ]
  },
  {
   "cell_type": "code",
   "execution_count": 8,
   "metadata": {},
   "outputs": [
    {
     "data": {
      "text/html": [
       "<div>\n",
       "<style scoped>\n",
       "    .dataframe tbody tr th:only-of-type {\n",
       "        vertical-align: middle;\n",
       "    }\n",
       "\n",
       "    .dataframe tbody tr th {\n",
       "        vertical-align: top;\n",
       "    }\n",
       "\n",
       "    .dataframe thead th {\n",
       "        text-align: right;\n",
       "    }\n",
       "</style>\n",
       "<table border=\"1\" class=\"dataframe\">\n",
       "  <thead>\n",
       "    <tr style=\"text-align: right;\">\n",
       "      <th></th>\n",
       "      <th>sourceid</th>\n",
       "      <th>dstid</th>\n",
       "      <th>month</th>\n",
       "      <th>mean_travel_time</th>\n",
       "    </tr>\n",
       "  </thead>\n",
       "  <tbody>\n",
       "    <tr>\n",
       "      <th>2</th>\n",
       "      <td>758</td>\n",
       "      <td>972</td>\n",
       "      <td>12</td>\n",
       "      <td>953.55</td>\n",
       "    </tr>\n",
       "    <tr>\n",
       "      <th>5</th>\n",
       "      <td>1197</td>\n",
       "      <td>2006</td>\n",
       "      <td>12</td>\n",
       "      <td>1213.18</td>\n",
       "    </tr>\n",
       "    <tr>\n",
       "      <th>6</th>\n",
       "      <td>2652</td>\n",
       "      <td>620</td>\n",
       "      <td>12</td>\n",
       "      <td>828.92</td>\n",
       "    </tr>\n",
       "    <tr>\n",
       "      <th>7</th>\n",
       "      <td>2427</td>\n",
       "      <td>2693</td>\n",
       "      <td>12</td>\n",
       "      <td>1742.80</td>\n",
       "    </tr>\n",
       "    <tr>\n",
       "      <th>8</th>\n",
       "      <td>2653</td>\n",
       "      <td>610</td>\n",
       "      <td>12</td>\n",
       "      <td>699.03</td>\n",
       "    </tr>\n",
       "  </tbody>\n",
       "</table>\n",
       "</div>"
      ],
      "text/plain": [
       "   sourceid  dstid  month  mean_travel_time\n",
       "2       758    972     12            953.55\n",
       "5      1197   2006     12           1213.18\n",
       "6      2652    620     12            828.92\n",
       "7      2427   2693     12           1742.80\n",
       "8      2653    610     12            699.03"
      ]
     },
     "execution_count": 8,
     "metadata": {},
     "output_type": "execute_result"
    }
   ],
   "source": [
    "data_meanTime_Dec.head()"
   ]
  },
  {
   "cell_type": "code",
   "execution_count": 9,
   "metadata": {},
   "outputs": [],
   "source": [
    "data_meanTime_Dec = data_meanTime_Dec.iloc[:,[0,1,3]]"
   ]
  },
  {
   "cell_type": "markdown",
   "metadata": {},
   "source": [
    "### (2) create a dataframe to get ready for the graph creation and then create a graph"
   ]
  },
  {
   "cell_type": "code",
   "execution_count": 10,
   "metadata": {},
   "outputs": [
    {
     "data": {
      "text/html": [
       "<div>\n",
       "<style scoped>\n",
       "    .dataframe tbody tr th:only-of-type {\n",
       "        vertical-align: middle;\n",
       "    }\n",
       "\n",
       "    .dataframe tbody tr th {\n",
       "        vertical-align: top;\n",
       "    }\n",
       "\n",
       "    .dataframe thead th {\n",
       "        text-align: right;\n",
       "    }\n",
       "</style>\n",
       "<table border=\"1\" class=\"dataframe\">\n",
       "  <thead>\n",
       "    <tr style=\"text-align: right;\">\n",
       "      <th></th>\n",
       "      <th>sourceid</th>\n",
       "      <th>dstid</th>\n",
       "      <th>mean_travel_time</th>\n",
       "    </tr>\n",
       "  </thead>\n",
       "  <tbody>\n",
       "    <tr>\n",
       "      <th>2</th>\n",
       "      <td>758</td>\n",
       "      <td>972</td>\n",
       "      <td>953.55</td>\n",
       "    </tr>\n",
       "    <tr>\n",
       "      <th>5</th>\n",
       "      <td>1197</td>\n",
       "      <td>2006</td>\n",
       "      <td>1213.18</td>\n",
       "    </tr>\n",
       "    <tr>\n",
       "      <th>6</th>\n",
       "      <td>2652</td>\n",
       "      <td>620</td>\n",
       "      <td>828.92</td>\n",
       "    </tr>\n",
       "    <tr>\n",
       "      <th>7</th>\n",
       "      <td>2427</td>\n",
       "      <td>2693</td>\n",
       "      <td>1742.80</td>\n",
       "    </tr>\n",
       "    <tr>\n",
       "      <th>8</th>\n",
       "      <td>2653</td>\n",
       "      <td>610</td>\n",
       "      <td>699.03</td>\n",
       "    </tr>\n",
       "  </tbody>\n",
       "</table>\n",
       "</div>"
      ],
      "text/plain": [
       "   sourceid  dstid  mean_travel_time\n",
       "2       758    972            953.55\n",
       "5      1197   2006           1213.18\n",
       "6      2652    620            828.92\n",
       "7      2427   2693           1742.80\n",
       "8      2653    610            699.03"
      ]
     },
     "execution_count": 10,
     "metadata": {},
     "output_type": "execute_result"
    }
   ],
   "source": [
    "data_meanTime_Dec.head()"
   ]
  },
  {
   "cell_type": "code",
   "execution_count": 11,
   "metadata": {},
   "outputs": [],
   "source": [
    "data_meanTime_Dec[\"sourceid\"] = data_meanTime_Dec[\"sourceid\"].astype(str)\n",
    "data_meanTime_Dec[\"dstid\"] = data_meanTime_Dec[\"dstid\"].astype(str)"
   ]
  },
  {
   "cell_type": "code",
   "execution_count": 12,
   "metadata": {},
   "outputs": [
    {
     "data": {
      "text/html": [
       "<div>\n",
       "<style scoped>\n",
       "    .dataframe tbody tr th:only-of-type {\n",
       "        vertical-align: middle;\n",
       "    }\n",
       "\n",
       "    .dataframe tbody tr th {\n",
       "        vertical-align: top;\n",
       "    }\n",
       "\n",
       "    .dataframe thead th {\n",
       "        text-align: right;\n",
       "    }\n",
       "</style>\n",
       "<table border=\"1\" class=\"dataframe\">\n",
       "  <thead>\n",
       "    <tr style=\"text-align: right;\">\n",
       "      <th></th>\n",
       "      <th>sourceid</th>\n",
       "      <th>dstid</th>\n",
       "      <th>mean_travel_time</th>\n",
       "    </tr>\n",
       "  </thead>\n",
       "  <tbody>\n",
       "    <tr>\n",
       "      <th>2</th>\n",
       "      <td>758</td>\n",
       "      <td>972</td>\n",
       "      <td>953.55</td>\n",
       "    </tr>\n",
       "    <tr>\n",
       "      <th>5</th>\n",
       "      <td>1197</td>\n",
       "      <td>2006</td>\n",
       "      <td>1213.18</td>\n",
       "    </tr>\n",
       "    <tr>\n",
       "      <th>6</th>\n",
       "      <td>2652</td>\n",
       "      <td>620</td>\n",
       "      <td>828.92</td>\n",
       "    </tr>\n",
       "    <tr>\n",
       "      <th>7</th>\n",
       "      <td>2427</td>\n",
       "      <td>2693</td>\n",
       "      <td>1742.80</td>\n",
       "    </tr>\n",
       "    <tr>\n",
       "      <th>8</th>\n",
       "      <td>2653</td>\n",
       "      <td>610</td>\n",
       "      <td>699.03</td>\n",
       "    </tr>\n",
       "  </tbody>\n",
       "</table>\n",
       "</div>"
      ],
      "text/plain": [
       "  sourceid dstid  mean_travel_time\n",
       "2      758   972            953.55\n",
       "5     1197  2006           1213.18\n",
       "6     2652   620            828.92\n",
       "7     2427  2693           1742.80\n",
       "8     2653   610            699.03"
      ]
     },
     "execution_count": 12,
     "metadata": {},
     "output_type": "execute_result"
    }
   ],
   "source": [
    "data_meanTime_Dec.head()"
   ]
  },
  {
   "cell_type": "code",
   "execution_count": 13,
   "metadata": {},
   "outputs": [
    {
     "data": {
      "text/plain": [
       "str"
      ]
     },
     "execution_count": 13,
     "metadata": {},
     "output_type": "execute_result"
    }
   ],
   "source": [
    "type(data_meanTime_Dec.iloc[1,0])"
   ]
  },
  {
   "cell_type": "code",
   "execution_count": 14,
   "metadata": {},
   "outputs": [],
   "source": [
    "# create a graph from the data_meanTime_Dec dataframe\n",
    "tuples = [tuple(x) for x in data_meanTime_Dec.values]\n",
    "g = igraph.Graph.TupleList(tuples, directed = False, edge_attrs = [\"mean_travel_time\"])"
   ]
  },
  {
   "cell_type": "markdown",
   "metadata": {},
   "source": [
    "### (3) extract Geo json data"
   ]
  },
  {
   "cell_type": "code",
   "execution_count": 15,
   "metadata": {},
   "outputs": [],
   "source": [
    "with open(\"los_angeles_censustracts.json\", \"r\") as f:\n",
    "    data_json = json.load(f)"
   ]
  },
  {
   "cell_type": "code",
   "execution_count": 16,
   "metadata": {},
   "outputs": [
    {
     "data": {
      "text/plain": [
       "'FeatureCollection'"
      ]
     },
     "execution_count": 16,
     "metadata": {},
     "output_type": "execute_result"
    }
   ],
   "source": [
    "data_json[\"type\"]"
   ]
  },
  {
   "cell_type": "code",
   "execution_count": 17,
   "metadata": {},
   "outputs": [],
   "source": [
    "geo_data = data_json[\"features\"]"
   ]
  },
  {
   "cell_type": "code",
   "execution_count": 18,
   "metadata": {},
   "outputs": [],
   "source": [
    "# create an empty dataframe\n",
    "col_names = [\"ID\", \"Display_Name\", \"Logitude\", \"Latitude\"]\n",
    "id_to_coordinate = pd.DataFrame(columns = col_names)"
   ]
  },
  {
   "cell_type": "code",
   "execution_count": 19,
   "metadata": {},
   "outputs": [],
   "source": [
    "id_to_coordinate.loc[0,\"ID\"]=1"
   ]
  },
  {
   "cell_type": "code",
   "execution_count": 20,
   "metadata": {},
   "outputs": [
    {
     "data": {
      "text/html": [
       "<div>\n",
       "<style scoped>\n",
       "    .dataframe tbody tr th:only-of-type {\n",
       "        vertical-align: middle;\n",
       "    }\n",
       "\n",
       "    .dataframe tbody tr th {\n",
       "        vertical-align: top;\n",
       "    }\n",
       "\n",
       "    .dataframe thead th {\n",
       "        text-align: right;\n",
       "    }\n",
       "</style>\n",
       "<table border=\"1\" class=\"dataframe\">\n",
       "  <thead>\n",
       "    <tr style=\"text-align: right;\">\n",
       "      <th></th>\n",
       "      <th>ID</th>\n",
       "      <th>Display_Name</th>\n",
       "      <th>Logitude</th>\n",
       "      <th>Latitude</th>\n",
       "    </tr>\n",
       "  </thead>\n",
       "  <tbody>\n",
       "    <tr>\n",
       "      <th>0</th>\n",
       "      <td>1</td>\n",
       "      <td>NaN</td>\n",
       "      <td>NaN</td>\n",
       "      <td>NaN</td>\n",
       "    </tr>\n",
       "  </tbody>\n",
       "</table>\n",
       "</div>"
      ],
      "text/plain": [
       "  ID Display_Name Logitude Latitude\n",
       "0  1          NaN      NaN      NaN"
      ]
     },
     "execution_count": 20,
     "metadata": {},
     "output_type": "execute_result"
    }
   ],
   "source": [
    "id_to_coordinate"
   ]
  },
  {
   "cell_type": "code",
   "execution_count": 21,
   "metadata": {},
   "outputs": [],
   "source": [
    "i = 0\n",
    "\n",
    "for feature in geo_data:\n",
    "    id_to_coordinate.loc[i,\"ID\"] = feature[\"properties\"][\"MOVEMENT_ID\"]\n",
    "    id_to_coordinate.loc[i,\"Display_Name\"] = feature[\"properties\"][\"DISPLAY_NAME\"]\n",
    "    \n",
    "    coordinates = feature[\"geometry\"][\"coordinates\"][0][0]\n",
    "    if isinstance(coordinates[0], list):\n",
    "        latitude = 0\n",
    "        longitude = 0\n",
    "        for coordinate in coordinates:\n",
    "            longitude = longitude + coordinate[0]\n",
    "            latitude = latitude + coordinate[1]\n",
    "\n",
    "        longitude = longitude/len(coordinates)\n",
    "        latitude = latitude/len(coordinates)\n",
    "    else:\n",
    "        coordinates = feature[\"geometry\"][\"coordinates\"][0]\n",
    "        latitude = 0\n",
    "        longitude = 0\n",
    "        for coordinate in coordinates:\n",
    "            longitude = longitude + coordinate[0]\n",
    "            latitude = latitude + coordinate[1]\n",
    "\n",
    "        longitude = longitude/len(coordinates)\n",
    "        latitude = latitude/len(coordinates)\n",
    "        \n",
    "    id_to_coordinate.loc[i,\"Latitude\"] = latitude\n",
    "    id_to_coordinate.loc[i,\"Logitude\"] = longitude\n",
    "    i = i+1\n"
   ]
  },
  {
   "cell_type": "code",
   "execution_count": 22,
   "metadata": {},
   "outputs": [
    {
     "data": {
      "text/html": [
       "<div>\n",
       "<style scoped>\n",
       "    .dataframe tbody tr th:only-of-type {\n",
       "        vertical-align: middle;\n",
       "    }\n",
       "\n",
       "    .dataframe tbody tr th {\n",
       "        vertical-align: top;\n",
       "    }\n",
       "\n",
       "    .dataframe thead th {\n",
       "        text-align: right;\n",
       "    }\n",
       "</style>\n",
       "<table border=\"1\" class=\"dataframe\">\n",
       "  <thead>\n",
       "    <tr style=\"text-align: right;\">\n",
       "      <th></th>\n",
       "      <th>ID</th>\n",
       "      <th>Display_Name</th>\n",
       "      <th>Logitude</th>\n",
       "      <th>Latitude</th>\n",
       "    </tr>\n",
       "  </thead>\n",
       "  <tbody>\n",
       "    <tr>\n",
       "      <th>0</th>\n",
       "      <td>1</td>\n",
       "      <td>Census Tract 480302</td>\n",
       "      <td>-118.121</td>\n",
       "      <td>34.1031</td>\n",
       "    </tr>\n",
       "    <tr>\n",
       "      <th>1</th>\n",
       "      <td>2</td>\n",
       "      <td>Census Tract 480303</td>\n",
       "      <td>-118.138</td>\n",
       "      <td>34.0965</td>\n",
       "    </tr>\n",
       "    <tr>\n",
       "      <th>2</th>\n",
       "      <td>3</td>\n",
       "      <td>Census Tract 480304</td>\n",
       "      <td>-118.131</td>\n",
       "      <td>34.0963</td>\n",
       "    </tr>\n",
       "    <tr>\n",
       "      <th>3</th>\n",
       "      <td>4</td>\n",
       "      <td>Census Tract 480400</td>\n",
       "      <td>-118.132</td>\n",
       "      <td>34.1035</td>\n",
       "    </tr>\n",
       "    <tr>\n",
       "      <th>4</th>\n",
       "      <td>5</td>\n",
       "      <td>Census Tract 480500</td>\n",
       "      <td>-118.145</td>\n",
       "      <td>34.0987</td>\n",
       "    </tr>\n",
       "  </tbody>\n",
       "</table>\n",
       "</div>"
      ],
      "text/plain": [
       "  ID         Display_Name Logitude Latitude\n",
       "0  1  Census Tract 480302 -118.121  34.1031\n",
       "1  2  Census Tract 480303 -118.138  34.0965\n",
       "2  3  Census Tract 480304 -118.131  34.0963\n",
       "3  4  Census Tract 480400 -118.132  34.1035\n",
       "4  5  Census Tract 480500 -118.145  34.0987"
      ]
     },
     "execution_count": 22,
     "metadata": {},
     "output_type": "execute_result"
    }
   ],
   "source": [
    "id_to_coordinate.head()"
   ]
  },
  {
   "cell_type": "code",
   "execution_count": 23,
   "metadata": {},
   "outputs": [
    {
     "name": "stdout",
     "output_type": "stream",
     "text": [
      "2649\n",
      "<igraph.VertexSeq object at 0x7fdc97c5aa10>\n"
     ]
    }
   ],
   "source": [
    "print(len(g.vs()))\n",
    "print(g.vs)"
   ]
  },
  {
   "cell_type": "code",
   "execution_count": 24,
   "metadata": {},
   "outputs": [
    {
     "name": "stdout",
     "output_type": "stream",
     "text": [
      "Census Tract 480302\n"
     ]
    },
    {
     "data": {
      "text/plain": [
       "'Census Tract 480302'"
      ]
     },
     "execution_count": 24,
     "metadata": {},
     "output_type": "execute_result"
    }
   ],
   "source": [
    "print((id_to_coordinate.loc[id_to_coordinate[\"ID\"] == \"1\"]).iloc[:,1].values[0])\n",
    "id_to_coordinate.loc[id_to_coordinate[\"ID\"] == \"1\"].iloc[:,1].values[0]"
   ]
  },
  {
   "cell_type": "markdown",
   "metadata": {},
   "source": [
    "### (4) map the coordinates from the Geo data to the vertices of the graph"
   ]
  },
  {
   "cell_type": "code",
   "execution_count": 25,
   "metadata": {},
   "outputs": [],
   "source": [
    "gVertexSeq = g.vs()\n",
    "for v in gVertexSeq:\n",
    "    v[\"Display_Name\"] = id_to_coordinate.loc[id_to_coordinate[\"ID\"] == v['name']].iloc[:,1].values[0]\n",
    "    v[\"Coordinate\"] = (id_to_coordinate.loc[id_to_coordinate[\"ID\"] == v['name']].iloc[:,2].values[0],\n",
    "                       id_to_coordinate.loc[id_to_coordinate[\"ID\"] == v['name']].iloc[:,3].values[0])"
   ]
  },
  {
   "cell_type": "code",
   "execution_count": 26,
   "metadata": {},
   "outputs": [
    {
     "name": "stdout",
     "output_type": "stream",
     "text": [
      "(-118.24626321917806, 34.13025083561643)\n",
      "382\n"
     ]
    }
   ],
   "source": [
    "print(g.vs[1904][\"Coordinate\"])\n",
    "print(g.vs[1904][\"name\"])"
   ]
  },
  {
   "cell_type": "code",
   "execution_count": 27,
   "metadata": {},
   "outputs": [
    {
     "data": {
      "text/plain": [
       "ID                             1122\n",
       "Display_Name    Census Tract 191410\n",
       "Logitude                   -118.287\n",
       "Latitude                      34.09\n",
       "Name: 1121, dtype: object"
      ]
     },
     "execution_count": 27,
     "metadata": {},
     "output_type": "execute_result"
    }
   ],
   "source": [
    "id_to_coordinate.loc[1121]"
   ]
  },
  {
   "cell_type": "code",
   "execution_count": 28,
   "metadata": {},
   "outputs": [
    {
     "data": {
      "text/plain": [
       "2649"
      ]
     },
     "execution_count": 28,
     "metadata": {},
     "output_type": "execute_result"
    }
   ],
   "source": [
    "len(gVertexSeq)"
   ]
  },
  {
   "cell_type": "code",
   "execution_count": 29,
   "metadata": {},
   "outputs": [
    {
     "name": "stdout",
     "output_type": "stream",
     "text": [
      "IGRAPH UN-- 2649 1692450 -- \n",
      "+ attr: Coordinate (v), Display_Name (v), name (v), mean_travel_time (e)\n"
     ]
    }
   ],
   "source": [
    "# summary print out the attributes of the graph\n",
    "# there are 4 attributes, the first three is the attributes for the vertices\n",
    "# the last one is the attribute for the edges, that is the weights of the edges\n",
    "g_giant = g.components().giant()\n",
    "igraph.summary(g_giant)"
   ]
  },
  {
   "cell_type": "code",
   "execution_count": 30,
   "metadata": {},
   "outputs": [
    {
     "data": {
      "text/plain": [
       "2649"
      ]
     },
     "execution_count": 30,
     "metadata": {},
     "output_type": "execute_result"
    }
   ],
   "source": [
    "len(g_giant.vs())"
   ]
  },
  {
   "cell_type": "markdown",
   "metadata": {},
   "source": [
    "## Q7"
   ]
  },
  {
   "cell_type": "code",
   "execution_count": 31,
   "metadata": {},
   "outputs": [],
   "source": [
    "g_giant_mst = g_giant.spanning_tree(weights = g_giant.es[\"mean_travel_time\"])"
   ]
  },
  {
   "cell_type": "code",
   "execution_count": 32,
   "metadata": {},
   "outputs": [],
   "source": [
    "mst_VertexSeq = g_giant_mst.vs()"
   ]
  },
  {
   "cell_type": "code",
   "execution_count": 33,
   "metadata": {},
   "outputs": [],
   "source": [
    "last_idx = len(mst_VertexSeq)-1"
   ]
  },
  {
   "cell_type": "code",
   "execution_count": 34,
   "metadata": {},
   "outputs": [
    {
     "name": "stdout",
     "output_type": "stream",
     "text": [
      "Random point1:\n",
      "One endpoint:\n",
      "ID: 1703, Display_Name: Census Tract 540202\n",
      "Coordinate: (-118.20491914545457, 33.93346674545453)\n",
      "Another endpoint:\n",
      "ID: 1653, Display_Name: Census Tract 294830\n",
      "Coordinate: (-118.2640670769231, 33.7690916923077)\n",
      "\n",
      "Random point2:\n",
      "One endpoint:\n",
      "ID: 756, Display_Name: Census Tract 107020\n",
      "Coordinate: (-118.44763261538462, 34.29622456410257)\n",
      "Another endpoint:\n",
      "ID: 1658, Display_Name: Census Tract 296300\n",
      "Coordinate: (-118.29856045454541, 33.75470094545454)\n",
      "\n",
      "Random point3:\n",
      "One endpoint:\n",
      "ID: 664, Display_Name: Census Tract 575902\n",
      "Coordinate: (-118.19493178947371, 33.77167431578947)\n",
      "Another endpoint:\n",
      "ID: 694, Display_Name: Census Tract 980007\n",
      "Coordinate: (-118.10667791240878, 33.76318907299268)\n",
      "\n",
      "Random point4:\n",
      "One endpoint:\n",
      "ID: 2185, Display_Name: Census Tract 403802\n",
      "Coordinate: (-117.84598029213484, 34.103187044943816)\n",
      "Another endpoint:\n",
      "ID: 550, Display_Name: Census Tract 503703\n",
      "Coordinate: (-117.9865270135135, 33.908493094594604)\n",
      "\n",
      "Random point5:\n",
      "One endpoint:\n",
      "ID: 26, Display_Name: Census Tract 430721\n",
      "Coordinate: (-118.04590074444438, 34.142880988888884)\n",
      "Another endpoint:\n",
      "ID: 640, Display_Name: Census Tract 574300\n",
      "Coordinate: (-118.11672452941177, 33.80006201960784)\n",
      "\n",
      "Random point6:\n",
      "One endpoint:\n",
      "ID: 2587, Display_Name: Census Tract 011402\n",
      "Coordinate: (-117.90755624999994, 33.88165631818182)\n",
      "Another endpoint:\n",
      "ID: 2572, Display_Name: Census Tract 001705\n",
      "Coordinate: (-117.9385743983051, 33.90876750000001)\n",
      "\n"
     ]
    }
   ],
   "source": [
    "import random\n",
    "r = random.randint(0, len(mst_VertexSeq))\n",
    "for i in range(6):\n",
    "    r = random.randint(0, len(mst_VertexSeq))\n",
    "    print(\"Random point{}:\".format(i+1))\n",
    "    print(\"One endpoint:\\nID: {}, Display_Name: {}\".format(mst_VertexSeq[r][\"name\"], mst_VertexSeq[r][\"Display_Name\"]))\n",
    "    print(\"Coordinate: {}\".format(mst_VertexSeq[r][\"Coordinate\"]))\n",
    "    print(\"Another endpoint:\\nID: {}, Display_Name: {}\".format(mst_VertexSeq[r+1][\"name\"], mst_VertexSeq[r+1][\"Display_Name\"]))\n",
    "    print(\"Coordinate: {}\\n\".format(mst_VertexSeq[r+1][\"Coordinate\"]))"
   ]
  },
  {
   "cell_type": "code",
   "execution_count": 35,
   "metadata": {},
   "outputs": [
    {
     "name": "stdout",
     "output_type": "stream",
     "text": [
      "First endpoint:\n",
      "ID: 758, Display_Name: Census Tract 108102\n",
      "Coordinate: (-118.55507863580257, 34.281302679012335)\n",
      "\n"
     ]
    }
   ],
   "source": [
    "print(\"First endpoint:\\nID: {}, Display_Name: {}\".format(mst_VertexSeq[0][\"name\"], mst_VertexSeq[0][\"Display_Name\"]))\n",
    "print(\"Coordinate: {}\\n\".format(mst_VertexSeq[0][\"Coordinate\"]))"
   ]
  },
  {
   "cell_type": "code",
   "execution_count": 36,
   "metadata": {},
   "outputs": [
    {
     "name": "stdout",
     "output_type": "stream",
     "text": [
      "Second endpoint:\n",
      "ID: 972, Display_Name: Census Tract 134306\n",
      "Coordinate: (-118.60169800000001, 34.212028875)\n",
      "\n"
     ]
    }
   ],
   "source": [
    "print(\"Second endpoint:\\nID: {}, Display_Name: {}\".format(mst_VertexSeq[1][\"name\"], mst_VertexSeq[1][\"Display_Name\"]))\n",
    "print(\"Coordinate: {}\\n\".format(mst_VertexSeq[1][\"Coordinate\"]))"
   ]
  },
  {
   "cell_type": "code",
   "execution_count": null,
   "metadata": {},
   "outputs": [],
   "source": []
  },
  {
   "cell_type": "markdown",
   "metadata": {},
   "source": [
    "## Q11"
   ]
  },
  {
   "cell_type": "code",
   "execution_count": 37,
   "metadata": {},
   "outputs": [],
   "source": [
    "import matplotlib.pyplot as plt\n",
    "from scipy.spatial import Delaunay\n",
    "import numpy as np"
   ]
  },
  {
   "cell_type": "code",
   "execution_count": 38,
   "metadata": {},
   "outputs": [
    {
     "data": {
      "text/html": [
       "<div>\n",
       "<style scoped>\n",
       "    .dataframe tbody tr th:only-of-type {\n",
       "        vertical-align: middle;\n",
       "    }\n",
       "\n",
       "    .dataframe tbody tr th {\n",
       "        vertical-align: top;\n",
       "    }\n",
       "\n",
       "    .dataframe thead th {\n",
       "        text-align: right;\n",
       "    }\n",
       "</style>\n",
       "<table border=\"1\" class=\"dataframe\">\n",
       "  <thead>\n",
       "    <tr style=\"text-align: right;\">\n",
       "      <th></th>\n",
       "      <th>ID</th>\n",
       "      <th>Display_Name</th>\n",
       "      <th>Logitude</th>\n",
       "      <th>Latitude</th>\n",
       "    </tr>\n",
       "  </thead>\n",
       "  <tbody>\n",
       "    <tr>\n",
       "      <th>0</th>\n",
       "      <td>1</td>\n",
       "      <td>Census Tract 480302</td>\n",
       "      <td>-118.121</td>\n",
       "      <td>34.1031</td>\n",
       "    </tr>\n",
       "    <tr>\n",
       "      <th>1</th>\n",
       "      <td>2</td>\n",
       "      <td>Census Tract 480303</td>\n",
       "      <td>-118.138</td>\n",
       "      <td>34.0965</td>\n",
       "    </tr>\n",
       "    <tr>\n",
       "      <th>2</th>\n",
       "      <td>3</td>\n",
       "      <td>Census Tract 480304</td>\n",
       "      <td>-118.131</td>\n",
       "      <td>34.0963</td>\n",
       "    </tr>\n",
       "    <tr>\n",
       "      <th>3</th>\n",
       "      <td>4</td>\n",
       "      <td>Census Tract 480400</td>\n",
       "      <td>-118.132</td>\n",
       "      <td>34.1035</td>\n",
       "    </tr>\n",
       "    <tr>\n",
       "      <th>4</th>\n",
       "      <td>5</td>\n",
       "      <td>Census Tract 480500</td>\n",
       "      <td>-118.145</td>\n",
       "      <td>34.0987</td>\n",
       "    </tr>\n",
       "  </tbody>\n",
       "</table>\n",
       "</div>"
      ],
      "text/plain": [
       "  ID         Display_Name Logitude Latitude\n",
       "0  1  Census Tract 480302 -118.121  34.1031\n",
       "1  2  Census Tract 480303 -118.138  34.0965\n",
       "2  3  Census Tract 480304 -118.131  34.0963\n",
       "3  4  Census Tract 480400 -118.132  34.1035\n",
       "4  5  Census Tract 480500 -118.145  34.0987"
      ]
     },
     "execution_count": 38,
     "metadata": {},
     "output_type": "execute_result"
    }
   ],
   "source": [
    "id_to_coordinate.head()"
   ]
  },
  {
   "cell_type": "code",
   "execution_count": 39,
   "metadata": {},
   "outputs": [
    {
     "data": {
      "text/html": [
       "<div>\n",
       "<style scoped>\n",
       "    .dataframe tbody tr th:only-of-type {\n",
       "        vertical-align: middle;\n",
       "    }\n",
       "\n",
       "    .dataframe tbody tr th {\n",
       "        vertical-align: top;\n",
       "    }\n",
       "\n",
       "    .dataframe thead th {\n",
       "        text-align: right;\n",
       "    }\n",
       "</style>\n",
       "<table border=\"1\" class=\"dataframe\">\n",
       "  <thead>\n",
       "    <tr style=\"text-align: right;\">\n",
       "      <th></th>\n",
       "      <th>Logitude</th>\n",
       "      <th>Latitude</th>\n",
       "    </tr>\n",
       "  </thead>\n",
       "  <tbody>\n",
       "    <tr>\n",
       "      <th>0</th>\n",
       "      <td>-118.121</td>\n",
       "      <td>34.1031</td>\n",
       "    </tr>\n",
       "    <tr>\n",
       "      <th>1</th>\n",
       "      <td>-118.138</td>\n",
       "      <td>34.0965</td>\n",
       "    </tr>\n",
       "    <tr>\n",
       "      <th>2</th>\n",
       "      <td>-118.131</td>\n",
       "      <td>34.0963</td>\n",
       "    </tr>\n",
       "    <tr>\n",
       "      <th>3</th>\n",
       "      <td>-118.132</td>\n",
       "      <td>34.1035</td>\n",
       "    </tr>\n",
       "    <tr>\n",
       "      <th>4</th>\n",
       "      <td>-118.145</td>\n",
       "      <td>34.0987</td>\n",
       "    </tr>\n",
       "  </tbody>\n",
       "</table>\n",
       "</div>"
      ],
      "text/plain": [
       "  Logitude Latitude\n",
       "0 -118.121  34.1031\n",
       "1 -118.138  34.0965\n",
       "2 -118.131  34.0963\n",
       "3 -118.132  34.1035\n",
       "4 -118.145  34.0987"
      ]
     },
     "execution_count": 39,
     "metadata": {},
     "output_type": "execute_result"
    }
   ],
   "source": [
    "coordinates_df = id_to_coordinate.iloc[:,[2,3]]\n",
    "coordinates_df.head()"
   ]
  },
  {
   "cell_type": "code",
   "execution_count": 40,
   "metadata": {},
   "outputs": [
    {
     "data": {
      "text/plain": [
       "2716"
      ]
     },
     "execution_count": 40,
     "metadata": {},
     "output_type": "execute_result"
    }
   ],
   "source": [
    "len(coordinates_df)"
   ]
  },
  {
   "cell_type": "code",
   "execution_count": 41,
   "metadata": {},
   "outputs": [
    {
     "data": {
      "text/plain": [
       "-118.12053321311474"
      ]
     },
     "execution_count": 41,
     "metadata": {},
     "output_type": "execute_result"
    }
   ],
   "source": [
    "coordinates_df.iloc[0,0]"
   ]
  },
  {
   "cell_type": "code",
   "execution_count": 42,
   "metadata": {},
   "outputs": [
    {
     "data": {
      "text/plain": [
       "numpy.ndarray"
      ]
     },
     "execution_count": 42,
     "metadata": {},
     "output_type": "execute_result"
    }
   ],
   "source": [
    "type(np.array([coordinates_df.iloc[0,0], coordinates_df.iloc[0,1]]))"
   ]
  },
  {
   "cell_type": "code",
   "execution_count": 43,
   "metadata": {},
   "outputs": [
    {
     "data": {
      "text/plain": [
       "array([1., 0.])"
      ]
     },
     "execution_count": 43,
     "metadata": {},
     "output_type": "execute_result"
    }
   ],
   "source": [
    "a = np.zeros((2))\n",
    "a[0] = 1\n",
    "a"
   ]
  },
  {
   "cell_type": "code",
   "execution_count": 44,
   "metadata": {},
   "outputs": [],
   "source": [
    "coordinates_list = []\n",
    "for i in range(len(coordinates_df)):\n",
    "    coordinates_list.append([coordinates_df.iloc[i,0], coordinates_df.iloc[i,1]])\n",
    "coordinates_array = np.array(coordinates_list)"
   ]
  },
  {
   "cell_type": "code",
   "execution_count": 45,
   "metadata": {},
   "outputs": [],
   "source": [
    "tri = Delaunay(coordinates_array)"
   ]
  },
  {
   "cell_type": "code",
   "execution_count": 46,
   "metadata": {},
   "outputs": [
    {
     "data": {
      "text/plain": [
       "array([[2610, 2614, 2613],\n",
       "       [2665, 2478, 2625],\n",
       "       [2270, 2472, 2470],\n",
       "       ...,\n",
       "       [ 425,  424, 2432],\n",
       "       [ 424,  570,  571],\n",
       "       [ 424,  425,  570]], dtype=int32)"
      ]
     },
     "execution_count": 46,
     "metadata": {},
     "output_type": "execute_result"
    }
   ],
   "source": [
    "tri.simplices"
   ]
  },
  {
   "cell_type": "code",
   "execution_count": 47,
   "metadata": {},
   "outputs": [
    {
     "data": {
      "text/plain": [
       "16221"
      ]
     },
     "execution_count": 47,
     "metadata": {},
     "output_type": "execute_result"
    }
   ],
   "source": [
    "triangle_idx_array = []\n",
    "for triangle in tri.simplices:\n",
    "    for idx in triangle:\n",
    "        triangle_idx_array.append(idx)\n",
    "len(triangle_idx_array)"
   ]
  },
  {
   "cell_type": "code",
   "execution_count": 48,
   "metadata": {},
   "outputs": [
    {
     "data": {
      "text/plain": [
       "0"
      ]
     },
     "execution_count": 48,
     "metadata": {},
     "output_type": "execute_result"
    }
   ],
   "source": [
    "min(triangle_idx_array)"
   ]
  },
  {
   "cell_type": "code",
   "execution_count": 49,
   "metadata": {},
   "outputs": [
    {
     "data": {
      "image/png": "[encoded data removed]",
      "text/plain": [
       "<Figure size 432x288 with 1 Axes>"
      ]
     },
     "metadata": {
      "needs_background": "light"
     },
     "output_type": "display_data"
    }
   ],
   "source": [
    "x = tri.points[:,0]\n",
    "y = tri.points[:,1]\n",
    "plt.triplot(x, y, tri.simplices)\n",
    "plt.plot(x, y, 'o')\n",
    "plt.show()"
   ]
  },
  {
   "cell_type": "code",
   "execution_count": 50,
   "metadata": {},
   "outputs": [
    {
     "data": {
      "text/plain": [
       "[1, 2]"
      ]
     },
     "execution_count": 50,
     "metadata": {},
     "output_type": "execute_result"
    }
   ],
   "source": [
    "a = (1,2)\n",
    "b = list(a)\n",
    "b"
   ]
  },
  {
   "cell_type": "code",
   "execution_count": 51,
   "metadata": {},
   "outputs": [],
   "source": [
    "coordinates_list = []\n",
    "gVertexSeq = g_giant.vs()\n",
    "for v in gVertexSeq:\n",
    "    coordinates_list.append(list(v[\"Coordinate\"]))\n",
    "coordinates_array = np.array(coordinates_list)"
   ]
  },
  {
   "cell_type": "code",
   "execution_count": 52,
   "metadata": {},
   "outputs": [],
   "source": [
    "tri = Delaunay(coordinates_array)"
   ]
  },
  {
   "cell_type": "code",
   "execution_count": 53,
   "metadata": {},
   "outputs": [
    {
     "data": {
      "text/plain": [
       "array([[2646, 2551, 2648],\n",
       "       [2567, 1801, 2582],\n",
       "       [2125, 2335, 1977],\n",
       "       ...,\n",
       "       [2123, 2249, 1739],\n",
       "       [2123, 1659, 1673],\n",
       "       [2249, 2123, 1673]], dtype=int32)"
      ]
     },
     "execution_count": 53,
     "metadata": {},
     "output_type": "execute_result"
    }
   ],
   "source": [
    "tri.simplices"
   ]
  },
  {
   "cell_type": "code",
   "execution_count": 54,
   "metadata": {},
   "outputs": [
    {
     "data": {
      "image/png": "[encoded data removed]",
      "text/plain": [
       "<Figure size 432x288 with 1 Axes>"
      ]
     },
     "metadata": {
      "needs_background": "light"
     },
     "output_type": "display_data"
    }
   ],
   "source": [
    "x = tri.points[:,0]\n",
    "y = tri.points[:,1]\n",
    "plt.triplot(x, y, tri.simplices, color = \"b\")\n",
    "plt.title(\"Road mesh produced by triangulation\")\n",
    "plt.ylabel(\"Latitude (Degree)\")\n",
    "plt.xlabel(\"Longitude (Degree)\")\n",
    "plt.plot(x, y, 'o')\n",
    "plt.show()"
   ]
  },
  {
   "cell_type": "code",
   "execution_count": 55,
   "metadata": {},
   "outputs": [
    {
     "data": {
      "image/png": "[encoded data removed]",
      "text/plain": [
       "<Figure size 432x288 with 1 Axes>"
      ]
     },
     "metadata": {
      "needs_background": "light"
     },
     "output_type": "display_data"
    }
   ],
   "source": [
    "x = tri.points[:,0]\n",
    "y = tri.points[:,1]\n",
    "plt.triplot(x, y, tri.simplices, color = \"b\")\n",
    "plt.title(\"Zoom-in road mesh produced by triangulation\")\n",
    "plt.ylabel(\"Latitude (Degree)\")\n",
    "plt.xlabel(\"Longitude (Degree)\")\n",
    "#plt.plot(x, y, 'o')\n",
    "plt.ylim((37.6-0.5,37.6+0.5))\n",
    "plt.xlim((-122.25-0.5,-122.25+0.5))\n",
    "plt.show()"
   ]
  },
  {
   "cell_type": "code",
   "execution_count": 91,
   "metadata": {},
   "outputs": [
    {
     "data": {
      "image/png": "[encoded data removed]",
      "text/plain": [
       "<Figure size 432x288 with 1 Axes>"
      ]
     },
     "metadata": {
      "needs_background": "light"
     },
     "output_type": "display_data"
    }
   ],
   "source": [
    "# (-122.1759822222222, 37.42968588888888)\n",
    "x = tri.points[:,0]\n",
    "y = tri.points[:,1]\n",
    "plt.triplot(x, y, tri.simplices, color = \"b\")\n",
    "plt.plot(x, y, 'o')\n",
    "plt.title(\"Zoom-in Stanford neighbourhood produced by triangulation\")\n",
    "plt.ylabel(\"Latitude (Degree)\")\n",
    "plt.xlabel(\"Longitude (Degree)\")\n",
    "plt.ylim((34.04-0.06,34.04+0.06))\n",
    "plt.xlim((-118.56-0.06,-118.56+0.06))\n",
    "\n",
    "plt.plot(-118.54625915050165, 34.048403046822735, 'r.', ms = 25)\n",
    "plt.show()"
   ]
  },
  {
   "cell_type": "code",
   "execution_count": 92,
   "metadata": {},
   "outputs": [
    {
     "data": {
      "image/png": "[encoded data removed]",
      "text/plain": [
       "<Figure size 432x288 with 1 Axes>"
      ]
     },
     "metadata": {
      "needs_background": "light"
     },
     "output_type": "display_data"
    }
   ],
   "source": [
    "# (-122.06456181081083, 36.97416881081081)\n",
    "x = tri.points[:,0]\n",
    "y = tri.points[:,1]\n",
    "plt.triplot(x, y, tri.simplices, color = \"b\")\n",
    "plt.plot(x, y, 'o')\n",
    "plt.title(\"Zoom-in UCSC neighbourhood produced by triangulation\")\n",
    "plt.ylabel(\"Latitude (Degree)\")\n",
    "plt.xlabel(\"Longitude (Degree)\")\n",
    "plt.ylim((33.77-0.06,33.77+0.06))\n",
    "plt.xlim((-118.18-0.06,-118.18+0.06))\n",
    "\n",
    "plt.plot(-118.17865950000001, 33.771767700000005, 'r.', ms=25)\n",
    "plt.show()"
   ]
  },
  {
   "cell_type": "markdown",
   "metadata": {},
   "source": [
    "## Q12"
   ]
  },
  {
   "cell_type": "code",
   "execution_count": 58,
   "metadata": {},
   "outputs": [],
   "source": [
    "from scipy.spatial import distance"
   ]
  },
  {
   "cell_type": "code",
   "execution_count": 63,
   "metadata": {},
   "outputs": [
    {
     "data": {
      "text/plain": [
       "(-118.60169800000001, 34.212028875)"
      ]
     },
     "execution_count": 63,
     "metadata": {},
     "output_type": "execute_result"
    }
   ],
   "source": [
    "g_giant.vs[1][\"Coordinate\"]"
   ]
  },
  {
   "cell_type": "code",
   "execution_count": 64,
   "metadata": {},
   "outputs": [
    {
     "data": {
      "text/plain": [
       "2.8284271247461903"
      ]
     },
     "execution_count": 64,
     "metadata": {},
     "output_type": "execute_result"
    }
   ],
   "source": [
    "a = (1,2)\n",
    "b = (3,4)\n",
    "dist = distance.euclidean(a,b)\n",
    "dist"
   ]
  },
  {
   "cell_type": "code",
   "execution_count": 65,
   "metadata": {},
   "outputs": [],
   "source": [
    "def calculate_flow(dist, time):\n",
    "    speed = dist/time\n",
    "    flow = 2/(0.003/speed + 1/1800)\n",
    "    return flow    "
   ]
  },
  {
   "cell_type": "code",
   "execution_count": 66,
   "metadata": {},
   "outputs": [
    {
     "data": {
      "text/plain": [
       "'IGRAPH UN-- 2649 1692450 -- \\n+ attr: Coordinate (v), Display_Name (v), name (v), Flow (e), mean_travel_time (e)'"
      ]
     },
     "execution_count": 66,
     "metadata": {},
     "output_type": "execute_result"
    }
   ],
   "source": [
    "# calculate the flow for each edge and add an attribute flow to each edge\n",
    "g_giant_flow = g_giant\n",
    "gcc_EdgeSeq = igraph.EdgeSeq(g_giant_flow)\n",
    "i = 0\n",
    "for es in gcc_EdgeSeq:\n",
    "    vertex_id_1 = es.tuple[0]\n",
    "    vertex_id_2 = es.tuple[1]\n",
    "    coordinate_1 = g_giant.vs[vertex_id_1][\"Coordinate\"]\n",
    "    coordinate_2 = g_giant.vs[vertex_id_2][\"Coordinate\"]\n",
    "    dist = 69*distance.euclidean(coordinate_1, coordinate_2) # each degree of latitude and longitude is about 69 miles\n",
    "    time = es[\"mean_travel_time\"]/3600 # convert second to hour\n",
    "    if dist == 0:\n",
    "        continue\n",
    "    flow = calculate_flow(dist, time)\n",
    "    es[\"Flow\"] = flow\n",
    "    i = i+1\n",
    "    \n",
    "g_giant_flow.summary()"
   ]
  },
  {
   "cell_type": "code",
   "execution_count": 67,
   "metadata": {},
   "outputs": [
    {
     "data": {
      "text/plain": [
       "(738, 1410)"
      ]
     },
     "execution_count": 67,
     "metadata": {},
     "output_type": "execute_result"
    }
   ],
   "source": [
    "igraph.EdgeSeq(g_giant)[2251].tuple"
   ]
  },
  {
   "cell_type": "code",
   "execution_count": 68,
   "metadata": {},
   "outputs": [
    {
     "data": {
      "text/plain": [
       "3150.1939485713033"
      ]
     },
     "execution_count": 68,
     "metadata": {},
     "output_type": "execute_result"
    }
   ],
   "source": [
    "gcc_EdgeSeq[10][\"Flow\"]"
   ]
  },
  {
   "cell_type": "code",
   "execution_count": 69,
   "metadata": {},
   "outputs": [
    {
     "data": {
      "text/plain": [
       "0"
      ]
     },
     "execution_count": 69,
     "metadata": {},
     "output_type": "execute_result"
    }
   ],
   "source": [
    "16%2"
   ]
  },
  {
   "cell_type": "code",
   "execution_count": 70,
   "metadata": {},
   "outputs": [],
   "source": [
    "# print the flow for all the edges\n",
    "# i = 1\n",
    "# for es in gcc_EdgeSeq:\n",
    "#     if es[\"Flow\"] is not None:\n",
    "#         flow = es[\"Flow\"]\n",
    "#     else:\n",
    "#         i = i+1\n",
    "#         continue\n",
    "        \n",
    "#     if i % 12 == 0:\n",
    "#         print(\"{:.0f}\\n\".format(flow), end = \"\")\n",
    "#     else:\n",
    "#         print(\"{:.0f}\\t\".format(flow), end = \"\")\n",
    "#     i = i+1"
   ]
  },
  {
   "cell_type": "code",
   "execution_count": 71,
   "metadata": {},
   "outputs": [
    {
     "name": "stdout",
     "output_type": "stream",
     "text": [
      "The mean of the flow is 2926 cars/(hour.road)\n"
     ]
    }
   ],
   "source": [
    "# mean of the flow\n",
    "flow_total = 0\n",
    "n = 0\n",
    "for es in gcc_EdgeSeq:\n",
    "    if es[\"Flow\"] is not None:\n",
    "        flow_total += es[\"Flow\"]\n",
    "        n += 1\n",
    "    else:        \n",
    "        continue\n",
    "flow_mean = flow_total/n\n",
    "print(\"The mean of the flow is {:.0f} cars/(hour.road)\".format(flow_mean))"
   ]
  },
  {
   "cell_type": "markdown",
   "metadata": {},
   "source": [
    "## Q13"
   ]
  },
  {
   "cell_type": "code",
   "execution_count": 72,
   "metadata": {},
   "outputs": [
    {
     "data": {
      "text/html": [
       "<div>\n",
       "<style scoped>\n",
       "    .dataframe tbody tr th:only-of-type {\n",
       "        vertical-align: middle;\n",
       "    }\n",
       "\n",
       "    .dataframe tbody tr th {\n",
       "        vertical-align: top;\n",
       "    }\n",
       "\n",
       "    .dataframe thead th {\n",
       "        text-align: right;\n",
       "    }\n",
       "</style>\n",
       "<table border=\"1\" class=\"dataframe\">\n",
       "  <thead>\n",
       "    <tr style=\"text-align: right;\">\n",
       "      <th></th>\n",
       "      <th>ID</th>\n",
       "      <th>Display_Name</th>\n",
       "      <th>Logitude</th>\n",
       "      <th>Latitude</th>\n",
       "    </tr>\n",
       "  </thead>\n",
       "  <tbody>\n",
       "    <tr>\n",
       "      <th>0</th>\n",
       "      <td>1</td>\n",
       "      <td>Census Tract 480302</td>\n",
       "      <td>-118.121</td>\n",
       "      <td>34.1031</td>\n",
       "    </tr>\n",
       "    <tr>\n",
       "      <th>1</th>\n",
       "      <td>2</td>\n",
       "      <td>Census Tract 480303</td>\n",
       "      <td>-118.138</td>\n",
       "      <td>34.0965</td>\n",
       "    </tr>\n",
       "    <tr>\n",
       "      <th>2</th>\n",
       "      <td>3</td>\n",
       "      <td>Census Tract 480304</td>\n",
       "      <td>-118.131</td>\n",
       "      <td>34.0963</td>\n",
       "    </tr>\n",
       "    <tr>\n",
       "      <th>3</th>\n",
       "      <td>4</td>\n",
       "      <td>Census Tract 480400</td>\n",
       "      <td>-118.132</td>\n",
       "      <td>34.1035</td>\n",
       "    </tr>\n",
       "    <tr>\n",
       "      <th>4</th>\n",
       "      <td>5</td>\n",
       "      <td>Census Tract 480500</td>\n",
       "      <td>-118.145</td>\n",
       "      <td>34.0987</td>\n",
       "    </tr>\n",
       "  </tbody>\n",
       "</table>\n",
       "</div>"
      ],
      "text/plain": [
       "  ID         Display_Name Logitude Latitude\n",
       "0  1  Census Tract 480302 -118.121  34.1031\n",
       "1  2  Census Tract 480303 -118.138  34.0965\n",
       "2  3  Census Tract 480304 -118.131  34.0963\n",
       "3  4  Census Tract 480400 -118.132  34.1035\n",
       "4  5  Census Tract 480500 -118.145  34.0987"
      ]
     },
     "execution_count": 72,
     "metadata": {},
     "output_type": "execute_result"
    }
   ],
   "source": [
    "id_to_coordinate.head()"
   ]
  },
  {
   "cell_type": "code",
   "execution_count": 73,
   "metadata": {},
   "outputs": [],
   "source": [
    "ggcVertexSeq = g_giant_flow.vs()\n",
    "for i in range(len(g_giant.vs())):\n",
    "    if g_giant_flow.vs[i][\"Display_Name\"] == \"100 Campus Drive, Stanford\":\n",
    "        source_vertex_id = i\n",
    "    elif g_giant_flow.vs[i][\"Display_Name\"] == \"700 Meder Street, Santa Cruz\":\n",
    "        destination_vertex_id = i"
   ]
  },
  {
   "cell_type": "code",
   "execution_count": 74,
   "metadata": {},
   "outputs": [
    {
     "data": {
      "text/plain": [
       "'Census Tract 134306'"
      ]
     },
     "execution_count": 74,
     "metadata": {},
     "output_type": "execute_result"
    }
   ],
   "source": [
    "g_giant_flow.vs[1][\"Display_Name\"]"
   ]
  },
  {
   "cell_type": "code",
   "execution_count": 76,
   "metadata": {},
   "outputs": [],
   "source": [
    "source_vertex_id=1614\n",
    "destination_vertex_id=868"
   ]
  },
  {
   "cell_type": "code",
   "execution_count": 77,
   "metadata": {},
   "outputs": [
    {
     "data": {
      "text/plain": [
       "igraph.Vertex(<igraph.Graph object at 0x7fdcff222c50>, 1614, {'name': '1523', 'Display_Name': 'Census Tract 262604', 'Coordinate': (-118.54625915050165, 34.048403046822735)})"
      ]
     },
     "execution_count": 77,
     "metadata": {},
     "output_type": "execute_result"
    }
   ],
   "source": [
    "g_giant_flow.vs[source_vertex_id]"
   ]
  },
  {
   "cell_type": "code",
   "execution_count": 78,
   "metadata": {},
   "outputs": [
    {
     "data": {
      "text/plain": [
       "igraph.Vertex(<igraph.Graph object at 0x7fdcff222c50>, 868, {'name': '2396', 'Display_Name': 'Census Tract 543502', 'Coordinate': (-118.29198905737708, 33.84063490983606)})"
      ]
     },
     "execution_count": 78,
     "metadata": {},
     "output_type": "execute_result"
    }
   ],
   "source": [
    "g_giant_flow.vs[destination_vertex_id]"
   ]
  },
  {
   "cell_type": "code",
   "execution_count": 85,
   "metadata": {},
   "outputs": [],
   "source": [
    "#g_giant_flow.maxflow(source_vertex_id, destination_vertex_id, capacity = \"Flow\")"
   ]
  },
  {
   "cell_type": "code",
   "execution_count": 86,
   "metadata": {},
   "outputs": [],
   "source": [
    "# For undirected graphs this entry is bit trickier, since for these the flow direction is not predetermined by \n",
    "# the edge direction. For these graphs the elements of the this vector can be negative, this means that the flow \n",
    "# goes from the bigger vertex id to the smaller one. Positive values mean that the flow goes from the smaller vertex \n",
    "# id to the bigger one.\n",
    "# Ford-Fulkerson Algorithm \n",
    "# https://www.geeksforgeeks.org/ford-fulkerson-algorithm-for-maximum-flow-problem/\n",
    "# https://www.hackerearth.com/practice/algorithms/graphs/maximum-flow/tutorial/\n",
    "ggc_maxflow = g_giant_flow.maxflow(source_vertex_id, destination_vertex_id, capacity = \"Flow\")"
   ]
  },
  {
   "cell_type": "code",
   "execution_count": 87,
   "metadata": {},
   "outputs": [],
   "source": [
    "ggc_maxflow_value = g_giant_flow.maxflow_value(source_vertex_id, destination_vertex_id, capacity = \"Flow\")"
   ]
  },
  {
   "cell_type": "code",
   "execution_count": 88,
   "metadata": {},
   "outputs": [
    {
     "name": "stdout",
     "output_type": "stream",
     "text": [
      "The maxflow value is 2660588.2499794797\n"
     ]
    }
   ],
   "source": [
    "print(\"The maxflow value is {}\".format(ggc_maxflow_value))"
   ]
  },
  {
   "cell_type": "code",
   "execution_count": 89,
   "metadata": {},
   "outputs": [],
   "source": [
    "# The edge connectivity between two given vertices is the number of edges that have to be removed in order to \n",
    "# disconnect the two vertices into two separate components. This is also the number of edge disjoint directed paths \n",
    "# between the vertices. The edge connectivity of the graph is the minimal edge connectivity over all vertex pairs.\n",
    "# The edge connectivity between two given vertices is the number of edges that have to be removed in order to \n",
    "# disconnect the two vertices into two separate components. This is also the number of edge disjoint directed paths \n",
    "# between the vertices. The edge connectivity of the graph is the minimal edge connectivity over all vertex pairs.\n",
    "# https://www.cs.cmu.edu/~ckingsf/bioinfo-lectures/edgedisjoint.pdf\n",
    "gcc_edge_disjoint_paths = g_giant_flow.edge_disjoint_paths(source_vertex_id, destination_vertex_id)"
   ]
  },
  {
   "cell_type": "code",
   "execution_count": 90,
   "metadata": {},
   "outputs": [
    {
     "name": "stdout",
     "output_type": "stream",
     "text": [
      "The number of edge-disjoint paths is 910\n"
     ]
    }
   ],
   "source": [
    "print(\"The number of edge-disjoint paths is {}\".format(gcc_edge_disjoint_paths))"
   ]
  },
  {
   "cell_type": "markdown",
   "metadata": {},
   "source": [
    "## Q14"
   ]
  },
  {
   "cell_type": "markdown",
   "metadata": {},
   "source": [
    "### (1) remove edges to prune the triangulation graph"
   ]
  },
  {
   "cell_type": "code",
   "execution_count": null,
   "metadata": {},
   "outputs": [],
   "source": [
    "tri.simplices[0]"
   ]
  },
  {
   "cell_type": "code",
   "execution_count": null,
   "metadata": {},
   "outputs": [],
   "source": [
    "a = [1,2,3]\n",
    "print(set((1,2)) == set((2,1)))\n",
    "print((1,2) == (2,1))"
   ]
  },
  {
   "cell_type": "code",
   "execution_count": null,
   "metadata": {},
   "outputs": [],
   "source": [
    "d = set()\n",
    "d.add(1)\n",
    "d.add(1)\n",
    "d"
   ]
  },
  {
   "cell_type": "code",
   "execution_count": null,
   "metadata": {},
   "outputs": [],
   "source": [
    "print(type(tri.simplices))\n",
    "print(type(tri.simplices[0]))"
   ]
  },
  {
   "cell_type": "code",
   "execution_count": null,
   "metadata": {},
   "outputs": [],
   "source": [
    "# Delaunay triangulation might generate some edges that are not in the graph\n",
    "# check all the edges of all the triangles generated by Delaunay\n",
    "# If the edge is not in the the edgelist of the graph\n",
    "# Or if the edge mean_travel_time is lower than the set THRESHOLD\n",
    "# Then remove this edge\n",
    "# tri.simplices return the triangle arrays, each array have the 3 vertex indeces\n",
    "# which corresponds to the vertex id in the graph object\n",
    "# use set to compare, because set doesn't have order \n",
    "\n",
    "# iterate triangulation edges, to avoid duplicate, use the hashset\n",
    "triangles = tri.simplices\n",
    "triangles_set = set()\n",
    "\n",
    "for triangle in triangles:\n",
    "    a = (triangle[0], triangle[1])\n",
    "    b = (triangle[1], triangle[2])\n",
    "    c = (triangle[2], triangle[0])\n",
    "    triangles_set.add(a)\n",
    "    triangles_set.add(b)\n",
    "    triangles_set.add(c)      \n"
   ]
  },
  {
   "cell_type": "code",
   "execution_count": null,
   "metadata": {},
   "outputs": [],
   "source": [
    "# convert EdgeSeq to hashdict to facilitate edge finding\n",
    "gcc_EdgeSeq = igraph.EdgeSeq(g_giant)\n",
    "edge_to_time = {}\n",
    "for es in gcc_EdgeSeq:\n",
    "    edge_to_time[es.tuple] = es[\"mean_travel_time\"]\n",
    "    \n",
    "len(edge_to_time)"
   ]
  },
  {
   "cell_type": "code",
   "execution_count": null,
   "metadata": {},
   "outputs": [],
   "source": [
    "edge_idx_array = []\n",
    "for es in gcc_EdgeSeq:\n",
    "    edge_idx_array.append(es.tuple[0])\n",
    "    edge_idx_array.append(es.tuple[1])\n",
    "print(min(edge_idx_array))\n",
    "print(max(edge_idx_array))"
   ]
  },
  {
   "cell_type": "code",
   "execution_count": null,
   "metadata": {},
   "outputs": [],
   "source": [
    "edge_to_time"
   ]
  },
  {
   "cell_type": "code",
   "execution_count": null,
   "metadata": {},
   "outputs": [],
   "source": [
    "# convert EdgeSeq to hashset to facilitate edge finding\n",
    "edge_set = set()\n",
    "for es in gcc_EdgeSeq:\n",
    "    edge_set.add(es.tuple)\n",
    "    \n",
    "len(edge_set)"
   ]
  },
  {
   "cell_type": "code",
   "execution_count": null,
   "metadata": {},
   "outputs": [],
   "source": [
    "edge_set"
   ]
  },
  {
   "cell_type": "code",
   "execution_count": null,
   "metadata": {},
   "outputs": [],
   "source": [
    "triangles_set"
   ]
  },
  {
   "cell_type": "code",
   "execution_count": null,
   "metadata": {},
   "outputs": [],
   "source": [
    "# check if the triangulation edges are in the EdgeSeq\n",
    "# note that AB and BA are the same edge\n",
    "new_triEdge_to_time = {}\n",
    "for tri_edge in triangles_set:        \n",
    "    time_temp = edge_to_time.get(tri_edge)\n",
    "    if time_temp:\n",
    "        new_triEdge_to_time[tri_edge] = time_temp\n",
    "    else:\n",
    "        edge_reverse = tuple((tri_edge[1], tri_edge[0]))\n",
    "        time_temp = edge_to_time.get(edge_reverse)\n",
    "        if time_temp:\n",
    "            new_triEdge_to_time[edge_reverse] = time_temp\n",
    "\n",
    "len(new_triEdge_to_time)"
   ]
  },
  {
   "cell_type": "code",
   "execution_count": null,
   "metadata": {},
   "outputs": [],
   "source": [
    "type(new_triEdge_to_time.values())"
   ]
  },
  {
   "cell_type": "code",
   "execution_count": null,
   "metadata": {},
   "outputs": [],
   "source": [
    "np.array(list(new_triEdge_to_time.values())).mean()"
   ]
  },
  {
   "cell_type": "code",
   "execution_count": null,
   "metadata": {},
   "outputs": [],
   "source": [
    "new_triEdge_to_time"
   ]
  },
  {
   "cell_type": "code",
   "execution_count": null,
   "metadata": {},
   "outputs": [],
   "source": [
    "# check the triangulation edges in the new_triEdge_to_time dictionary are lower than the THRESHOLD\n",
    "THRESHOLD = 600\n",
    "\n",
    "# to avoid changing dictionary size during iterateration which is not allowed b/c items return the iterators\n",
    "# create a new dictionary and add item into it\n",
    "threshold_triEdge_to_time = {}\n",
    "for edge_key, edge_time in new_triEdge_to_time.items():\n",
    "    if edge_time < THRESHOLD:\n",
    "        threshold_triEdge_to_time[edge_key] = edge_time\n",
    "        \n",
    "len(threshold_triEdge_to_time)"
   ]
  },
  {
   "cell_type": "code",
   "execution_count": null,
   "metadata": {},
   "outputs": [],
   "source": [
    "threshold_triEdge_to_time"
   ]
  },
  {
   "cell_type": "code",
   "execution_count": null,
   "metadata": {
    "scrolled": true
   },
   "outputs": [],
   "source": [
    "print(\"The number of edges after triangulation: {}\".format(len(triangles_set)))\n",
    "print(\"The number of edges after triangulation also in the edgelist: {}\".format(len(new_triEdge_to_time)))\n",
    "print(\"The number of edges after pruning (in the edgelist also within threshold): {}\".format(len(threshold_triEdge_to_time)))"
   ]
  },
  {
   "cell_type": "markdown",
   "metadata": {},
   "source": [
    "### (2) create the pruned graph"
   ]
  },
  {
   "cell_type": "code",
   "execution_count": null,
   "metadata": {},
   "outputs": [],
   "source": [
    "# convert the dictionary to a dataframe to get ready for the graph creation\n",
    "col_names = [\"V1\", \"V2\", \"mean_travel_time\"]\n",
    "triEdge_df = pd.DataFrame(columns = col_names)\n",
    "\n",
    "i = 0\n",
    "for edge_key, edge_time in threshold_triEdge_to_time.items():\n",
    "    triEdge_df.loc[i,\"V1\"] = str(edge_key[0])\n",
    "    triEdge_df.loc[i,\"V2\"] = str(edge_key[1])\n",
    "    triEdge_df.loc[i,\"mean_travel_time\"] = edge_time\n",
    "    i = i+1"
   ]
  },
  {
   "cell_type": "code",
   "execution_count": null,
   "metadata": {},
   "outputs": [],
   "source": [
    "triEdge_df.head()"
   ]
  },
  {
   "cell_type": "code",
   "execution_count": null,
   "metadata": {},
   "outputs": [],
   "source": [
    "len(triEdge_df)"
   ]
  },
  {
   "cell_type": "code",
   "execution_count": null,
   "metadata": {},
   "outputs": [],
   "source": [
    "# create a graph from the data_meanTime_Dec dataframe\n",
    "tuples_prune = [tuple(x) for x in triEdge_df.values]\n",
    "g_giant_prune = igraph.Graph.TupleList(tuples_prune, directed = False, edge_attrs = [\"mean_travel_time\"])"
   ]
  },
  {
   "cell_type": "code",
   "execution_count": null,
   "metadata": {},
   "outputs": [],
   "source": [
    "g_giant_prune.summary()"
   ]
  },
  {
   "cell_type": "code",
   "execution_count": null,
   "metadata": {},
   "outputs": [],
   "source": [
    "g_giant_prune.vs[0][\"name\"]"
   ]
  },
  {
   "cell_type": "markdown",
   "metadata": {},
   "source": [
    "### (3) add coordinates attributes to the pruned graph"
   ]
  },
  {
   "cell_type": "code",
   "execution_count": null,
   "metadata": {},
   "outputs": [],
   "source": [
    "# from Q11 \n",
    "# coordinates extracted from the Geo json file\n",
    "# dataframe of coordinates of different vertex indices\n",
    "coordinates_df.head()"
   ]
  },
  {
   "cell_type": "code",
   "execution_count": null,
   "metadata": {},
   "outputs": [],
   "source": [
    "id_to_coordinate.head()"
   ]
  },
  {
   "cell_type": "code",
   "execution_count": null,
   "metadata": {},
   "outputs": [],
   "source": [
    "coordinates_df.iloc[0,1]"
   ]
  },
  {
   "cell_type": "code",
   "execution_count": null,
   "metadata": {},
   "outputs": [],
   "source": [
    "# Denaulay for Q11 is constructed from the graph, for the index, point1 for Denaulay is the point1 in g_giant\n",
    "# on the graph g_giant [\"name\"] attribute is +1 over the index\n",
    "# g_giant [\"name\"] = g_giant_prune [\"name\"] = Denaulay index have the same meaning\n",
    "# index in the coordinates_df = g_giant [\"name\"]-1\n",
    "# index NOT equal to [\"name\"]\n",
    "\n",
    "gVertexSeq_prune = g_giant_prune.vs()\n",
    "gVertexSeq = g_giant.vs()\n",
    "for v in gVertexSeq_prune:\n",
    "    idx_in_coordinatesDF = int(v[\"name\"])-1\n",
    "    v[\"Coordinate\"] = (id_to_coordinate.iloc[idx_in_coordinatesDF, 2],\n",
    "                       id_to_coordinate.iloc[idx_in_coordinatesDF, 3])\n",
    "    v[\"Display_Name\"] = id_to_coordinate.iloc[idx_in_coordinatesDF, 1]"
   ]
  },
  {
   "cell_type": "code",
   "execution_count": null,
   "metadata": {},
   "outputs": [],
   "source": [
    "igraph.summary(g_giant_prune)"
   ]
  },
  {
   "cell_type": "code",
   "execution_count": null,
   "metadata": {},
   "outputs": [],
   "source": [
    "g_giant_prune.vs[0][\"Display_Name\"]"
   ]
  },
  {
   "cell_type": "code",
   "execution_count": null,
   "metadata": {},
   "outputs": [],
   "source": [
    "len(gVertexSeq_prune)"
   ]
  },
  {
   "cell_type": "markdown",
   "metadata": {},
   "source": [
    "### (4) pruned graph Delaunay"
   ]
  },
  {
   "cell_type": "code",
   "execution_count": null,
   "metadata": {},
   "outputs": [],
   "source": [
    "# coordinates_array_prune for the pruned graph\n",
    "coordinates_list_prune = []\n",
    "gVertexSeq_prune = g_giant_prune.vs()\n",
    "for v in gVertexSeq_prune:\n",
    "    coordinates_list_prune.append(list(v[\"Coordinate\"]))\n",
    "coordinates_array_prune = np.array(coordinates_list_prune)"
   ]
  },
  {
   "cell_type": "code",
   "execution_count": null,
   "metadata": {},
   "outputs": [],
   "source": [
    "coordinates_array_prune"
   ]
  },
  {
   "cell_type": "code",
   "execution_count": null,
   "metadata": {},
   "outputs": [],
   "source": [
    "tri_prune = Delaunay(coordinates_array_prune)"
   ]
  },
  {
   "cell_type": "code",
   "execution_count": null,
   "metadata": {},
   "outputs": [],
   "source": [
    "x = tri_prune.points[:,0]\n",
    "y = tri_prune.points[:,1]\n",
    "plt.triplot(x, y, tri_prune.simplices, color = \"b\")\n",
    "plt.plot(x, y, 'o')\n",
    "plt.title(\"Zoom-in road mesh produced by triangulation\")\n",
    "plt.ylabel(\"Latitude (Degree)\")\n",
    "plt.xlabel(\"Longitude (Degree)\")\n",
    "plt.ylim((37.6-0.5,37.6+0.5))\n",
    "plt.xlim((-122.25-0.5,-122.25+0.5))\n",
    "plt.show()"
   ]
  },
  {
   "cell_type": "markdown",
   "metadata": {},
   "source": [
    "### (5) plot zoom-in graph"
   ]
  },
  {
   "cell_type": "code",
   "execution_count": null,
   "metadata": {},
   "outputs": [],
   "source": [
    "# convert to dictionary, b/c dictionary dict.get(key) search complexity is O(1)\n",
    "displayName_to_coordinate = {}\n",
    "n = len(id_to_coordinate)\n",
    "for i in range(n):\n",
    "    displayName_to_coordinate[id_to_coordinate.iloc[i,1]] = ((id_to_coordinate.iloc[i,2]),(id_to_coordinate.iloc[i,3]))\n",
    "    "
   ]
  },
  {
   "cell_type": "code",
   "execution_count": null,
   "metadata": {},
   "outputs": [],
   "source": [
    "displayName_to_coordinate"
   ]
  },
  {
   "cell_type": "code",
   "execution_count": null,
   "metadata": {},
   "outputs": [],
   "source": [
    "displayName_to_coordinate.get(\"100 Campus Drive, Stanford\")"
   ]
  },
  {
   "cell_type": "code",
   "execution_count": null,
   "metadata": {},
   "outputs": [],
   "source": [
    "displayName_to_coordinate.get(\"700 Meder Street, Santa Cruz\")"
   ]
  },
  {
   "cell_type": "code",
   "execution_count": null,
   "metadata": {},
   "outputs": [],
   "source": [
    "# (-122.1759822222222, 37.42968588888888)\n",
    "x = tri_prune.points[:,0]\n",
    "y = tri_prune.points[:,1]\n",
    "plt.triplot(x, y, tri_prune.simplices, color = \"b\")\n",
    "plt.plot(x, y, 'o')\n",
    "plt.title(\"Zoom-in Stanford neighbourhood produced by triangulation\")\n",
    "plt.ylabel(\"Latitude (Degree)\")\n",
    "plt.xlabel(\"Longitude (Degree)\")\n",
    "plt.ylim((37.43-0.06,37.43+0.06))\n",
    "plt.xlim((-122.18-0.06,-122.18+0.06))\n",
    "\n",
    "plt.plot(-122.1759822222222, 37.42968588888888, 'r.', ms = 20)\n",
    "plt.show()"
   ]
  },
  {
   "cell_type": "code",
   "execution_count": null,
   "metadata": {},
   "outputs": [],
   "source": [
    "# (-122.06456181081083, 36.97416881081081)\n",
    "x = tri_prune.points[:,0]\n",
    "y = tri_prune.points[:,1]\n",
    "plt.triplot(x, y, tri_prune.simplices, color = \"b\")\n",
    "plt.plot(x, y, 'o')\n",
    "plt.title(\"Zoom-in UCSC neighbourhood produced by triangulation\")\n",
    "plt.ylabel(\"Latitude (Degree)\")\n",
    "plt.xlabel(\"Longitude (Degree)\")\n",
    "plt.ylim((36.97-0.06,36.97+0.06))\n",
    "plt.xlim((-122.06-0.06,-122.06+0.06))\n",
    "\n",
    "plt.plot(-122.06456181081083, 36.97416881081081, 'r.', ms = 20)\n",
    "plt.show()"
   ]
  },
  {
   "cell_type": "markdown",
   "metadata": {},
   "source": [
    "### (6) plot pruned graph"
   ]
  },
  {
   "cell_type": "code",
   "execution_count": null,
   "metadata": {},
   "outputs": [],
   "source": [
    "# from Q11 \n",
    "# coordinates extracted from the Geo json file\n",
    "# dataframe of coordinates of different vertex indices\n",
    "coordinates_df.head()"
   ]
  },
  {
   "cell_type": "code",
   "execution_count": null,
   "metadata": {},
   "outputs": [],
   "source": [
    "coordinates_df.iloc[0,1]"
   ]
  },
  {
   "cell_type": "code",
   "execution_count": null,
   "metadata": {},
   "outputs": [],
   "source": [
    "threshold_triEdge_to_time"
   ]
  },
  {
   "cell_type": "code",
   "execution_count": null,
   "metadata": {},
   "outputs": [],
   "source": [
    "plt.figure()\n",
    "gVertexSeq = g_giant.vs()\n",
    "for edge_key in threshold_triEdge_to_time:\n",
    "    point1_idx = edge_key[0]\n",
    "    point1_idx_original = int(gVertexSeq[point1_idx][\"name\"])-1\n",
    "    point1_coordinate = [coordinates_df.iloc[point1_idx_original,0], coordinates_df.iloc[point1_idx_original,1]]\n",
    "    point2_idx = edge_key[1]\n",
    "    point2_idx_original = int(gVertexSeq[point2_idx][\"name\"])-1\n",
    "    point2_coordinate = [coordinates_df.iloc[point2_idx_original,0], coordinates_df.iloc[point2_idx_original,1]]\n",
    "    \n",
    "    points = np.array([point1_coordinate, point2_coordinate])\n",
    "    plt.plot(points[:,0], points[:,1], color = \"b\")\n",
    "\n",
    "plt.ylim((37.6-0.5,37.6+0.5))\n",
    "plt.xlim((-122.25-0.5,-122.25+0.5))\n",
    "\n",
    "\n",
    "# add centers of the bridges\n",
    "center_1 = [(-122.475+-122.479)/2, (37.806+37.83)/2]\n",
    "center_2 = [(-122.501+-122.387)/2, (37.956+37.93)/2]\n",
    "center_3 = [(-122.273+-122.122)/2, (37.563+37.627)/2]\n",
    "center_4 = [(-122.142+-122.067)/2, (37.486+37.54)/2]\n",
    "center_5 = [(-122.388+-122.302)/2, (37.788+37.825)/2]\n",
    "\n",
    "centers = np.array([center_1, center_2, center_3, center_4, center_5])\n",
    "plt.plot(centers[:,0], centers[:,1], 'r.')\n",
    "plt.title(\"Zoom-in pruned graph with 5 bridge centers\")\n",
    "plt.ylabel(\"Latitude (Degree)\")\n",
    "plt.xlabel(\"Longitude (Degree)\")\n",
    "plt.show()\n"
   ]
  },
  {
   "cell_type": "code",
   "execution_count": null,
   "metadata": {},
   "outputs": [],
   "source": [
    "# (-122.1759822222222, 37.42968588888888)\n",
    "# zoom in Stanford\n",
    "gVertexSeq = g_giant.vs()\n",
    "for edge_key in threshold_triEdge_to_time:\n",
    "    point1_idx = edge_key[0]\n",
    "    point1_idx_original = int(gVertexSeq[point1_idx][\"name\"])-1\n",
    "    point1_coordinate = [coordinates_df.iloc[point1_idx_original,0], coordinates_df.iloc[point1_idx_original,1]]\n",
    "    point2_idx = edge_key[1]\n",
    "    point2_idx_original = int(gVertexSeq[point2_idx][\"name\"])-1\n",
    "    point2_coordinate = [coordinates_df.iloc[point2_idx_original,0], coordinates_df.iloc[point2_idx_original,1]]\n",
    "    \n",
    "    points = np.array([point1_coordinate, point2_coordinate])\n",
    "    plt.plot(points[:,0], points[:,1], color = \"b\")\n",
    "    \n",
    "\n",
    "plt.title(\"Zoom-in Stanford neighbourhood after pruned\")\n",
    "plt.ylabel(\"Latitude (Degree)\")\n",
    "plt.xlabel(\"Longitude (Degree)\")\n",
    "plt.ylim((37.43-0.06,37.43+0.06))\n",
    "plt.xlim((-122.18-0.06,-122.18+0.06))\n",
    "\n",
    "plt.plot(-122.1759822222222, 37.42968588888888, 'r.', ms = 20)\n",
    "plt.show()"
   ]
  },
  {
   "cell_type": "code",
   "execution_count": null,
   "metadata": {},
   "outputs": [],
   "source": [
    "# (-122.06456181081083, 36.97416881081081)\n",
    "# zoom in UCSC\n",
    "gVertexSeq = g_giant.vs()\n",
    "for edge_key in threshold_triEdge_to_time:\n",
    "    point1_idx = edge_key[0]\n",
    "    point1_idx_original = int(gVertexSeq[point1_idx][\"name\"])-1\n",
    "    point1_coordinate = [coordinates_df.iloc[point1_idx_original,0], coordinates_df.iloc[point1_idx_original,1]]\n",
    "    point2_idx = edge_key[1]\n",
    "    point2_idx_original = int(gVertexSeq[point2_idx][\"name\"])-1\n",
    "    point2_coordinate = [coordinates_df.iloc[point2_idx_original,0], coordinates_df.iloc[point2_idx_original,1]]\n",
    "    \n",
    "    points = np.array([point1_coordinate, point2_coordinate])\n",
    "    plt.plot(points[:,0], points[:,1], color = \"b\")\n",
    "    \n",
    "\n",
    "plt.title(\"Zoom-in UCSC neighbourhood after pruned\")\n",
    "plt.ylabel(\"Latitude (Degree)\")\n",
    "plt.xlabel(\"Longitude (Degree)\")\n",
    "plt.ylim((36.97-0.06,36.97+0.06))\n",
    "plt.xlim((-122.06-0.06,-122.06+0.06))\n",
    "\n",
    "plt.plot(-122.06456181081083, 36.97416881081081, 'r.', ms = 20)\n",
    "plt.show()"
   ]
  },
  {
   "cell_type": "code",
   "execution_count": null,
   "metadata": {},
   "outputs": [],
   "source": [
    "coordinates_df.iloc[74,0]"
   ]
  },
  {
   "cell_type": "code",
   "execution_count": null,
   "metadata": {},
   "outputs": [],
   "source": [
    "EdgeSeq_prune = igraph.EdgeSeq(g_giant_prune)\n",
    "EdgeSeq_prune[0].tuple"
   ]
  },
  {
   "cell_type": "code",
   "execution_count": null,
   "metadata": {},
   "outputs": [],
   "source": [
    "plt.figure()\n",
    "EdgeSeq_prune = igraph.EdgeSeq(g_giant_prune)\n",
    "VetexSeq_prune = g_giant_prune.vs()\n",
    "for es in EdgeSeq_prune:\n",
    "    v1_idx = es.tuple[0]\n",
    "    v2_idx = es.tuple[1]\n",
    "    v1_coordinate = VetexSeq_prune[v1_idx][\"Coordinate\"]\n",
    "    v2_coordinate = VetexSeq_prune[v2_idx][\"Coordinate\"]\n",
    "    points = np.array([v1_coordinate, v2_coordinate])\n",
    "    plt.plot(points[:,0], points[:,1], \"b.\")\n",
    "\n",
    "plt.ylim((37.6-0.5,37.6+0.5))\n",
    "plt.xlim((-122.25-0.5,-122.25+0.5))"
   ]
  },
  {
   "cell_type": "code",
   "execution_count": null,
   "metadata": {},
   "outputs": [],
   "source": [
    "for edge_key in threshold_triEdge_to_time:\n",
    "    x_idx = edge_key[0]\n",
    "    x = [coordinates_df.iloc[x_idx,0], coordinates_df.iloc[x_idx,1]]\n",
    "    y_idx = edge_key[1]\n",
    "    y = [coordinates_df.iloc[y_idx,0], coordinates_df.iloc[y_idx,1]]\n",
    "    print(x,y)"
   ]
  },
  {
   "cell_type": "markdown",
   "metadata": {},
   "source": [
    "## Q15"
   ]
  },
  {
   "cell_type": "code",
   "execution_count": null,
   "metadata": {},
   "outputs": [],
   "source": [
    "# repeat Q12 to add flow attribute to the pruned graph g_giant_prune\n",
    "gcc_EdgeSeq = igraph.EdgeSeq(g_giant_prune)\n",
    "i = 0\n",
    "for es in gcc_EdgeSeq:\n",
    "    vertex_id_1 = es.tuple[0]\n",
    "    vertex_id_2 = es.tuple[1]\n",
    "    coordinate_1 = g_giant_prune.vs[vertex_id_1][\"Coordinate\"]\n",
    "    coordinate_2 = g_giant_prune.vs[vertex_id_2][\"Coordinate\"]\n",
    "    dist = 69*distance.euclidean(coordinate_1, coordinate_2)# each degree of latitude and longitude is about 69 miles\n",
    "    time = es[\"mean_travel_time\"]/3600 # convert second to hour\n",
    "    if dist == 0:\n",
    "        continue\n",
    "    flow = calculate_flow(dist, time)\n",
    "    es[\"Flow\"] = flow\n",
    "    i = i+1\n",
    "    \n",
    "g_giant_prune.summary()"
   ]
  },
  {
   "cell_type": "code",
   "execution_count": null,
   "metadata": {},
   "outputs": [],
   "source": [
    "# repeat Q13 with the pruned graph g_giant_prune\n",
    "ggcVertexSeq = g_giant_prune.vs()\n",
    "for i in range(len(g_giant_prune.vs())):\n",
    "    if g_giant_prune.vs[i][\"Display_Name\"] == \"100 Campus Drive, Stanford\":\n",
    "        source_vertex_id = i\n",
    "    elif g_giant_prune.vs[i][\"Display_Name\"] == \"700 Meder Street, Santa Cruz\":\n",
    "        destination_vertex_id = i"
   ]
  },
  {
   "cell_type": "code",
   "execution_count": null,
   "metadata": {},
   "outputs": [],
   "source": [
    "g_giant_prune.maxflow(source_vertex_id, destination_vertex_id, capacity = \"Flow\")"
   ]
  },
  {
   "cell_type": "code",
   "execution_count": null,
   "metadata": {},
   "outputs": [],
   "source": [
    "ggc_maxflow_value = g_giant_prune.maxflow_value(source_vertex_id, destination_vertex_id, capacity = \"Flow\")\n",
    "print(\"The maxflow value is {}\".format(ggc_maxflow_value))"
   ]
  },
  {
   "cell_type": "code",
   "execution_count": null,
   "metadata": {},
   "outputs": [],
   "source": [
    "gcc_edge_disjoint_paths = g_giant_prune.edge_disjoint_paths(source_vertex_id, destination_vertex_id)\n",
    "print(\"The number of edge-disjoint paths is {}\".format(gcc_edge_disjoint_paths))"
   ]
  },
  {
   "cell_type": "markdown",
   "metadata": {},
   "source": [
    "## Q10"
   ]
  },
  {
   "cell_type": "markdown",
   "metadata": {},
   "source": [
    "### (1) trajectory by 1-approximate algorithm"
   ]
  },
  {
   "cell_type": "code",
   "execution_count": null,
   "metadata": {},
   "outputs": [],
   "source": [
    "tour_data = pd.read_csv(\"tour_path_coordinates.csv\", sep = \",\", header = None)"
   ]
  },
  {
   "cell_type": "code",
   "execution_count": null,
   "metadata": {},
   "outputs": [],
   "source": [
    "tour_data.head()"
   ]
  },
  {
   "cell_type": "code",
   "execution_count": null,
   "metadata": {},
   "outputs": [],
   "source": [
    "tour_data.values"
   ]
  },
  {
   "cell_type": "code",
   "execution_count": null,
   "metadata": {},
   "outputs": [],
   "source": [
    "plt.figure()\n",
    "plt.plot(tour_data.values[:,0], tour_data.values[:,1], color = \"b\")\n",
    "plt.title(\"Trajectory created by 1-approximate algorithm\")\n",
    "plt.ylabel(\"Latitude (Degree)\")\n",
    "plt.xlabel(\"Longitude (Degree)\")\n",
    "plt.show()"
   ]
  },
  {
   "cell_type": "code",
   "execution_count": null,
   "metadata": {},
   "outputs": [],
   "source": [
    "g_giant_mst = g_giant.spanning_tree(weights = g_giant.es[\"mean_travel_time\"])"
   ]
  },
  {
   "cell_type": "code",
   "execution_count": null,
   "metadata": {},
   "outputs": [],
   "source": [
    "g_giant_mst.vs[0]"
   ]
  },
  {
   "cell_type": "code",
   "execution_count": null,
   "metadata": {},
   "outputs": [],
   "source": [
    "id_to_coordinate.loc[1981]"
   ]
  },
  {
   "cell_type": "code",
   "execution_count": null,
   "metadata": {},
   "outputs": [],
   "source": [
    "id_to_coordinate.head()"
   ]
  },
  {
   "cell_type": "code",
   "execution_count": null,
   "metadata": {},
   "outputs": [],
   "source": [
    "# convert to dictionary, b/c dictionary dict.get(key) search complexity is O(1)\n",
    "coordinate_to_displayName = {}\n",
    "n = len(id_to_coordinate)\n",
    "for i in range(n):\n",
    "    coordinate_to_displayName[(round(id_to_coordinate.iloc[i,2],2),round(id_to_coordinate.iloc[i,3],2))] = id_to_coordinate.iloc[i,1]"
   ]
  },
  {
   "cell_type": "code",
   "execution_count": null,
   "metadata": {},
   "outputs": [],
   "source": [
    "coordinate_to_displayName"
   ]
  },
  {
   "cell_type": "code",
   "execution_count": null,
   "metadata": {},
   "outputs": [],
   "source": [
    "# print the first 10 nodes of the trajectory sequence\n",
    "# need to round to 2 decimal places or the get key function is hard to match the exact value\n",
    "\n",
    "# create an empty dataframe\n",
    "col_names = [\"Step\", \"Trajectory node address\"]\n",
    "tour_nodes_df = pd.DataFrame(columns = col_names)\n",
    "\n",
    "# put the trajectory nodes into the dataframe\n",
    "for i in range(60):\n",
    "    tour_node = coordinate_to_displayName.get((round(tour_data.values[i][0],2), round(tour_data.values[i][1],2)))\n",
    "    tour_nodes_df.loc[i,\"Step\"] = int(i+1)\n",
    "    tour_nodes_df.loc[i,\"Trajectory node address\"] = tour_node\n",
    "\n",
    "tour_nodes_df"
   ]
  },
  {
   "cell_type": "code",
   "execution_count": null,
   "metadata": {},
   "outputs": [],
   "source": []
  },
  {
   "cell_type": "markdown",
   "metadata": {},
   "source": [
    "### (2) trajectory by mst"
   ]
  },
  {
   "cell_type": "code",
   "execution_count": null,
   "metadata": {},
   "outputs": [],
   "source": [
    "mst_array = []\n",
    "mst_VertexSeq = g_giant_mst.vs()\n",
    "for v in mst_VertexSeq:\n",
    "    mst_array.append(list(v[\"Coordinate\"]))"
   ]
  },
  {
   "cell_type": "code",
   "execution_count": null,
   "metadata": {},
   "outputs": [],
   "source": [
    "mst_EdgeSeq = igraph.EdgeSeq(g_giant_mst)"
   ]
  },
  {
   "cell_type": "code",
   "execution_count": null,
   "metadata": {},
   "outputs": [],
   "source": [
    "mst_EdgeSeq[0].tuple"
   ]
  },
  {
   "cell_type": "code",
   "execution_count": null,
   "metadata": {},
   "outputs": [],
   "source": [
    "plt.figure()\n",
    "gVertexSeq = g_giant.vs()\n",
    "for edge in mst_EdgeSeq:\n",
    "    point1_idx = edge.tuple[0]\n",
    "    point1_idx_original = int(gVertexSeq[point1_idx][\"name\"])-1\n",
    "    point1_coordinate = [coordinates_df.iloc[point1_idx_original,0], coordinates_df.iloc[point1_idx_original,1]]\n",
    "    point2_idx = edge.tuple[1]\n",
    "    point2_idx_original = int(gVertexSeq[point2_idx][\"name\"])-1\n",
    "    point2_coordinate = [coordinates_df.iloc[point2_idx_original,0], coordinates_df.iloc[point2_idx_original,1]]\n",
    "    \n",
    "    points = np.array([point1_coordinate, point2_coordinate])\n",
    "    plt.plot(points[:,0], points[:,1], color = \"b\")\n",
    "plt.title(\"Trajectory created by minimum spanning tree\")\n",
    "plt.ylabel(\"Latitude (Degree)\")\n",
    "plt.xlabel(\"Longitude (Degree)\")\n",
    "plt.show()"
   ]
  },
  {
   "cell_type": "code",
   "execution_count": null,
   "metadata": {},
   "outputs": [],
   "source": [
    "print(g_giant_mst)"
   ]
  },
  {
   "cell_type": "code",
   "execution_count": null,
   "metadata": {},
   "outputs": [],
   "source": [
    "g_giant_mst.vs[0]"
   ]
  },
  {
   "cell_type": "code",
   "execution_count": null,
   "metadata": {},
   "outputs": [],
   "source": [
    "g_giant_mst.vs[1]"
   ]
  },
  {
   "cell_type": "code",
   "execution_count": null,
   "metadata": {},
   "outputs": [],
   "source": [
    "g_giant_mst.vs[2]"
   ]
  },
  {
   "cell_type": "code",
   "execution_count": null,
   "metadata": {},
   "outputs": [],
   "source": [
    "g_giant_mst.vs[3]"
   ]
  },
  {
   "cell_type": "code",
   "execution_count": null,
   "metadata": {},
   "outputs": [],
   "source": [
    "g_giant_mst.vs[4]"
   ]
  },
  {
   "cell_type": "code",
   "execution_count": null,
   "metadata": {},
   "outputs": [],
   "source": [
    "g_giant_mst.vs[5]"
   ]
  },
  {
   "cell_type": "code",
   "execution_count": null,
   "metadata": {},
   "outputs": [],
   "source": [
    "mst_array = np.array(mst_array)\n",
    "mst_array"
   ]
  },
  {
   "cell_type": "code",
   "execution_count": null,
   "metadata": {},
   "outputs": [],
   "source": [
    "plt.figure()\n",
    "plt.plot(mst_array[0:100,0], mst_array[0:100,1], \"b.\")\n",
    "plt.title(\"Trajectory that Santa has to travel\")\n",
    "plt.ylabel(\"Latitude (Degree)\")\n",
    "plt.xlabel(\"Longitude (Degree)\")\n",
    "plt.show()"
   ]
  },
  {
   "cell_type": "code",
   "execution_count": null,
   "metadata": {},
   "outputs": [],
   "source": []
  }
 ],
 "metadata": {
  "kernelspec": {
   "display_name": "Python 3",
   "language": "python",
   "name": "python3"
  },
  "language_info": {
   "codemirror_mode": {
    "name": "ipython",
    "version": 3
   },
   "file_extension": ".py",
   "mimetype": "text/x-python",
   "name": "python",
   "nbconvert_exporter": "python",
   "pygments_lexer": "ipython3",
   "version": "3.7.6"
  }
 },
 "nbformat": 4,
 "nbformat_minor": 2
}
